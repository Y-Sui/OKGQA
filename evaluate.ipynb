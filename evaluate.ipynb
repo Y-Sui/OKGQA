{
 "cells": [
  {
   "cell_type": "code",
   "execution_count": 1,
   "metadata": {},
   "outputs": [
    {
     "data": {
      "text/plain": [
       "True"
      ]
     },
     "execution_count": 1,
     "metadata": {},
     "output_type": "execute_result"
    }
   ],
   "source": [
    "# -*- coding: utf-8 -*-\n",
    "import os\n",
    "import pandas as pd\n",
    "from tqdm import tqdm\n",
    "from dotenv import load_dotenv\n",
    "from metrics.hallucination.metric import HallucinationMetric\n",
    "from metrics.llm_test_case import LLMTestCase\n",
    "from methods.retriever import retrieve\n",
    "\n",
    "load_dotenv()"
   ]
  },
  {
   "cell_type": "code",
   "execution_count": 2,
   "metadata": {},
   "outputs": [
    {
     "data": {
      "text/html": [
       "<div>\n",
       "<style scoped>\n",
       "    .dataframe tbody tr th:only-of-type {\n",
       "        vertical-align: middle;\n",
       "    }\n",
       "\n",
       "    .dataframe tbody tr th {\n",
       "        vertical-align: top;\n",
       "    }\n",
       "\n",
       "    .dataframe thead th {\n",
       "        text-align: right;\n",
       "    }\n",
       "</style>\n",
       "<table border=\"1\" class=\"dataframe\">\n",
       "  <thead>\n",
       "    <tr style=\"text-align: right;\">\n",
       "      <th></th>\n",
       "      <th>question</th>\n",
       "      <th>type</th>\n",
       "      <th>placeholders</th>\n",
       "      <th>naturalness</th>\n",
       "      <th>difficulty</th>\n",
       "      <th>dbpedia_entities</th>\n",
       "      <th>id</th>\n",
       "      <th>dbpedia_entities_re</th>\n",
       "    </tr>\n",
       "  </thead>\n",
       "  <tbody>\n",
       "    <tr>\n",
       "      <th>0</th>\n",
       "      <td>Compare and contrast the philosophical viewpoi...</td>\n",
       "      <td>comparative</td>\n",
       "      <td>{'entity A': 'Socrates', 'entity B': 'Confuciu...</td>\n",
       "      <td>high</td>\n",
       "      <td>hard</td>\n",
       "      <td>{'entity A': 'http://dbpedia.org/resource/Socr...</td>\n",
       "      <td>749</td>\n",
       "      <td>{'entity A': 'http://dbpedia.org/resource/Socr...</td>\n",
       "    </tr>\n",
       "    <tr>\n",
       "      <th>1</th>\n",
       "      <td>Compare and contrast the similarities and diff...</td>\n",
       "      <td>comparative</td>\n",
       "      <td>{'entity A': 'Roman Empire', 'entity B': 'Otto...</td>\n",
       "      <td>high</td>\n",
       "      <td>hard</td>\n",
       "      <td>{'entity A': 'http://dbpedia.org/resource/Roma...</td>\n",
       "      <td>491</td>\n",
       "      <td>{'entity A': 'http://dbpedia.org/resource/Roma...</td>\n",
       "    </tr>\n",
       "    <tr>\n",
       "      <th>2</th>\n",
       "      <td>Compare and contrast the economic policies of ...</td>\n",
       "      <td>comparative</td>\n",
       "      <td>{'entity A': 'John F. Kennedy', 'entity B': 'R...</td>\n",
       "      <td>high</td>\n",
       "      <td>medium</td>\n",
       "      <td>{'entity A': 'http://dbpedia.org/resource/John...</td>\n",
       "      <td>277</td>\n",
       "      <td>{'entity A': 'http://dbpedia.org/resource/John...</td>\n",
       "    </tr>\n",
       "    <tr>\n",
       "      <th>3</th>\n",
       "      <td>Compare and contrast the economic policies of ...</td>\n",
       "      <td>comparative</td>\n",
       "      <td>{'entity A': 'New Deal', 'entity B': 'Great So...</td>\n",
       "      <td>high</td>\n",
       "      <td>medium</td>\n",
       "      <td>{'entity A': 'http://dbpedia.org/resource/New_...</td>\n",
       "      <td>20</td>\n",
       "      <td>{'entity A': 'http://dbpedia.org/resource/New_...</td>\n",
       "    </tr>\n",
       "    <tr>\n",
       "      <th>4</th>\n",
       "      <td>Compare and contrast the healthcare systems of...</td>\n",
       "      <td>comparative</td>\n",
       "      <td>{'entity A': 'United States', 'entity B': 'Can...</td>\n",
       "      <td>high</td>\n",
       "      <td>medium</td>\n",
       "      <td>{'entity A': 'http://dbpedia.org/resource/Unit...</td>\n",
       "      <td>595</td>\n",
       "      <td>{'entity A': 'http://dbpedia.org/resource/Unit...</td>\n",
       "    </tr>\n",
       "    <tr>\n",
       "      <th>5</th>\n",
       "      <td>Compare and contrast the political impacts of ...</td>\n",
       "      <td>comparative</td>\n",
       "      <td>{'historical event A': 'American Revolution', ...</td>\n",
       "      <td>high</td>\n",
       "      <td>hard</td>\n",
       "      <td>{'historical event A': 'http://dbpedia.org/res...</td>\n",
       "      <td>520</td>\n",
       "      <td>{'historical event A': 'http://dbpedia.org/res...</td>\n",
       "    </tr>\n",
       "    <tr>\n",
       "      <th>6</th>\n",
       "      <td>Compare and contrast the economic policies of ...</td>\n",
       "      <td>comparative</td>\n",
       "      <td>{'entity A': 'Ronald Reagan', 'entity B': 'Fra...</td>\n",
       "      <td>high</td>\n",
       "      <td>hard</td>\n",
       "      <td>{'entity A': 'http://dbpedia.org/resource/Rona...</td>\n",
       "      <td>611</td>\n",
       "      <td>{'entity A': 'http://dbpedia.org/resource/Rona...</td>\n",
       "    </tr>\n",
       "    <tr>\n",
       "      <th>7</th>\n",
       "      <td>Compare and contrast the educational systems o...</td>\n",
       "      <td>comparative</td>\n",
       "      <td>{'entity A': 'Finland', 'entity B': 'the Unite...</td>\n",
       "      <td>high</td>\n",
       "      <td>medium</td>\n",
       "      <td>{'entity A': 'http://dbpedia.org/resource/Finl...</td>\n",
       "      <td>383</td>\n",
       "      <td>{'entity A': 'http://dbpedia.org/resource/Finl...</td>\n",
       "    </tr>\n",
       "    <tr>\n",
       "      <th>8</th>\n",
       "      <td>Compare and contrast the similarities and diff...</td>\n",
       "      <td>comparative</td>\n",
       "      <td>{'entity A': 'Elon Musk', 'entity B': 'Jeff Be...</td>\n",
       "      <td>high</td>\n",
       "      <td>medium</td>\n",
       "      <td>{'entity A': 'http://dbpedia.org/resource/Elon...</td>\n",
       "      <td>516</td>\n",
       "      <td>{'entity A': 'http://dbpedia.org/resource/Elon...</td>\n",
       "    </tr>\n",
       "    <tr>\n",
       "      <th>9</th>\n",
       "      <td>Compare and contrast the philosophical ideolog...</td>\n",
       "      <td>comparative</td>\n",
       "      <td>{'entity A': 'Socrates', 'entity B': 'Confuciu...</td>\n",
       "      <td>high</td>\n",
       "      <td>medium</td>\n",
       "      <td>{'entity A': 'http://dbpedia.org/resource/Socr...</td>\n",
       "      <td>286</td>\n",
       "      <td>{'entity A': 'http://dbpedia.org/resource/Socr...</td>\n",
       "    </tr>\n",
       "    <tr>\n",
       "      <th>10</th>\n",
       "      <td>How do you evaluate the impact of the Industri...</td>\n",
       "      <td>critical</td>\n",
       "      <td>{'event': 'Industrial Revolution', 'field': 'm...</td>\n",
       "      <td>high</td>\n",
       "      <td>medium</td>\n",
       "      <td>{'event': 'http://dbpedia.org/resource/Industr...</td>\n",
       "      <td>323</td>\n",
       "      <td>{'event': 'http://dbpedia.org/resource/Industr...</td>\n",
       "    </tr>\n",
       "    <tr>\n",
       "      <th>11</th>\n",
       "      <td>How do you evaluate the impact of the internet...</td>\n",
       "      <td>critical</td>\n",
       "      <td>{'event': 'internet', 'field': 'modern communi...</td>\n",
       "      <td>high</td>\n",
       "      <td>medium</td>\n",
       "      <td>{'event': 'http://dbpedia.org/resource/Interne...</td>\n",
       "      <td>564</td>\n",
       "      <td>{'event': 'http://dbpedia.org/resource/Interne...</td>\n",
       "    </tr>\n",
       "    <tr>\n",
       "      <th>12</th>\n",
       "      <td>How do you evaluate the impact of social media...</td>\n",
       "      <td>critical</td>\n",
       "      <td>{'entity': 'social media', 'field': 'modern co...</td>\n",
       "      <td>high</td>\n",
       "      <td>medium</td>\n",
       "      <td>{'entity': 'http://dbpedia.org/resource/Social...</td>\n",
       "      <td>318</td>\n",
       "      <td>{'entity': 'http://dbpedia.org/resource/Social...</td>\n",
       "    </tr>\n",
       "    <tr>\n",
       "      <th>13</th>\n",
       "      <td>How do you evaluate the impact of the Internet...</td>\n",
       "      <td>critical</td>\n",
       "      <td>{'event': 'the Internet', 'field': 'global com...</td>\n",
       "      <td>high</td>\n",
       "      <td>medium</td>\n",
       "      <td>{'event': 'http://dbpedia.org/resource/Interne...</td>\n",
       "      <td>541</td>\n",
       "      <td>{'event': 'http://dbpedia.org/resource/Interne...</td>\n",
       "    </tr>\n",
       "    <tr>\n",
       "      <th>14</th>\n",
       "      <td>How do you evaluate the impact of the Industri...</td>\n",
       "      <td>critical</td>\n",
       "      <td>{'person/event': 'Industrial Revolution', 'fie...</td>\n",
       "      <td>high</td>\n",
       "      <td>medium</td>\n",
       "      <td>{'person/event': 'http://dbpedia.org/resource/...</td>\n",
       "      <td>61</td>\n",
       "      <td>{'person/event': 'http://dbpedia.org/resource/...</td>\n",
       "    </tr>\n",
       "    <tr>\n",
       "      <th>15</th>\n",
       "      <td>How do you evaluate the impact of social media...</td>\n",
       "      <td>critical</td>\n",
       "      <td>{'event': 'social media', 'field': 'political ...</td>\n",
       "      <td>high</td>\n",
       "      <td>medium</td>\n",
       "      <td>{'event': 'http://dbpedia.org/resource/Social_...</td>\n",
       "      <td>302</td>\n",
       "      <td>{'event': 'http://dbpedia.org/resource/Social_...</td>\n",
       "    </tr>\n",
       "    <tr>\n",
       "      <th>16</th>\n",
       "      <td>How do you evaluate the impact of the internet...</td>\n",
       "      <td>critical</td>\n",
       "      <td>{'person/event': 'the internet', 'field': 'mod...</td>\n",
       "      <td>high</td>\n",
       "      <td>medium</td>\n",
       "      <td>{'person/event': 'http://dbpedia.org/resource/...</td>\n",
       "      <td>718</td>\n",
       "      <td>{'person/event': 'http://dbpedia.org/resource/...</td>\n",
       "    </tr>\n",
       "    <tr>\n",
       "      <th>17</th>\n",
       "      <td>How do you evaluate the impact of the Industri...</td>\n",
       "      <td>critical</td>\n",
       "      <td>{'person/event': 'Industrial Revolution', 'fie...</td>\n",
       "      <td>high</td>\n",
       "      <td>hard</td>\n",
       "      <td>{'person/event': 'http://dbpedia.org/resource/...</td>\n",
       "      <td>213</td>\n",
       "      <td>{'person/event': 'http://dbpedia.org/resource/...</td>\n",
       "    </tr>\n",
       "    <tr>\n",
       "      <th>18</th>\n",
       "      <td>How do you evaluate the impact of the internet...</td>\n",
       "      <td>critical</td>\n",
       "      <td>{'person/event': 'the internet', 'field': 'mod...</td>\n",
       "      <td>high</td>\n",
       "      <td>medium</td>\n",
       "      <td>{'person/event': 'http://dbpedia.org/resource/...</td>\n",
       "      <td>139</td>\n",
       "      <td>{'person/event': 'http://dbpedia.org/resource/...</td>\n",
       "    </tr>\n",
       "    <tr>\n",
       "      <th>19</th>\n",
       "      <td>How do you evaluate the impact of the Industri...</td>\n",
       "      <td>critical</td>\n",
       "      <td>{'person/event': 'Industrial Revolution', 'fie...</td>\n",
       "      <td>high</td>\n",
       "      <td>hard</td>\n",
       "      <td>{'person/event': 'http://dbpedia.org/resource/...</td>\n",
       "      <td>225</td>\n",
       "      <td>{'person/event': 'http://dbpedia.org/resource/...</td>\n",
       "    </tr>\n",
       "    <tr>\n",
       "      <th>20</th>\n",
       "      <td>Provide a detailed description of the backgrou...</td>\n",
       "      <td>descriptive</td>\n",
       "      <td>{'event': 'American Civil Rights Movement'}</td>\n",
       "      <td>high</td>\n",
       "      <td>medium</td>\n",
       "      <td>{'event': 'http://dbpedia.org/resource/America...</td>\n",
       "      <td>767</td>\n",
       "      <td>{'event': 'http://dbpedia.org/resource/America...</td>\n",
       "    </tr>\n",
       "    <tr>\n",
       "      <th>21</th>\n",
       "      <td>Please describe Nelson Mandela’s contributions...</td>\n",
       "      <td>descriptive</td>\n",
       "      <td>{'person': 'Nelson Mandela'}</td>\n",
       "      <td>high</td>\n",
       "      <td>medium</td>\n",
       "      <td>{'person': 'http://dbpedia.org/resource/Nelson...</td>\n",
       "      <td>444</td>\n",
       "      <td>{'person': 'http://dbpedia.org/resource/Nelson...</td>\n",
       "    </tr>\n",
       "    <tr>\n",
       "      <th>22</th>\n",
       "      <td>Please describe Cleopatra's significant contri...</td>\n",
       "      <td>descriptive</td>\n",
       "      <td>{'person': 'Cleopatra'}</td>\n",
       "      <td>high</td>\n",
       "      <td>medium</td>\n",
       "      <td>{'person': 'http://dbpedia.org/resource/Cleopa...</td>\n",
       "      <td>565</td>\n",
       "      <td>{'person': 'http://dbpedia.org/resource/Cleopa...</td>\n",
       "    </tr>\n",
       "    <tr>\n",
       "      <th>23</th>\n",
       "      <td>Please describe Rosalind Franklin's contributi...</td>\n",
       "      <td>descriptive</td>\n",
       "      <td>{'person': 'Rosalind Franklin'}</td>\n",
       "      <td>high</td>\n",
       "      <td>medium</td>\n",
       "      <td>{'person': 'http://dbpedia.org/resource/Rosali...</td>\n",
       "      <td>534</td>\n",
       "      <td>{'person': 'http://dbpedia.org/resource/Rosali...</td>\n",
       "    </tr>\n",
       "    <tr>\n",
       "      <th>24</th>\n",
       "      <td>Please describe Alan Turing’s contributions to...</td>\n",
       "      <td>descriptive</td>\n",
       "      <td>{'person': 'Alan Turing'}</td>\n",
       "      <td>high</td>\n",
       "      <td>medium</td>\n",
       "      <td>{'person': 'http://dbpedia.org/resource/Alan_T...</td>\n",
       "      <td>395</td>\n",
       "      <td>{'person': 'http://dbpedia.org/resource/Alan_T...</td>\n",
       "    </tr>\n",
       "    <tr>\n",
       "      <th>25</th>\n",
       "      <td>Please describe Ada Lovelace’s contributions t...</td>\n",
       "      <td>descriptive</td>\n",
       "      <td>{'person': 'Ada Lovelace', 'field': 'computer ...</td>\n",
       "      <td>high</td>\n",
       "      <td>medium</td>\n",
       "      <td>{'person': 'http://dbpedia.org/resource/Ada_Lo...</td>\n",
       "      <td>155</td>\n",
       "      <td>{'person': 'http://dbpedia.org/resource/Ada_Lo...</td>\n",
       "    </tr>\n",
       "    <tr>\n",
       "      <th>26</th>\n",
       "      <td>Please describe Galileo Galilei’s contribution...</td>\n",
       "      <td>descriptive</td>\n",
       "      <td>{'person': 'Galileo Galilei', 'field': 'astron...</td>\n",
       "      <td>high</td>\n",
       "      <td>medium</td>\n",
       "      <td>{'person': 'http://dbpedia.org/resource/Galile...</td>\n",
       "      <td>737</td>\n",
       "      <td>{'person': 'http://dbpedia.org/resource/Galile...</td>\n",
       "    </tr>\n",
       "    <tr>\n",
       "      <th>27</th>\n",
       "      <td>Please describe the cultural contributions of ...</td>\n",
       "      <td>descriptive</td>\n",
       "      <td>{'person': 'Leonardo da Vinci', 'field': 'cult...</td>\n",
       "      <td>high</td>\n",
       "      <td>medium</td>\n",
       "      <td>{'person': 'http://dbpedia.org/resource/Leonar...</td>\n",
       "      <td>132</td>\n",
       "      <td>{'person': 'http://dbpedia.org/resource/Leonar...</td>\n",
       "    </tr>\n",
       "    <tr>\n",
       "      <th>28</th>\n",
       "      <td>Please describe Mary Shelley's contributions t...</td>\n",
       "      <td>descriptive</td>\n",
       "      <td>{'person': 'Mary Shelley'}</td>\n",
       "      <td>high</td>\n",
       "      <td>medium</td>\n",
       "      <td>{'person': 'http://dbpedia.org/resource/Mary_S...</td>\n",
       "      <td>414</td>\n",
       "      <td>{'person': 'http://dbpedia.org/resource/Mary_S...</td>\n",
       "    </tr>\n",
       "    <tr>\n",
       "      <th>29</th>\n",
       "      <td>Please describe Winston Churchill’s contributi...</td>\n",
       "      <td>descriptive</td>\n",
       "      <td>{'person': 'Winston Churchill'}</td>\n",
       "      <td>high</td>\n",
       "      <td>medium</td>\n",
       "      <td>{'person': 'http://dbpedia.org/resource/Winsto...</td>\n",
       "      <td>542</td>\n",
       "      <td>{'person': 'http://dbpedia.org/resource/Winsto...</td>\n",
       "    </tr>\n",
       "    <tr>\n",
       "      <th>30</th>\n",
       "      <td>Why did Abraham Lincoln decide to issue the Em...</td>\n",
       "      <td>explanatory</td>\n",
       "      <td>{'person': 'Abraham Lincoln', 'action': 'issue...</td>\n",
       "      <td>high</td>\n",
       "      <td>medium</td>\n",
       "      <td>{'person': 'http://dbpedia.org/resource/Abraha...</td>\n",
       "      <td>282</td>\n",
       "      <td>{'person': 'http://dbpedia.org/resource/Abraha...</td>\n",
       "    </tr>\n",
       "    <tr>\n",
       "      <th>31</th>\n",
       "      <td>Why did the Roman Empire fall in the 5th century?</td>\n",
       "      <td>explanatory</td>\n",
       "      <td>{'person': 'Roman Empire', 'action': 'fall', '...</td>\n",
       "      <td>high</td>\n",
       "      <td>medium</td>\n",
       "      <td>{'person': 'http://dbpedia.org/resource/Roman_...</td>\n",
       "      <td>267</td>\n",
       "      <td>{'person': 'http://dbpedia.org/resource/Roman_...</td>\n",
       "    </tr>\n",
       "    <tr>\n",
       "      <th>32</th>\n",
       "      <td>Why did the United States choose to enter Worl...</td>\n",
       "      <td>explanatory</td>\n",
       "      <td>{'person': 'the United States', 'action': 'ent...</td>\n",
       "      <td>high</td>\n",
       "      <td>medium</td>\n",
       "      <td>{'person': 'http://dbpedia.org/resource/United...</td>\n",
       "      <td>382</td>\n",
       "      <td>{'person': 'http://dbpedia.org/resource/United...</td>\n",
       "    </tr>\n",
       "    <tr>\n",
       "      <th>33</th>\n",
       "      <td>Why did Julius Caesar choose to cross the Rubi...</td>\n",
       "      <td>explanatory</td>\n",
       "      <td>{'person': 'Julius Caesar', 'action': 'cross t...</td>\n",
       "      <td>high</td>\n",
       "      <td>medium</td>\n",
       "      <td>{'person': 'http://dbpedia.org/resource/Julius...</td>\n",
       "      <td>55</td>\n",
       "      <td>{'person': 'http://dbpedia.org/resource/Julius...</td>\n",
       "    </tr>\n",
       "    <tr>\n",
       "      <th>34</th>\n",
       "      <td>Explain the relationship between the Roman Rep...</td>\n",
       "      <td>explanatory</td>\n",
       "      <td>{'entity A': 'Roman Republic', 'entity B': 'Ro...</td>\n",
       "      <td>high</td>\n",
       "      <td>hard</td>\n",
       "      <td>{'entity A': 'http://dbpedia.org/resource/Roma...</td>\n",
       "      <td>716</td>\n",
       "      <td>{'entity A': 'http://dbpedia.org/resource/Roma...</td>\n",
       "    </tr>\n",
       "    <tr>\n",
       "      <th>35</th>\n",
       "      <td>Why did Nelson Mandela choose to advocate for ...</td>\n",
       "      <td>explanatory</td>\n",
       "      <td>{'person': 'Nelson Mandela', 'action': 'advoca...</td>\n",
       "      <td>high</td>\n",
       "      <td>medium</td>\n",
       "      <td>{'person': 'http://dbpedia.org/resource/Nelson...</td>\n",
       "      <td>768</td>\n",
       "      <td>{'person': 'http://dbpedia.org/resource/Nelson...</td>\n",
       "    </tr>\n",
       "    <tr>\n",
       "      <th>36</th>\n",
       "      <td>Why did Mahatma Gandhi choose to initiate the ...</td>\n",
       "      <td>explanatory</td>\n",
       "      <td>{'person': 'Mahatma Gandhi', 'action': 'initia...</td>\n",
       "      <td>high</td>\n",
       "      <td>medium</td>\n",
       "      <td>{'person': 'http://dbpedia.org/resource/Mahatm...</td>\n",
       "      <td>163</td>\n",
       "      <td>{'person': 'http://dbpedia.org/resource/Mahatm...</td>\n",
       "    </tr>\n",
       "    <tr>\n",
       "      <th>37</th>\n",
       "      <td>Why did Mahatma Gandhi adopt nonviolent resist...</td>\n",
       "      <td>explanatory</td>\n",
       "      <td>{'person': 'Mahatma Gandhi', 'action': 'adopt ...</td>\n",
       "      <td>high</td>\n",
       "      <td>medium</td>\n",
       "      <td>{'person': 'http://dbpedia.org/resource/Mahatm...</td>\n",
       "      <td>432</td>\n",
       "      <td>{'person': 'http://dbpedia.org/resource/Mahatm...</td>\n",
       "    </tr>\n",
       "    <tr>\n",
       "      <th>38</th>\n",
       "      <td>Why did Mahatma Gandhi choose to employ non-vi...</td>\n",
       "      <td>explanatory</td>\n",
       "      <td>{'person': 'Mahatma Gandhi', 'action': 'employ...</td>\n",
       "      <td>high</td>\n",
       "      <td>medium</td>\n",
       "      <td>{'person': 'http://dbpedia.org/resource/Mahatm...</td>\n",
       "      <td>324</td>\n",
       "      <td>{'person': 'http://dbpedia.org/resource/Mahatm...</td>\n",
       "    </tr>\n",
       "    <tr>\n",
       "      <th>39</th>\n",
       "      <td>Why did Winston Churchill make the decision to...</td>\n",
       "      <td>explanatory</td>\n",
       "      <td>{'person': 'Winston Churchill', 'action': 'lea...</td>\n",
       "      <td>high</td>\n",
       "      <td>medium</td>\n",
       "      <td>{'person': 'http://dbpedia.org/resource/Winsto...</td>\n",
       "      <td>655</td>\n",
       "      <td>{'person': 'http://dbpedia.org/resource/Winsto...</td>\n",
       "    </tr>\n",
       "    <tr>\n",
       "      <th>40</th>\n",
       "      <td>Based on the historical behavior of NASA, what...</td>\n",
       "      <td>predictive</td>\n",
       "      <td>{'entity': 'NASA'}</td>\n",
       "      <td>high</td>\n",
       "      <td>medium</td>\n",
       "      <td>{'entity': 'http://dbpedia.org/resource/NASA'}</td>\n",
       "      <td>68</td>\n",
       "      <td>{'entity': 'http://dbpedia.org/resource/NASA'}</td>\n",
       "    </tr>\n",
       "    <tr>\n",
       "      <th>41</th>\n",
       "      <td>Based on recent technological trends, how do y...</td>\n",
       "      <td>predictive</td>\n",
       "      <td>{'event': 'quantum computing'}</td>\n",
       "      <td>high</td>\n",
       "      <td>hard</td>\n",
       "      <td>{'event': 'http://dbpedia.org/resource/Quantum...</td>\n",
       "      <td>616</td>\n",
       "      <td>{'event': 'http://dbpedia.org/resource/Quantum...</td>\n",
       "    </tr>\n",
       "    <tr>\n",
       "      <th>42</th>\n",
       "      <td>Based on the current trends, how do you predic...</td>\n",
       "      <td>predictive</td>\n",
       "      <td>{'event': 'renewable energy market'}</td>\n",
       "      <td>high</td>\n",
       "      <td>medium</td>\n",
       "      <td>{'event': 'http://dbpedia.org/resource/Renewab...</td>\n",
       "      <td>391</td>\n",
       "      <td>{'event': 'http://dbpedia.org/resource/Renewab...</td>\n",
       "    </tr>\n",
       "    <tr>\n",
       "      <th>43</th>\n",
       "      <td>Based on the current trends in technology, how...</td>\n",
       "      <td>predictive</td>\n",
       "      <td>{'entity': 'technology', 'event': 'development...</td>\n",
       "      <td>high</td>\n",
       "      <td>hard</td>\n",
       "      <td>{'entity': 'http://dbpedia.org/resource/Techno...</td>\n",
       "      <td>261</td>\n",
       "      <td>{'entity': 'http://dbpedia.org/resource/Techno...</td>\n",
       "    </tr>\n",
       "    <tr>\n",
       "      <th>44</th>\n",
       "      <td>Based on the current advancements in renewable...</td>\n",
       "      <td>predictive</td>\n",
       "      <td>{'current advancements': 'renewable energy tec...</td>\n",
       "      <td>high</td>\n",
       "      <td>medium</td>\n",
       "      <td>{'current advancements': 'http://dbpedia.org/r...</td>\n",
       "      <td>663</td>\n",
       "      <td>{'current advancements': 'http://dbpedia.org/r...</td>\n",
       "    </tr>\n",
       "    <tr>\n",
       "      <th>45</th>\n",
       "      <td>Based on the current trends, how do you predic...</td>\n",
       "      <td>predictive</td>\n",
       "      <td>{'event': 'renewable energy adoption'}</td>\n",
       "      <td>high</td>\n",
       "      <td>medium</td>\n",
       "      <td>{'event': 'http://dbpedia.org/resource/Renewab...</td>\n",
       "      <td>140</td>\n",
       "      <td>{'event': 'http://dbpedia.org/resource/Renewab...</td>\n",
       "    </tr>\n",
       "    <tr>\n",
       "      <th>46</th>\n",
       "      <td>Based on current scientific advancements, how ...</td>\n",
       "      <td>predictive</td>\n",
       "      <td>{'current situation': 'current scientific adva...</td>\n",
       "      <td>high</td>\n",
       "      <td>medium</td>\n",
       "      <td>{'event': 'http://dbpedia.org/resource/Renewab...</td>\n",
       "      <td>98</td>\n",
       "      <td>{'event': 'http://dbpedia.org/resource/Renewab...</td>\n",
       "    </tr>\n",
       "    <tr>\n",
       "      <th>47</th>\n",
       "      <td>Based on the current geopolitical climate, how...</td>\n",
       "      <td>predictive</td>\n",
       "      <td>{'event': 'international trade policies'}</td>\n",
       "      <td>high</td>\n",
       "      <td>hard</td>\n",
       "      <td>{'event': 'http://dbpedia.org/resource/Interna...</td>\n",
       "      <td>201</td>\n",
       "      <td>{'event': 'http://dbpedia.org/resource/Interna...</td>\n",
       "    </tr>\n",
       "    <tr>\n",
       "      <th>48</th>\n",
       "      <td>Based on the current economic situation, how d...</td>\n",
       "      <td>predictive</td>\n",
       "      <td>{'event': 'the stock market'}</td>\n",
       "      <td>high</td>\n",
       "      <td>hard</td>\n",
       "      <td>{'event': 'http://dbpedia.org/resource/Stock_m...</td>\n",
       "      <td>573</td>\n",
       "      <td>{'event': 'http://dbpedia.org/resource/Stock_m...</td>\n",
       "    </tr>\n",
       "    <tr>\n",
       "      <th>49</th>\n",
       "      <td>Based on the current economic indicators, how ...</td>\n",
       "      <td>predictive</td>\n",
       "      <td>{'event': 'global economy'}</td>\n",
       "      <td>high</td>\n",
       "      <td>hard</td>\n",
       "      <td>{'event': 'http://dbpedia.org/resource/World_e...</td>\n",
       "      <td>682</td>\n",
       "      <td>{'event': 'http://dbpedia.org/resource/World_e...</td>\n",
       "    </tr>\n",
       "  </tbody>\n",
       "</table>\n",
       "</div>"
      ],
      "text/plain": [
       "                                             question         type  \\\n",
       "0   Compare and contrast the philosophical viewpoi...  comparative   \n",
       "1   Compare and contrast the similarities and diff...  comparative   \n",
       "2   Compare and contrast the economic policies of ...  comparative   \n",
       "3   Compare and contrast the economic policies of ...  comparative   \n",
       "4   Compare and contrast the healthcare systems of...  comparative   \n",
       "5   Compare and contrast the political impacts of ...  comparative   \n",
       "6   Compare and contrast the economic policies of ...  comparative   \n",
       "7   Compare and contrast the educational systems o...  comparative   \n",
       "8   Compare and contrast the similarities and diff...  comparative   \n",
       "9   Compare and contrast the philosophical ideolog...  comparative   \n",
       "10  How do you evaluate the impact of the Industri...     critical   \n",
       "11  How do you evaluate the impact of the internet...     critical   \n",
       "12  How do you evaluate the impact of social media...     critical   \n",
       "13  How do you evaluate the impact of the Internet...     critical   \n",
       "14  How do you evaluate the impact of the Industri...     critical   \n",
       "15  How do you evaluate the impact of social media...     critical   \n",
       "16  How do you evaluate the impact of the internet...     critical   \n",
       "17  How do you evaluate the impact of the Industri...     critical   \n",
       "18  How do you evaluate the impact of the internet...     critical   \n",
       "19  How do you evaluate the impact of the Industri...     critical   \n",
       "20  Provide a detailed description of the backgrou...  descriptive   \n",
       "21  Please describe Nelson Mandela’s contributions...  descriptive   \n",
       "22  Please describe Cleopatra's significant contri...  descriptive   \n",
       "23  Please describe Rosalind Franklin's contributi...  descriptive   \n",
       "24  Please describe Alan Turing’s contributions to...  descriptive   \n",
       "25  Please describe Ada Lovelace’s contributions t...  descriptive   \n",
       "26  Please describe Galileo Galilei’s contribution...  descriptive   \n",
       "27  Please describe the cultural contributions of ...  descriptive   \n",
       "28  Please describe Mary Shelley's contributions t...  descriptive   \n",
       "29  Please describe Winston Churchill’s contributi...  descriptive   \n",
       "30  Why did Abraham Lincoln decide to issue the Em...  explanatory   \n",
       "31  Why did the Roman Empire fall in the 5th century?  explanatory   \n",
       "32  Why did the United States choose to enter Worl...  explanatory   \n",
       "33  Why did Julius Caesar choose to cross the Rubi...  explanatory   \n",
       "34  Explain the relationship between the Roman Rep...  explanatory   \n",
       "35  Why did Nelson Mandela choose to advocate for ...  explanatory   \n",
       "36  Why did Mahatma Gandhi choose to initiate the ...  explanatory   \n",
       "37  Why did Mahatma Gandhi adopt nonviolent resist...  explanatory   \n",
       "38  Why did Mahatma Gandhi choose to employ non-vi...  explanatory   \n",
       "39  Why did Winston Churchill make the decision to...  explanatory   \n",
       "40  Based on the historical behavior of NASA, what...   predictive   \n",
       "41  Based on recent technological trends, how do y...   predictive   \n",
       "42  Based on the current trends, how do you predic...   predictive   \n",
       "43  Based on the current trends in technology, how...   predictive   \n",
       "44  Based on the current advancements in renewable...   predictive   \n",
       "45  Based on the current trends, how do you predic...   predictive   \n",
       "46  Based on current scientific advancements, how ...   predictive   \n",
       "47  Based on the current geopolitical climate, how...   predictive   \n",
       "48  Based on the current economic situation, how d...   predictive   \n",
       "49  Based on the current economic indicators, how ...   predictive   \n",
       "\n",
       "                                         placeholders naturalness difficulty  \\\n",
       "0   {'entity A': 'Socrates', 'entity B': 'Confuciu...        high       hard   \n",
       "1   {'entity A': 'Roman Empire', 'entity B': 'Otto...        high       hard   \n",
       "2   {'entity A': 'John F. Kennedy', 'entity B': 'R...        high     medium   \n",
       "3   {'entity A': 'New Deal', 'entity B': 'Great So...        high     medium   \n",
       "4   {'entity A': 'United States', 'entity B': 'Can...        high     medium   \n",
       "5   {'historical event A': 'American Revolution', ...        high       hard   \n",
       "6   {'entity A': 'Ronald Reagan', 'entity B': 'Fra...        high       hard   \n",
       "7   {'entity A': 'Finland', 'entity B': 'the Unite...        high     medium   \n",
       "8   {'entity A': 'Elon Musk', 'entity B': 'Jeff Be...        high     medium   \n",
       "9   {'entity A': 'Socrates', 'entity B': 'Confuciu...        high     medium   \n",
       "10  {'event': 'Industrial Revolution', 'field': 'm...        high     medium   \n",
       "11  {'event': 'internet', 'field': 'modern communi...        high     medium   \n",
       "12  {'entity': 'social media', 'field': 'modern co...        high     medium   \n",
       "13  {'event': 'the Internet', 'field': 'global com...        high     medium   \n",
       "14  {'person/event': 'Industrial Revolution', 'fie...        high     medium   \n",
       "15  {'event': 'social media', 'field': 'political ...        high     medium   \n",
       "16  {'person/event': 'the internet', 'field': 'mod...        high     medium   \n",
       "17  {'person/event': 'Industrial Revolution', 'fie...        high       hard   \n",
       "18  {'person/event': 'the internet', 'field': 'mod...        high     medium   \n",
       "19  {'person/event': 'Industrial Revolution', 'fie...        high       hard   \n",
       "20        {'event': 'American Civil Rights Movement'}        high     medium   \n",
       "21                       {'person': 'Nelson Mandela'}        high     medium   \n",
       "22                            {'person': 'Cleopatra'}        high     medium   \n",
       "23                    {'person': 'Rosalind Franklin'}        high     medium   \n",
       "24                          {'person': 'Alan Turing'}        high     medium   \n",
       "25  {'person': 'Ada Lovelace', 'field': 'computer ...        high     medium   \n",
       "26  {'person': 'Galileo Galilei', 'field': 'astron...        high     medium   \n",
       "27  {'person': 'Leonardo da Vinci', 'field': 'cult...        high     medium   \n",
       "28                         {'person': 'Mary Shelley'}        high     medium   \n",
       "29                    {'person': 'Winston Churchill'}        high     medium   \n",
       "30  {'person': 'Abraham Lincoln', 'action': 'issue...        high     medium   \n",
       "31  {'person': 'Roman Empire', 'action': 'fall', '...        high     medium   \n",
       "32  {'person': 'the United States', 'action': 'ent...        high     medium   \n",
       "33  {'person': 'Julius Caesar', 'action': 'cross t...        high     medium   \n",
       "34  {'entity A': 'Roman Republic', 'entity B': 'Ro...        high       hard   \n",
       "35  {'person': 'Nelson Mandela', 'action': 'advoca...        high     medium   \n",
       "36  {'person': 'Mahatma Gandhi', 'action': 'initia...        high     medium   \n",
       "37  {'person': 'Mahatma Gandhi', 'action': 'adopt ...        high     medium   \n",
       "38  {'person': 'Mahatma Gandhi', 'action': 'employ...        high     medium   \n",
       "39  {'person': 'Winston Churchill', 'action': 'lea...        high     medium   \n",
       "40                                 {'entity': 'NASA'}        high     medium   \n",
       "41                     {'event': 'quantum computing'}        high       hard   \n",
       "42               {'event': 'renewable energy market'}        high     medium   \n",
       "43  {'entity': 'technology', 'event': 'development...        high       hard   \n",
       "44  {'current advancements': 'renewable energy tec...        high     medium   \n",
       "45             {'event': 'renewable energy adoption'}        high     medium   \n",
       "46  {'current situation': 'current scientific adva...        high     medium   \n",
       "47          {'event': 'international trade policies'}        high       hard   \n",
       "48                      {'event': 'the stock market'}        high       hard   \n",
       "49                        {'event': 'global economy'}        high       hard   \n",
       "\n",
       "                                     dbpedia_entities   id  \\\n",
       "0   {'entity A': 'http://dbpedia.org/resource/Socr...  749   \n",
       "1   {'entity A': 'http://dbpedia.org/resource/Roma...  491   \n",
       "2   {'entity A': 'http://dbpedia.org/resource/John...  277   \n",
       "3   {'entity A': 'http://dbpedia.org/resource/New_...   20   \n",
       "4   {'entity A': 'http://dbpedia.org/resource/Unit...  595   \n",
       "5   {'historical event A': 'http://dbpedia.org/res...  520   \n",
       "6   {'entity A': 'http://dbpedia.org/resource/Rona...  611   \n",
       "7   {'entity A': 'http://dbpedia.org/resource/Finl...  383   \n",
       "8   {'entity A': 'http://dbpedia.org/resource/Elon...  516   \n",
       "9   {'entity A': 'http://dbpedia.org/resource/Socr...  286   \n",
       "10  {'event': 'http://dbpedia.org/resource/Industr...  323   \n",
       "11  {'event': 'http://dbpedia.org/resource/Interne...  564   \n",
       "12  {'entity': 'http://dbpedia.org/resource/Social...  318   \n",
       "13  {'event': 'http://dbpedia.org/resource/Interne...  541   \n",
       "14  {'person/event': 'http://dbpedia.org/resource/...   61   \n",
       "15  {'event': 'http://dbpedia.org/resource/Social_...  302   \n",
       "16  {'person/event': 'http://dbpedia.org/resource/...  718   \n",
       "17  {'person/event': 'http://dbpedia.org/resource/...  213   \n",
       "18  {'person/event': 'http://dbpedia.org/resource/...  139   \n",
       "19  {'person/event': 'http://dbpedia.org/resource/...  225   \n",
       "20  {'event': 'http://dbpedia.org/resource/America...  767   \n",
       "21  {'person': 'http://dbpedia.org/resource/Nelson...  444   \n",
       "22  {'person': 'http://dbpedia.org/resource/Cleopa...  565   \n",
       "23  {'person': 'http://dbpedia.org/resource/Rosali...  534   \n",
       "24  {'person': 'http://dbpedia.org/resource/Alan_T...  395   \n",
       "25  {'person': 'http://dbpedia.org/resource/Ada_Lo...  155   \n",
       "26  {'person': 'http://dbpedia.org/resource/Galile...  737   \n",
       "27  {'person': 'http://dbpedia.org/resource/Leonar...  132   \n",
       "28  {'person': 'http://dbpedia.org/resource/Mary_S...  414   \n",
       "29  {'person': 'http://dbpedia.org/resource/Winsto...  542   \n",
       "30  {'person': 'http://dbpedia.org/resource/Abraha...  282   \n",
       "31  {'person': 'http://dbpedia.org/resource/Roman_...  267   \n",
       "32  {'person': 'http://dbpedia.org/resource/United...  382   \n",
       "33  {'person': 'http://dbpedia.org/resource/Julius...   55   \n",
       "34  {'entity A': 'http://dbpedia.org/resource/Roma...  716   \n",
       "35  {'person': 'http://dbpedia.org/resource/Nelson...  768   \n",
       "36  {'person': 'http://dbpedia.org/resource/Mahatm...  163   \n",
       "37  {'person': 'http://dbpedia.org/resource/Mahatm...  432   \n",
       "38  {'person': 'http://dbpedia.org/resource/Mahatm...  324   \n",
       "39  {'person': 'http://dbpedia.org/resource/Winsto...  655   \n",
       "40     {'entity': 'http://dbpedia.org/resource/NASA'}   68   \n",
       "41  {'event': 'http://dbpedia.org/resource/Quantum...  616   \n",
       "42  {'event': 'http://dbpedia.org/resource/Renewab...  391   \n",
       "43  {'entity': 'http://dbpedia.org/resource/Techno...  261   \n",
       "44  {'current advancements': 'http://dbpedia.org/r...  663   \n",
       "45  {'event': 'http://dbpedia.org/resource/Renewab...  140   \n",
       "46  {'event': 'http://dbpedia.org/resource/Renewab...   98   \n",
       "47  {'event': 'http://dbpedia.org/resource/Interna...  201   \n",
       "48  {'event': 'http://dbpedia.org/resource/Stock_m...  573   \n",
       "49  {'event': 'http://dbpedia.org/resource/World_e...  682   \n",
       "\n",
       "                                  dbpedia_entities_re  \n",
       "0   {'entity A': 'http://dbpedia.org/resource/Socr...  \n",
       "1   {'entity A': 'http://dbpedia.org/resource/Roma...  \n",
       "2   {'entity A': 'http://dbpedia.org/resource/John...  \n",
       "3   {'entity A': 'http://dbpedia.org/resource/New_...  \n",
       "4   {'entity A': 'http://dbpedia.org/resource/Unit...  \n",
       "5   {'historical event A': 'http://dbpedia.org/res...  \n",
       "6   {'entity A': 'http://dbpedia.org/resource/Rona...  \n",
       "7   {'entity A': 'http://dbpedia.org/resource/Finl...  \n",
       "8   {'entity A': 'http://dbpedia.org/resource/Elon...  \n",
       "9   {'entity A': 'http://dbpedia.org/resource/Socr...  \n",
       "10  {'event': 'http://dbpedia.org/resource/Industr...  \n",
       "11  {'event': 'http://dbpedia.org/resource/Interne...  \n",
       "12  {'entity': 'http://dbpedia.org/resource/Social...  \n",
       "13  {'event': 'http://dbpedia.org/resource/Interne...  \n",
       "14  {'person/event': 'http://dbpedia.org/resource/...  \n",
       "15  {'event': 'http://dbpedia.org/resource/Social_...  \n",
       "16  {'person/event': 'http://dbpedia.org/resource/...  \n",
       "17  {'person/event': 'http://dbpedia.org/resource/...  \n",
       "18  {'person/event': 'http://dbpedia.org/resource/...  \n",
       "19  {'person/event': 'http://dbpedia.org/resource/...  \n",
       "20  {'event': 'http://dbpedia.org/resource/America...  \n",
       "21  {'person': 'http://dbpedia.org/resource/Nelson...  \n",
       "22  {'person': 'http://dbpedia.org/resource/Cleopa...  \n",
       "23  {'person': 'http://dbpedia.org/resource/Rosali...  \n",
       "24  {'person': 'http://dbpedia.org/resource/Alan_T...  \n",
       "25  {'person': 'http://dbpedia.org/resource/Ada_Lo...  \n",
       "26  {'person': 'http://dbpedia.org/resource/Galile...  \n",
       "27  {'person': 'http://dbpedia.org/resource/Leonar...  \n",
       "28  {'person': 'http://dbpedia.org/resource/Mary_S...  \n",
       "29  {'person': 'http://dbpedia.org/resource/Winsto...  \n",
       "30  {'person': 'http://dbpedia.org/resource/Abraha...  \n",
       "31  {'person': 'http://dbpedia.org/resource/Roman_...  \n",
       "32  {'person': 'http://dbpedia.org/resource/United...  \n",
       "33  {'person': 'http://dbpedia.org/resource/Julius...  \n",
       "34  {'entity A': 'http://dbpedia.org/resource/Roma...  \n",
       "35  {'person': 'http://dbpedia.org/resource/Nelson...  \n",
       "36  {'person': 'http://dbpedia.org/resource/Mahatm...  \n",
       "37  {'person': 'http://dbpedia.org/resource/Mahatm...  \n",
       "38  {'person': 'http://dbpedia.org/resource/Mahatm...  \n",
       "39  {'person': 'http://dbpedia.org/resource/Winsto...  \n",
       "40     {'entity': 'http://dbpedia.org/resource/NASA'}  \n",
       "41  {'event': 'http://dbpedia.org/resource/Quantum...  \n",
       "42  {'event': 'http://dbpedia.org/resource/Renewab...  \n",
       "43  {'entity': 'http://dbpedia.org/resource/Techno...  \n",
       "44  {'current advancements': 'http://dbpedia.org/r...  \n",
       "45  {'event': 'http://dbpedia.org/resource/Renewab...  \n",
       "46  {'event': 'http://dbpedia.org/resource/Renewab...  \n",
       "47  {'event': 'http://dbpedia.org/resource/Interna...  \n",
       "48  {'event': 'http://dbpedia.org/resource/Stock_m...  \n",
       "49  {'event': 'http://dbpedia.org/resource/World_e...  "
      ]
     },
     "execution_count": 2,
     "metadata": {},
     "output_type": "execute_result"
    }
   ],
   "source": [
    "data = pd.read_csv(\"OKG/filtered_questions_50_v3.csv\", index_col=0)\n",
    "data[\"dbpedia_entities\"] = data[\"dbpedia_entities\"].apply(lambda x: eval(x))\n",
    "data[\"dbpedia_entities_re\"] = data[\"dbpedia_entities_re\"].apply(lambda x: eval(x))\n",
    "\n",
    "df_res = pd.read_csv(\"OKG/generation/50_v3.csv\", index_col=0)\n",
    "res_list = df_res[\"zero_shot\"].to_list()\n",
    "\n",
    "data"
   ]
  },
  {
   "cell_type": "code",
   "execution_count": 4,
   "metadata": {},
   "outputs": [
    {
     "data": {
      "application/vnd.jupyter.widget-view+json": {
       "model_id": "7208e3b1bc034d20b5dc6e3a8056365a",
       "version_major": 2,
       "version_minor": 0
      },
      "text/plain": [
       "Split strings:   0%|          | 0/26 [00:00<?, ?it/s]"
      ]
     },
     "metadata": {},
     "output_type": "display_data"
    },
    {
     "data": {
      "application/vnd.jupyter.widget-view+json": {
       "model_id": "8ed25e5f49304ea8bb9e2294bf44c675",
       "version_major": 2,
       "version_minor": 0
      },
      "text/plain": [
       "BM25S Count Tokens:   0%|          | 0/26 [00:00<?, ?it/s]"
      ]
     },
     "metadata": {},
     "output_type": "display_data"
    },
    {
     "data": {
      "application/vnd.jupyter.widget-view+json": {
       "model_id": "4b1164d08acf484081727dba2689e562",
       "version_major": 2,
       "version_minor": 0
      },
      "text/plain": [
       "BM25S Compute Scores:   0%|          | 0/26 [00:00<?, ?it/s]"
      ]
     },
     "metadata": {},
     "output_type": "display_data"
    },
    {
     "data": {
      "application/vnd.jupyter.widget-view+json": {
       "model_id": "6bcfcf366e974270854f8403f2f33952",
       "version_major": 2,
       "version_minor": 0
      },
      "text/plain": [
       "Split strings:   0%|          | 0/1 [00:00<?, ?it/s]"
      ]
     },
     "metadata": {},
     "output_type": "display_data"
    },
    {
     "data": {
      "application/vnd.jupyter.widget-view+json": {
       "model_id": "fa08db3f02874cf083b93c659725468e",
       "version_major": 2,
       "version_minor": 0
      },
      "text/plain": [
       "BM25S Retrieve:   0%|          | 0/1 [00:00<?, ?it/s]"
      ]
     },
     "metadata": {},
     "output_type": "display_data"
    },
    {
     "data": {
      "application/vnd.jupyter.widget-view+json": {
       "model_id": "b5437513a84746e3a57fad28bd709adc",
       "version_major": 2,
       "version_minor": 0
      },
      "text/plain": [
       "Split strings:   0%|          | 0/27 [00:00<?, ?it/s]"
      ]
     },
     "metadata": {},
     "output_type": "display_data"
    },
    {
     "data": {
      "application/vnd.jupyter.widget-view+json": {
       "model_id": "4595c4d41fcf49289c23b8220fbdcfaa",
       "version_major": 2,
       "version_minor": 0
      },
      "text/plain": [
       "BM25S Count Tokens:   0%|          | 0/27 [00:00<?, ?it/s]"
      ]
     },
     "metadata": {},
     "output_type": "display_data"
    },
    {
     "data": {
      "application/vnd.jupyter.widget-view+json": {
       "model_id": "9da620985dd248c08aad53112694a4dc",
       "version_major": 2,
       "version_minor": 0
      },
      "text/plain": [
       "BM25S Compute Scores:   0%|          | 0/27 [00:00<?, ?it/s]"
      ]
     },
     "metadata": {},
     "output_type": "display_data"
    },
    {
     "data": {
      "application/vnd.jupyter.widget-view+json": {
       "model_id": "d3f17a3d3cbb401b9bfa035306a0bcbc",
       "version_major": 2,
       "version_minor": 0
      },
      "text/plain": [
       "Split strings:   0%|          | 0/1 [00:00<?, ?it/s]"
      ]
     },
     "metadata": {},
     "output_type": "display_data"
    },
    {
     "data": {
      "application/vnd.jupyter.widget-view+json": {
       "model_id": "ae0279aeb14741ef8263d45bc5481bdf",
       "version_major": 2,
       "version_minor": 0
      },
      "text/plain": [
       "BM25S Retrieve:   0%|          | 0/1 [00:00<?, ?it/s]"
      ]
     },
     "metadata": {},
     "output_type": "display_data"
    },
    {
     "data": {
      "application/vnd.jupyter.widget-view+json": {
       "model_id": "de990620047045de9c9a1daa5d31e40b",
       "version_major": 2,
       "version_minor": 0
      },
      "text/plain": [
       "Split strings:   0%|          | 0/70 [00:00<?, ?it/s]"
      ]
     },
     "metadata": {},
     "output_type": "display_data"
    },
    {
     "data": {
      "application/vnd.jupyter.widget-view+json": {
       "model_id": "ec888ff9de7a4660851d79e1e6de7234",
       "version_major": 2,
       "version_minor": 0
      },
      "text/plain": [
       "BM25S Count Tokens:   0%|          | 0/70 [00:00<?, ?it/s]"
      ]
     },
     "metadata": {},
     "output_type": "display_data"
    },
    {
     "data": {
      "application/vnd.jupyter.widget-view+json": {
       "model_id": "b72651dc157e46a6b3a146e2ae7713ec",
       "version_major": 2,
       "version_minor": 0
      },
      "text/plain": [
       "BM25S Compute Scores:   0%|          | 0/70 [00:00<?, ?it/s]"
      ]
     },
     "metadata": {},
     "output_type": "display_data"
    },
    {
     "data": {
      "application/vnd.jupyter.widget-view+json": {
       "model_id": "f2b11c3a172b44cc82c4a3489f2aa136",
       "version_major": 2,
       "version_minor": 0
      },
      "text/plain": [
       "Split strings:   0%|          | 0/1 [00:00<?, ?it/s]"
      ]
     },
     "metadata": {},
     "output_type": "display_data"
    },
    {
     "data": {
      "application/vnd.jupyter.widget-view+json": {
       "model_id": "215a32528af84d199508287fdb3407b7",
       "version_major": 2,
       "version_minor": 0
      },
      "text/plain": [
       "BM25S Retrieve:   0%|          | 0/1 [00:00<?, ?it/s]"
      ]
     },
     "metadata": {},
     "output_type": "display_data"
    },
    {
     "data": {
      "application/vnd.jupyter.widget-view+json": {
       "model_id": "03afc6b982c145478ea3fe923703eca5",
       "version_major": 2,
       "version_minor": 0
      },
      "text/plain": [
       "Split strings:   0%|          | 0/44 [00:00<?, ?it/s]"
      ]
     },
     "metadata": {},
     "output_type": "display_data"
    },
    {
     "data": {
      "application/vnd.jupyter.widget-view+json": {
       "model_id": "61ecaea87ec84d03894bf13432ae6ad6",
       "version_major": 2,
       "version_minor": 0
      },
      "text/plain": [
       "BM25S Count Tokens:   0%|          | 0/44 [00:00<?, ?it/s]"
      ]
     },
     "metadata": {},
     "output_type": "display_data"
    },
    {
     "data": {
      "application/vnd.jupyter.widget-view+json": {
       "model_id": "27dea2e82bf744aebc509e5e98f0f6d3",
       "version_major": 2,
       "version_minor": 0
      },
      "text/plain": [
       "BM25S Compute Scores:   0%|          | 0/44 [00:00<?, ?it/s]"
      ]
     },
     "metadata": {},
     "output_type": "display_data"
    },
    {
     "data": {
      "application/vnd.jupyter.widget-view+json": {
       "model_id": "19f5f3aba1c34504ab0b4373bff797d4",
       "version_major": 2,
       "version_minor": 0
      },
      "text/plain": [
       "Split strings:   0%|          | 0/1 [00:00<?, ?it/s]"
      ]
     },
     "metadata": {},
     "output_type": "display_data"
    },
    {
     "data": {
      "application/vnd.jupyter.widget-view+json": {
       "model_id": "82cd3dec9b58459782dde4e9578380bb",
       "version_major": 2,
       "version_minor": 0
      },
      "text/plain": [
       "BM25S Retrieve:   0%|          | 0/1 [00:00<?, ?it/s]"
      ]
     },
     "metadata": {},
     "output_type": "display_data"
    },
    {
     "data": {
      "application/vnd.jupyter.widget-view+json": {
       "model_id": "32b86446233e419b9b669452cdeccb4e",
       "version_major": 2,
       "version_minor": 0
      },
      "text/plain": [
       "Split strings:   0%|          | 0/71 [00:00<?, ?it/s]"
      ]
     },
     "metadata": {},
     "output_type": "display_data"
    },
    {
     "data": {
      "application/vnd.jupyter.widget-view+json": {
       "model_id": "df6ee5ac63ea47d88695977b0e569e70",
       "version_major": 2,
       "version_minor": 0
      },
      "text/plain": [
       "BM25S Count Tokens:   0%|          | 0/71 [00:00<?, ?it/s]"
      ]
     },
     "metadata": {},
     "output_type": "display_data"
    },
    {
     "data": {
      "application/vnd.jupyter.widget-view+json": {
       "model_id": "126b8c5526504a30b0fdba3aeb862a59",
       "version_major": 2,
       "version_minor": 0
      },
      "text/plain": [
       "BM25S Compute Scores:   0%|          | 0/71 [00:00<?, ?it/s]"
      ]
     },
     "metadata": {},
     "output_type": "display_data"
    },
    {
     "data": {
      "application/vnd.jupyter.widget-view+json": {
       "model_id": "f23a8f15b3434321963409f5a09f365b",
       "version_major": 2,
       "version_minor": 0
      },
      "text/plain": [
       "Split strings:   0%|          | 0/1 [00:00<?, ?it/s]"
      ]
     },
     "metadata": {},
     "output_type": "display_data"
    },
    {
     "data": {
      "application/vnd.jupyter.widget-view+json": {
       "model_id": "e9176e5331124581b334fc6aa314d68c",
       "version_major": 2,
       "version_minor": 0
      },
      "text/plain": [
       "BM25S Retrieve:   0%|          | 0/1 [00:00<?, ?it/s]"
      ]
     },
     "metadata": {},
     "output_type": "display_data"
    },
    {
     "data": {
      "application/vnd.jupyter.widget-view+json": {
       "model_id": "66b73bdf6f904b0cbb97875e3ba64bad",
       "version_major": 2,
       "version_minor": 0
      },
      "text/plain": [
       "Split strings:   0%|          | 0/45 [00:00<?, ?it/s]"
      ]
     },
     "metadata": {},
     "output_type": "display_data"
    },
    {
     "data": {
      "application/vnd.jupyter.widget-view+json": {
       "model_id": "ce46b571343f4ed3a0508a76ea014a93",
       "version_major": 2,
       "version_minor": 0
      },
      "text/plain": [
       "BM25S Count Tokens:   0%|          | 0/45 [00:00<?, ?it/s]"
      ]
     },
     "metadata": {},
     "output_type": "display_data"
    },
    {
     "data": {
      "application/vnd.jupyter.widget-view+json": {
       "model_id": "c2e097e2da1e484da0331cb6708cfabb",
       "version_major": 2,
       "version_minor": 0
      },
      "text/plain": [
       "BM25S Compute Scores:   0%|          | 0/45 [00:00<?, ?it/s]"
      ]
     },
     "metadata": {},
     "output_type": "display_data"
    },
    {
     "data": {
      "application/vnd.jupyter.widget-view+json": {
       "model_id": "f484b6498ab64cec9d1811cf409ef1e8",
       "version_major": 2,
       "version_minor": 0
      },
      "text/plain": [
       "Split strings:   0%|          | 0/1 [00:00<?, ?it/s]"
      ]
     },
     "metadata": {},
     "output_type": "display_data"
    },
    {
     "data": {
      "application/vnd.jupyter.widget-view+json": {
       "model_id": "d408eddf53074e1bbe0d93b9f075e160",
       "version_major": 2,
       "version_minor": 0
      },
      "text/plain": [
       "BM25S Retrieve:   0%|          | 0/1 [00:00<?, ?it/s]"
      ]
     },
     "metadata": {},
     "output_type": "display_data"
    },
    {
     "data": {
      "application/vnd.jupyter.widget-view+json": {
       "model_id": "1b8d220d1dde4a5e8357239c49df54ae",
       "version_major": 2,
       "version_minor": 0
      },
      "text/plain": [
       "Split strings:   0%|          | 0/15 [00:00<?, ?it/s]"
      ]
     },
     "metadata": {},
     "output_type": "display_data"
    },
    {
     "data": {
      "application/vnd.jupyter.widget-view+json": {
       "model_id": "beef8547c7cf46a592ee7c51c343d90c",
       "version_major": 2,
       "version_minor": 0
      },
      "text/plain": [
       "BM25S Count Tokens:   0%|          | 0/15 [00:00<?, ?it/s]"
      ]
     },
     "metadata": {},
     "output_type": "display_data"
    },
    {
     "data": {
      "application/vnd.jupyter.widget-view+json": {
       "model_id": "ffbd46c5618446a8b15a2d51c3355bed",
       "version_major": 2,
       "version_minor": 0
      },
      "text/plain": [
       "BM25S Compute Scores:   0%|          | 0/15 [00:00<?, ?it/s]"
      ]
     },
     "metadata": {},
     "output_type": "display_data"
    },
    {
     "data": {
      "application/vnd.jupyter.widget-view+json": {
       "model_id": "57926ed33d1f47edb8472efc6d01051e",
       "version_major": 2,
       "version_minor": 0
      },
      "text/plain": [
       "Split strings:   0%|          | 0/1 [00:00<?, ?it/s]"
      ]
     },
     "metadata": {},
     "output_type": "display_data"
    },
    {
     "data": {
      "application/vnd.jupyter.widget-view+json": {
       "model_id": "1ffe38bb13d54bd4a4590aa9a1254d65",
       "version_major": 2,
       "version_minor": 0
      },
      "text/plain": [
       "BM25S Retrieve:   0%|          | 0/1 [00:00<?, ?it/s]"
      ]
     },
     "metadata": {},
     "output_type": "display_data"
    },
    {
     "data": {
      "application/vnd.jupyter.widget-view+json": {
       "model_id": "11deef23ee2e4a8c8aedbc93e4beba8c",
       "version_major": 2,
       "version_minor": 0
      },
      "text/plain": [
       "Split strings:   0%|          | 0/82 [00:00<?, ?it/s]"
      ]
     },
     "metadata": {},
     "output_type": "display_data"
    },
    {
     "data": {
      "application/vnd.jupyter.widget-view+json": {
       "model_id": "a59fbfc3ed8041cda85ffb063988052f",
       "version_major": 2,
       "version_minor": 0
      },
      "text/plain": [
       "BM25S Count Tokens:   0%|          | 0/82 [00:00<?, ?it/s]"
      ]
     },
     "metadata": {},
     "output_type": "display_data"
    },
    {
     "data": {
      "application/vnd.jupyter.widget-view+json": {
       "model_id": "185ec7ddf4784cadb4741c784b40fbca",
       "version_major": 2,
       "version_minor": 0
      },
      "text/plain": [
       "BM25S Compute Scores:   0%|          | 0/82 [00:00<?, ?it/s]"
      ]
     },
     "metadata": {},
     "output_type": "display_data"
    },
    {
     "data": {
      "application/vnd.jupyter.widget-view+json": {
       "model_id": "1de41500c9ba48e493404d63e349ef07",
       "version_major": 2,
       "version_minor": 0
      },
      "text/plain": [
       "Split strings:   0%|          | 0/1 [00:00<?, ?it/s]"
      ]
     },
     "metadata": {},
     "output_type": "display_data"
    },
    {
     "data": {
      "application/vnd.jupyter.widget-view+json": {
       "model_id": "4c3d82f89a4746488f4fd77fa6b99224",
       "version_major": 2,
       "version_minor": 0
      },
      "text/plain": [
       "BM25S Retrieve:   0%|          | 0/1 [00:00<?, ?it/s]"
      ]
     },
     "metadata": {},
     "output_type": "display_data"
    },
    {
     "data": {
      "application/vnd.jupyter.widget-view+json": {
       "model_id": "ed65c9d80a87437b97b4d18be1720e62",
       "version_major": 2,
       "version_minor": 0
      },
      "text/plain": [
       "Split strings:   0%|          | 0/33 [00:00<?, ?it/s]"
      ]
     },
     "metadata": {},
     "output_type": "display_data"
    },
    {
     "data": {
      "application/vnd.jupyter.widget-view+json": {
       "model_id": "4a7ec9f2e16e4ad38788d53c7388631c",
       "version_major": 2,
       "version_minor": 0
      },
      "text/plain": [
       "BM25S Count Tokens:   0%|          | 0/33 [00:00<?, ?it/s]"
      ]
     },
     "metadata": {},
     "output_type": "display_data"
    },
    {
     "data": {
      "application/vnd.jupyter.widget-view+json": {
       "model_id": "38d8c933742b499ea31e1e57f8232c61",
       "version_major": 2,
       "version_minor": 0
      },
      "text/plain": [
       "BM25S Compute Scores:   0%|          | 0/33 [00:00<?, ?it/s]"
      ]
     },
     "metadata": {},
     "output_type": "display_data"
    },
    {
     "data": {
      "application/vnd.jupyter.widget-view+json": {
       "model_id": "cbdcec0800f24a729145a250bc1f8230",
       "version_major": 2,
       "version_minor": 0
      },
      "text/plain": [
       "Split strings:   0%|          | 0/1 [00:00<?, ?it/s]"
      ]
     },
     "metadata": {},
     "output_type": "display_data"
    },
    {
     "data": {
      "application/vnd.jupyter.widget-view+json": {
       "model_id": "9cda781ea2584afabd6d62b336448a02",
       "version_major": 2,
       "version_minor": 0
      },
      "text/plain": [
       "BM25S Retrieve:   0%|          | 0/1 [00:00<?, ?it/s]"
      ]
     },
     "metadata": {},
     "output_type": "display_data"
    },
    {
     "data": {
      "application/vnd.jupyter.widget-view+json": {
       "model_id": "b8ba7109004d4e518a026911feae3415",
       "version_major": 2,
       "version_minor": 0
      },
      "text/plain": [
       "Split strings:   0%|          | 0/51 [00:00<?, ?it/s]"
      ]
     },
     "metadata": {},
     "output_type": "display_data"
    },
    {
     "data": {
      "application/vnd.jupyter.widget-view+json": {
       "model_id": "5cc9729f82db4ae1a975840f1b12da16",
       "version_major": 2,
       "version_minor": 0
      },
      "text/plain": [
       "BM25S Count Tokens:   0%|          | 0/51 [00:00<?, ?it/s]"
      ]
     },
     "metadata": {},
     "output_type": "display_data"
    },
    {
     "data": {
      "application/vnd.jupyter.widget-view+json": {
       "model_id": "681e04cb98814027a031e1d57ceb5371",
       "version_major": 2,
       "version_minor": 0
      },
      "text/plain": [
       "BM25S Compute Scores:   0%|          | 0/51 [00:00<?, ?it/s]"
      ]
     },
     "metadata": {},
     "output_type": "display_data"
    },
    {
     "data": {
      "application/vnd.jupyter.widget-view+json": {
       "model_id": "60b2252555fa45a5adb069ddb6bcb457",
       "version_major": 2,
       "version_minor": 0
      },
      "text/plain": [
       "Split strings:   0%|          | 0/1 [00:00<?, ?it/s]"
      ]
     },
     "metadata": {},
     "output_type": "display_data"
    },
    {
     "data": {
      "application/vnd.jupyter.widget-view+json": {
       "model_id": "355fe0bf024e4a4b8bd068549328d6b6",
       "version_major": 2,
       "version_minor": 0
      },
      "text/plain": [
       "BM25S Retrieve:   0%|          | 0/1 [00:00<?, ?it/s]"
      ]
     },
     "metadata": {},
     "output_type": "display_data"
    },
    {
     "data": {
      "application/vnd.jupyter.widget-view+json": {
       "model_id": "4bb7d83e198e44a692795d60c3725be4",
       "version_major": 2,
       "version_minor": 0
      },
      "text/plain": [
       "Split strings:   0%|          | 0/46 [00:00<?, ?it/s]"
      ]
     },
     "metadata": {},
     "output_type": "display_data"
    },
    {
     "data": {
      "application/vnd.jupyter.widget-view+json": {
       "model_id": "9a39555994af4f5b9883e449349ed610",
       "version_major": 2,
       "version_minor": 0
      },
      "text/plain": [
       "BM25S Count Tokens:   0%|          | 0/46 [00:00<?, ?it/s]"
      ]
     },
     "metadata": {},
     "output_type": "display_data"
    },
    {
     "data": {
      "application/vnd.jupyter.widget-view+json": {
       "model_id": "5de6c351788e498298a1036643cb5c7d",
       "version_major": 2,
       "version_minor": 0
      },
      "text/plain": [
       "BM25S Compute Scores:   0%|          | 0/46 [00:00<?, ?it/s]"
      ]
     },
     "metadata": {},
     "output_type": "display_data"
    },
    {
     "data": {
      "application/vnd.jupyter.widget-view+json": {
       "model_id": "4fe36e59dfb1435abef18cc15133da45",
       "version_major": 2,
       "version_minor": 0
      },
      "text/plain": [
       "Split strings:   0%|          | 0/1 [00:00<?, ?it/s]"
      ]
     },
     "metadata": {},
     "output_type": "display_data"
    },
    {
     "data": {
      "application/vnd.jupyter.widget-view+json": {
       "model_id": "b6e340743dc84ce0a77c92f674a559f2",
       "version_major": 2,
       "version_minor": 0
      },
      "text/plain": [
       "BM25S Retrieve:   0%|          | 0/1 [00:00<?, ?it/s]"
      ]
     },
     "metadata": {},
     "output_type": "display_data"
    },
    {
     "data": {
      "application/vnd.jupyter.widget-view+json": {
       "model_id": "a710ea29ec2f4b899407c41b84b338fc",
       "version_major": 2,
       "version_minor": 0
      },
      "text/plain": [
       "Split strings:   0%|          | 0/59 [00:00<?, ?it/s]"
      ]
     },
     "metadata": {},
     "output_type": "display_data"
    },
    {
     "data": {
      "application/vnd.jupyter.widget-view+json": {
       "model_id": "def7b1a1974f400197805a17d961cb88",
       "version_major": 2,
       "version_minor": 0
      },
      "text/plain": [
       "BM25S Count Tokens:   0%|          | 0/59 [00:00<?, ?it/s]"
      ]
     },
     "metadata": {},
     "output_type": "display_data"
    },
    {
     "data": {
      "application/vnd.jupyter.widget-view+json": {
       "model_id": "79e8d3ad2e364e4f8ef0de8dd6210abd",
       "version_major": 2,
       "version_minor": 0
      },
      "text/plain": [
       "BM25S Compute Scores:   0%|          | 0/59 [00:00<?, ?it/s]"
      ]
     },
     "metadata": {},
     "output_type": "display_data"
    },
    {
     "data": {
      "application/vnd.jupyter.widget-view+json": {
       "model_id": "a9a3dd153a9a4b23ba7103c405126620",
       "version_major": 2,
       "version_minor": 0
      },
      "text/plain": [
       "Split strings:   0%|          | 0/1 [00:00<?, ?it/s]"
      ]
     },
     "metadata": {},
     "output_type": "display_data"
    },
    {
     "data": {
      "application/vnd.jupyter.widget-view+json": {
       "model_id": "3fc15fc4e1944d72b978213690eb2ff0",
       "version_major": 2,
       "version_minor": 0
      },
      "text/plain": [
       "BM25S Retrieve:   0%|          | 0/1 [00:00<?, ?it/s]"
      ]
     },
     "metadata": {},
     "output_type": "display_data"
    },
    {
     "data": {
      "application/vnd.jupyter.widget-view+json": {
       "model_id": "92a018151f3c408da5cac56596d02bfa",
       "version_major": 2,
       "version_minor": 0
      },
      "text/plain": [
       "Split strings:   0%|          | 0/48 [00:00<?, ?it/s]"
      ]
     },
     "metadata": {},
     "output_type": "display_data"
    },
    {
     "data": {
      "application/vnd.jupyter.widget-view+json": {
       "model_id": "9fecc443c9b14fba9424638a7091f01a",
       "version_major": 2,
       "version_minor": 0
      },
      "text/plain": [
       "BM25S Count Tokens:   0%|          | 0/48 [00:00<?, ?it/s]"
      ]
     },
     "metadata": {},
     "output_type": "display_data"
    },
    {
     "data": {
      "application/vnd.jupyter.widget-view+json": {
       "model_id": "912f0052a0ff4caa841998055ef26136",
       "version_major": 2,
       "version_minor": 0
      },
      "text/plain": [
       "BM25S Compute Scores:   0%|          | 0/48 [00:00<?, ?it/s]"
      ]
     },
     "metadata": {},
     "output_type": "display_data"
    },
    {
     "data": {
      "application/vnd.jupyter.widget-view+json": {
       "model_id": "db15d6cd858b442a94364ac03e86026d",
       "version_major": 2,
       "version_minor": 0
      },
      "text/plain": [
       "Split strings:   0%|          | 0/1 [00:00<?, ?it/s]"
      ]
     },
     "metadata": {},
     "output_type": "display_data"
    },
    {
     "data": {
      "application/vnd.jupyter.widget-view+json": {
       "model_id": "e203d6b7e2194478a619c3586f40fd72",
       "version_major": 2,
       "version_minor": 0
      },
      "text/plain": [
       "BM25S Retrieve:   0%|          | 0/1 [00:00<?, ?it/s]"
      ]
     },
     "metadata": {},
     "output_type": "display_data"
    },
    {
     "data": {
      "application/vnd.jupyter.widget-view+json": {
       "model_id": "e287581a8c154a8c8aefc029f7fd79d2",
       "version_major": 2,
       "version_minor": 0
      },
      "text/plain": [
       "Split strings:   0%|          | 0/45 [00:00<?, ?it/s]"
      ]
     },
     "metadata": {},
     "output_type": "display_data"
    },
    {
     "data": {
      "application/vnd.jupyter.widget-view+json": {
       "model_id": "1706b0bdf8464087b728651a494bf152",
       "version_major": 2,
       "version_minor": 0
      },
      "text/plain": [
       "BM25S Count Tokens:   0%|          | 0/45 [00:00<?, ?it/s]"
      ]
     },
     "metadata": {},
     "output_type": "display_data"
    },
    {
     "data": {
      "application/vnd.jupyter.widget-view+json": {
       "model_id": "9b98e1ea599c44beb99856f51fa72853",
       "version_major": 2,
       "version_minor": 0
      },
      "text/plain": [
       "BM25S Compute Scores:   0%|          | 0/45 [00:00<?, ?it/s]"
      ]
     },
     "metadata": {},
     "output_type": "display_data"
    },
    {
     "data": {
      "application/vnd.jupyter.widget-view+json": {
       "model_id": "b9b4357e95c24d1998dc62c18c24bc80",
       "version_major": 2,
       "version_minor": 0
      },
      "text/plain": [
       "Split strings:   0%|          | 0/1 [00:00<?, ?it/s]"
      ]
     },
     "metadata": {},
     "output_type": "display_data"
    },
    {
     "data": {
      "application/vnd.jupyter.widget-view+json": {
       "model_id": "c922a9bbe5bd4d9ea55c7af08bf68c8d",
       "version_major": 2,
       "version_minor": 0
      },
      "text/plain": [
       "BM25S Retrieve:   0%|          | 0/1 [00:00<?, ?it/s]"
      ]
     },
     "metadata": {},
     "output_type": "display_data"
    },
    {
     "data": {
      "application/vnd.jupyter.widget-view+json": {
       "model_id": "14dd8d3b240248b3b736aa6403613a3b",
       "version_major": 2,
       "version_minor": 0
      },
      "text/plain": [
       "Split strings:   0%|          | 0/52 [00:00<?, ?it/s]"
      ]
     },
     "metadata": {},
     "output_type": "display_data"
    },
    {
     "data": {
      "application/vnd.jupyter.widget-view+json": {
       "model_id": "2cd00b3429f94fb496cc0120ddd7708f",
       "version_major": 2,
       "version_minor": 0
      },
      "text/plain": [
       "BM25S Count Tokens:   0%|          | 0/52 [00:00<?, ?it/s]"
      ]
     },
     "metadata": {},
     "output_type": "display_data"
    },
    {
     "data": {
      "application/vnd.jupyter.widget-view+json": {
       "model_id": "35bcc5851a8740b4a27901361a8f5c78",
       "version_major": 2,
       "version_minor": 0
      },
      "text/plain": [
       "BM25S Compute Scores:   0%|          | 0/52 [00:00<?, ?it/s]"
      ]
     },
     "metadata": {},
     "output_type": "display_data"
    },
    {
     "data": {
      "application/vnd.jupyter.widget-view+json": {
       "model_id": "d386e0fe62934f17af1a62734e7ee15c",
       "version_major": 2,
       "version_minor": 0
      },
      "text/plain": [
       "Split strings:   0%|          | 0/1 [00:00<?, ?it/s]"
      ]
     },
     "metadata": {},
     "output_type": "display_data"
    },
    {
     "data": {
      "application/vnd.jupyter.widget-view+json": {
       "model_id": "407a9ac174d2427ba05448b75695c088",
       "version_major": 2,
       "version_minor": 0
      },
      "text/plain": [
       "BM25S Retrieve:   0%|          | 0/1 [00:00<?, ?it/s]"
      ]
     },
     "metadata": {},
     "output_type": "display_data"
    },
    {
     "data": {
      "application/vnd.jupyter.widget-view+json": {
       "model_id": "33b9e0ec602249e1831f787af4e83031",
       "version_major": 2,
       "version_minor": 0
      },
      "text/plain": [
       "Split strings:   0%|          | 0/63 [00:00<?, ?it/s]"
      ]
     },
     "metadata": {},
     "output_type": "display_data"
    },
    {
     "data": {
      "application/vnd.jupyter.widget-view+json": {
       "model_id": "a2b5117689cd49e7915c781902cf7df5",
       "version_major": 2,
       "version_minor": 0
      },
      "text/plain": [
       "BM25S Count Tokens:   0%|          | 0/63 [00:00<?, ?it/s]"
      ]
     },
     "metadata": {},
     "output_type": "display_data"
    },
    {
     "data": {
      "application/vnd.jupyter.widget-view+json": {
       "model_id": "4d7df90ce4904fb98d833ba88888f741",
       "version_major": 2,
       "version_minor": 0
      },
      "text/plain": [
       "BM25S Compute Scores:   0%|          | 0/63 [00:00<?, ?it/s]"
      ]
     },
     "metadata": {},
     "output_type": "display_data"
    },
    {
     "data": {
      "application/vnd.jupyter.widget-view+json": {
       "model_id": "30ace6c50bbc432dbe19c2295f352a7c",
       "version_major": 2,
       "version_minor": 0
      },
      "text/plain": [
       "Split strings:   0%|          | 0/1 [00:00<?, ?it/s]"
      ]
     },
     "metadata": {},
     "output_type": "display_data"
    },
    {
     "data": {
      "application/vnd.jupyter.widget-view+json": {
       "model_id": "aa40d70d75b54cb0a68e4d3e7e43883a",
       "version_major": 2,
       "version_minor": 0
      },
      "text/plain": [
       "BM25S Retrieve:   0%|          | 0/1 [00:00<?, ?it/s]"
      ]
     },
     "metadata": {},
     "output_type": "display_data"
    },
    {
     "data": {
      "application/vnd.jupyter.widget-view+json": {
       "model_id": "208d17919dc741b28aa16329e3a179c3",
       "version_major": 2,
       "version_minor": 0
      },
      "text/plain": [
       "Split strings:   0%|          | 0/51 [00:00<?, ?it/s]"
      ]
     },
     "metadata": {},
     "output_type": "display_data"
    },
    {
     "data": {
      "application/vnd.jupyter.widget-view+json": {
       "model_id": "a6d444adae4347e1941717ae9ebc2b85",
       "version_major": 2,
       "version_minor": 0
      },
      "text/plain": [
       "BM25S Count Tokens:   0%|          | 0/51 [00:00<?, ?it/s]"
      ]
     },
     "metadata": {},
     "output_type": "display_data"
    },
    {
     "data": {
      "application/vnd.jupyter.widget-view+json": {
       "model_id": "ba431b1041c845e992841f1794ffe55c",
       "version_major": 2,
       "version_minor": 0
      },
      "text/plain": [
       "BM25S Compute Scores:   0%|          | 0/51 [00:00<?, ?it/s]"
      ]
     },
     "metadata": {},
     "output_type": "display_data"
    },
    {
     "data": {
      "application/vnd.jupyter.widget-view+json": {
       "model_id": "210f0da616c9411d8a1d8210de04c437",
       "version_major": 2,
       "version_minor": 0
      },
      "text/plain": [
       "Split strings:   0%|          | 0/1 [00:00<?, ?it/s]"
      ]
     },
     "metadata": {},
     "output_type": "display_data"
    },
    {
     "data": {
      "application/vnd.jupyter.widget-view+json": {
       "model_id": "75fc00659df04d4d92fb19efc1c2fbc5",
       "version_major": 2,
       "version_minor": 0
      },
      "text/plain": [
       "BM25S Retrieve:   0%|          | 0/1 [00:00<?, ?it/s]"
      ]
     },
     "metadata": {},
     "output_type": "display_data"
    },
    {
     "data": {
      "application/vnd.jupyter.widget-view+json": {
       "model_id": "739cb2eb41ed4804af0412aa734539ce",
       "version_major": 2,
       "version_minor": 0
      },
      "text/plain": [
       "Split strings:   0%|          | 0/40 [00:00<?, ?it/s]"
      ]
     },
     "metadata": {},
     "output_type": "display_data"
    },
    {
     "data": {
      "application/vnd.jupyter.widget-view+json": {
       "model_id": "d273459c71884b1f8d6de1b57695dd64",
       "version_major": 2,
       "version_minor": 0
      },
      "text/plain": [
       "BM25S Count Tokens:   0%|          | 0/40 [00:00<?, ?it/s]"
      ]
     },
     "metadata": {},
     "output_type": "display_data"
    },
    {
     "data": {
      "application/vnd.jupyter.widget-view+json": {
       "model_id": "559eed973ada485d8217a3441b5eb371",
       "version_major": 2,
       "version_minor": 0
      },
      "text/plain": [
       "BM25S Compute Scores:   0%|          | 0/40 [00:00<?, ?it/s]"
      ]
     },
     "metadata": {},
     "output_type": "display_data"
    },
    {
     "data": {
      "application/vnd.jupyter.widget-view+json": {
       "model_id": "b4597b3085ae44699f351afd6243db3c",
       "version_major": 2,
       "version_minor": 0
      },
      "text/plain": [
       "Split strings:   0%|          | 0/1 [00:00<?, ?it/s]"
      ]
     },
     "metadata": {},
     "output_type": "display_data"
    },
    {
     "data": {
      "application/vnd.jupyter.widget-view+json": {
       "model_id": "c8b2a19a076f455d84ff1d4bdfb4addd",
       "version_major": 2,
       "version_minor": 0
      },
      "text/plain": [
       "BM25S Retrieve:   0%|          | 0/1 [00:00<?, ?it/s]"
      ]
     },
     "metadata": {},
     "output_type": "display_data"
    },
    {
     "data": {
      "application/vnd.jupyter.widget-view+json": {
       "model_id": "5a579a0d85fc4c91b3bc022e6de3a196",
       "version_major": 2,
       "version_minor": 0
      },
      "text/plain": [
       "Split strings:   0%|          | 0/26 [00:00<?, ?it/s]"
      ]
     },
     "metadata": {},
     "output_type": "display_data"
    },
    {
     "data": {
      "application/vnd.jupyter.widget-view+json": {
       "model_id": "dd62c548dfce4991a83e9df9e65331f5",
       "version_major": 2,
       "version_minor": 0
      },
      "text/plain": [
       "BM25S Count Tokens:   0%|          | 0/26 [00:00<?, ?it/s]"
      ]
     },
     "metadata": {},
     "output_type": "display_data"
    },
    {
     "data": {
      "application/vnd.jupyter.widget-view+json": {
       "model_id": "bec520b5d32d411fb80da5db917616a1",
       "version_major": 2,
       "version_minor": 0
      },
      "text/plain": [
       "BM25S Compute Scores:   0%|          | 0/26 [00:00<?, ?it/s]"
      ]
     },
     "metadata": {},
     "output_type": "display_data"
    },
    {
     "data": {
      "application/vnd.jupyter.widget-view+json": {
       "model_id": "d5d4b3cad5484bd8a79bab62a97f0569",
       "version_major": 2,
       "version_minor": 0
      },
      "text/plain": [
       "Split strings:   0%|          | 0/1 [00:00<?, ?it/s]"
      ]
     },
     "metadata": {},
     "output_type": "display_data"
    },
    {
     "data": {
      "application/vnd.jupyter.widget-view+json": {
       "model_id": "cefce95da5b9483f885f3a135d02c4d1",
       "version_major": 2,
       "version_minor": 0
      },
      "text/plain": [
       "BM25S Retrieve:   0%|          | 0/1 [00:00<?, ?it/s]"
      ]
     },
     "metadata": {},
     "output_type": "display_data"
    },
    {
     "data": {
      "application/vnd.jupyter.widget-view+json": {
       "model_id": "47c0047034234e5097a571ea0d7578d2",
       "version_major": 2,
       "version_minor": 0
      },
      "text/plain": [
       "Split strings:   0%|          | 0/26 [00:00<?, ?it/s]"
      ]
     },
     "metadata": {},
     "output_type": "display_data"
    },
    {
     "data": {
      "application/vnd.jupyter.widget-view+json": {
       "model_id": "216a90c9156e4e2fabb1601ad9007442",
       "version_major": 2,
       "version_minor": 0
      },
      "text/plain": [
       "BM25S Count Tokens:   0%|          | 0/26 [00:00<?, ?it/s]"
      ]
     },
     "metadata": {},
     "output_type": "display_data"
    },
    {
     "data": {
      "application/vnd.jupyter.widget-view+json": {
       "model_id": "eb2fd93a63eb42e7bae3544a95ae2e15",
       "version_major": 2,
       "version_minor": 0
      },
      "text/plain": [
       "BM25S Compute Scores:   0%|          | 0/26 [00:00<?, ?it/s]"
      ]
     },
     "metadata": {},
     "output_type": "display_data"
    },
    {
     "data": {
      "application/vnd.jupyter.widget-view+json": {
       "model_id": "45fe13aad43e4fef88cc28cbbc6c9062",
       "version_major": 2,
       "version_minor": 0
      },
      "text/plain": [
       "Split strings:   0%|          | 0/1 [00:00<?, ?it/s]"
      ]
     },
     "metadata": {},
     "output_type": "display_data"
    },
    {
     "data": {
      "application/vnd.jupyter.widget-view+json": {
       "model_id": "45b8578393194b8abd2029a88f787bd4",
       "version_major": 2,
       "version_minor": 0
      },
      "text/plain": [
       "BM25S Retrieve:   0%|          | 0/1 [00:00<?, ?it/s]"
      ]
     },
     "metadata": {},
     "output_type": "display_data"
    },
    {
     "data": {
      "application/vnd.jupyter.widget-view+json": {
       "model_id": "6c01a47f91664c439c5be494438f5f3e",
       "version_major": 2,
       "version_minor": 0
      },
      "text/plain": [
       "Split strings:   0%|          | 0/27 [00:00<?, ?it/s]"
      ]
     },
     "metadata": {},
     "output_type": "display_data"
    },
    {
     "data": {
      "application/vnd.jupyter.widget-view+json": {
       "model_id": "31b430582a594e73b56fa44948424fe8",
       "version_major": 2,
       "version_minor": 0
      },
      "text/plain": [
       "BM25S Count Tokens:   0%|          | 0/27 [00:00<?, ?it/s]"
      ]
     },
     "metadata": {},
     "output_type": "display_data"
    },
    {
     "data": {
      "application/vnd.jupyter.widget-view+json": {
       "model_id": "a19851287df54954a585de1645bd8d2c",
       "version_major": 2,
       "version_minor": 0
      },
      "text/plain": [
       "BM25S Compute Scores:   0%|          | 0/27 [00:00<?, ?it/s]"
      ]
     },
     "metadata": {},
     "output_type": "display_data"
    },
    {
     "data": {
      "application/vnd.jupyter.widget-view+json": {
       "model_id": "8db4cbfb30be465794e830b5e7416984",
       "version_major": 2,
       "version_minor": 0
      },
      "text/plain": [
       "Split strings:   0%|          | 0/1 [00:00<?, ?it/s]"
      ]
     },
     "metadata": {},
     "output_type": "display_data"
    },
    {
     "data": {
      "application/vnd.jupyter.widget-view+json": {
       "model_id": "8ac9a4bc13884b038396791abd32ce57",
       "version_major": 2,
       "version_minor": 0
      },
      "text/plain": [
       "BM25S Retrieve:   0%|          | 0/1 [00:00<?, ?it/s]"
      ]
     },
     "metadata": {},
     "output_type": "display_data"
    },
    {
     "data": {
      "application/vnd.jupyter.widget-view+json": {
       "model_id": "c265aaee7da440bea4a93030f1d36615",
       "version_major": 2,
       "version_minor": 0
      },
      "text/plain": [
       "Split strings:   0%|          | 0/79 [00:00<?, ?it/s]"
      ]
     },
     "metadata": {},
     "output_type": "display_data"
    },
    {
     "data": {
      "application/vnd.jupyter.widget-view+json": {
       "model_id": "136e89b7a4ef4e9085d382a7f0a6da32",
       "version_major": 2,
       "version_minor": 0
      },
      "text/plain": [
       "BM25S Count Tokens:   0%|          | 0/79 [00:00<?, ?it/s]"
      ]
     },
     "metadata": {},
     "output_type": "display_data"
    },
    {
     "data": {
      "application/vnd.jupyter.widget-view+json": {
       "model_id": "9a296f9b9c044a158d17ae5bc9fbf49d",
       "version_major": 2,
       "version_minor": 0
      },
      "text/plain": [
       "BM25S Compute Scores:   0%|          | 0/79 [00:00<?, ?it/s]"
      ]
     },
     "metadata": {},
     "output_type": "display_data"
    },
    {
     "data": {
      "application/vnd.jupyter.widget-view+json": {
       "model_id": "a445563371774e63b7b3c1dc49080c91",
       "version_major": 2,
       "version_minor": 0
      },
      "text/plain": [
       "Split strings:   0%|          | 0/1 [00:00<?, ?it/s]"
      ]
     },
     "metadata": {},
     "output_type": "display_data"
    },
    {
     "data": {
      "application/vnd.jupyter.widget-view+json": {
       "model_id": "48ebc73600e04c3da1546203eaa8b4ca",
       "version_major": 2,
       "version_minor": 0
      },
      "text/plain": [
       "BM25S Retrieve:   0%|          | 0/1 [00:00<?, ?it/s]"
      ]
     },
     "metadata": {},
     "output_type": "display_data"
    },
    {
     "data": {
      "application/vnd.jupyter.widget-view+json": {
       "model_id": "ae8ffd16c3d348a0858cdcb55a074d14",
       "version_major": 2,
       "version_minor": 0
      },
      "text/plain": [
       "Split strings:   0%|          | 0/43 [00:00<?, ?it/s]"
      ]
     },
     "metadata": {},
     "output_type": "display_data"
    },
    {
     "data": {
      "application/vnd.jupyter.widget-view+json": {
       "model_id": "bae3d822b87c4095b18f21e470644aa8",
       "version_major": 2,
       "version_minor": 0
      },
      "text/plain": [
       "BM25S Count Tokens:   0%|          | 0/43 [00:00<?, ?it/s]"
      ]
     },
     "metadata": {},
     "output_type": "display_data"
    },
    {
     "data": {
      "application/vnd.jupyter.widget-view+json": {
       "model_id": "1901048c4de84703b51b66018b398214",
       "version_major": 2,
       "version_minor": 0
      },
      "text/plain": [
       "BM25S Compute Scores:   0%|          | 0/43 [00:00<?, ?it/s]"
      ]
     },
     "metadata": {},
     "output_type": "display_data"
    },
    {
     "data": {
      "application/vnd.jupyter.widget-view+json": {
       "model_id": "af0bc26561fe46d48147289048391388",
       "version_major": 2,
       "version_minor": 0
      },
      "text/plain": [
       "Split strings:   0%|          | 0/1 [00:00<?, ?it/s]"
      ]
     },
     "metadata": {},
     "output_type": "display_data"
    },
    {
     "data": {
      "application/vnd.jupyter.widget-view+json": {
       "model_id": "212357376f0c4d158bc1501a3e335ce7",
       "version_major": 2,
       "version_minor": 0
      },
      "text/plain": [
       "BM25S Retrieve:   0%|          | 0/1 [00:00<?, ?it/s]"
      ]
     },
     "metadata": {},
     "output_type": "display_data"
    },
    {
     "data": {
      "application/vnd.jupyter.widget-view+json": {
       "model_id": "aee3d2d434854a17a9469b7019a1ecf3",
       "version_major": 2,
       "version_minor": 0
      },
      "text/plain": [
       "Split strings:   0%|          | 0/25 [00:00<?, ?it/s]"
      ]
     },
     "metadata": {},
     "output_type": "display_data"
    },
    {
     "data": {
      "application/vnd.jupyter.widget-view+json": {
       "model_id": "a1ed709de9034ad7ac09a2536a9b677a",
       "version_major": 2,
       "version_minor": 0
      },
      "text/plain": [
       "BM25S Count Tokens:   0%|          | 0/25 [00:00<?, ?it/s]"
      ]
     },
     "metadata": {},
     "output_type": "display_data"
    },
    {
     "data": {
      "application/vnd.jupyter.widget-view+json": {
       "model_id": "3f85da1ae66e48659d8c56dce0d90e0c",
       "version_major": 2,
       "version_minor": 0
      },
      "text/plain": [
       "BM25S Compute Scores:   0%|          | 0/25 [00:00<?, ?it/s]"
      ]
     },
     "metadata": {},
     "output_type": "display_data"
    },
    {
     "data": {
      "application/vnd.jupyter.widget-view+json": {
       "model_id": "92f66a36bc734f0880304ba4a7e7ed87",
       "version_major": 2,
       "version_minor": 0
      },
      "text/plain": [
       "Split strings:   0%|          | 0/1 [00:00<?, ?it/s]"
      ]
     },
     "metadata": {},
     "output_type": "display_data"
    },
    {
     "data": {
      "application/vnd.jupyter.widget-view+json": {
       "model_id": "f1c749d6959142d8b67b4726d65a7889",
       "version_major": 2,
       "version_minor": 0
      },
      "text/plain": [
       "BM25S Retrieve:   0%|          | 0/1 [00:00<?, ?it/s]"
      ]
     },
     "metadata": {},
     "output_type": "display_data"
    },
    {
     "data": {
      "application/vnd.jupyter.widget-view+json": {
       "model_id": "1b3583625e314ba782c5c293811c0ea9",
       "version_major": 2,
       "version_minor": 0
      },
      "text/plain": [
       "Split strings:   0%|          | 0/70 [00:00<?, ?it/s]"
      ]
     },
     "metadata": {},
     "output_type": "display_data"
    },
    {
     "data": {
      "application/vnd.jupyter.widget-view+json": {
       "model_id": "1532bd28d9b1411abe95515d2396cf5d",
       "version_major": 2,
       "version_minor": 0
      },
      "text/plain": [
       "BM25S Count Tokens:   0%|          | 0/70 [00:00<?, ?it/s]"
      ]
     },
     "metadata": {},
     "output_type": "display_data"
    },
    {
     "data": {
      "application/vnd.jupyter.widget-view+json": {
       "model_id": "8bf2d87d98dc48eea17cb441f29dcaf0",
       "version_major": 2,
       "version_minor": 0
      },
      "text/plain": [
       "BM25S Compute Scores:   0%|          | 0/70 [00:00<?, ?it/s]"
      ]
     },
     "metadata": {},
     "output_type": "display_data"
    },
    {
     "data": {
      "application/vnd.jupyter.widget-view+json": {
       "model_id": "11764e34db824832b4b503e276729c2f",
       "version_major": 2,
       "version_minor": 0
      },
      "text/plain": [
       "Split strings:   0%|          | 0/1 [00:00<?, ?it/s]"
      ]
     },
     "metadata": {},
     "output_type": "display_data"
    },
    {
     "data": {
      "application/vnd.jupyter.widget-view+json": {
       "model_id": "2fcb7c66f8cc4018b3d432fe6c73cca5",
       "version_major": 2,
       "version_minor": 0
      },
      "text/plain": [
       "BM25S Retrieve:   0%|          | 0/1 [00:00<?, ?it/s]"
      ]
     },
     "metadata": {},
     "output_type": "display_data"
    },
    {
     "data": {
      "application/vnd.jupyter.widget-view+json": {
       "model_id": "d46f8f6aa7314e5f99f840c0131b88c3",
       "version_major": 2,
       "version_minor": 0
      },
      "text/plain": [
       "Split strings:   0%|          | 0/43 [00:00<?, ?it/s]"
      ]
     },
     "metadata": {},
     "output_type": "display_data"
    },
    {
     "data": {
      "application/vnd.jupyter.widget-view+json": {
       "model_id": "bbdacd1417b340759f49692f95a30d72",
       "version_major": 2,
       "version_minor": 0
      },
      "text/plain": [
       "BM25S Count Tokens:   0%|          | 0/43 [00:00<?, ?it/s]"
      ]
     },
     "metadata": {},
     "output_type": "display_data"
    },
    {
     "data": {
      "application/vnd.jupyter.widget-view+json": {
       "model_id": "b59496d6c66c453ca4b7e925079ec517",
       "version_major": 2,
       "version_minor": 0
      },
      "text/plain": [
       "BM25S Compute Scores:   0%|          | 0/43 [00:00<?, ?it/s]"
      ]
     },
     "metadata": {},
     "output_type": "display_data"
    },
    {
     "data": {
      "application/vnd.jupyter.widget-view+json": {
       "model_id": "45d56a8dbe0b4727a322785459ecc904",
       "version_major": 2,
       "version_minor": 0
      },
      "text/plain": [
       "Split strings:   0%|          | 0/1 [00:00<?, ?it/s]"
      ]
     },
     "metadata": {},
     "output_type": "display_data"
    },
    {
     "data": {
      "application/vnd.jupyter.widget-view+json": {
       "model_id": "48886e6a4ffe4184af0e48579333a3c7",
       "version_major": 2,
       "version_minor": 0
      },
      "text/plain": [
       "BM25S Retrieve:   0%|          | 0/1 [00:00<?, ?it/s]"
      ]
     },
     "metadata": {},
     "output_type": "display_data"
    },
    {
     "data": {
      "application/vnd.jupyter.widget-view+json": {
       "model_id": "cd086b8114f749e6ac2d72646796c764",
       "version_major": 2,
       "version_minor": 0
      },
      "text/plain": [
       "Split strings:   0%|          | 0/25 [00:00<?, ?it/s]"
      ]
     },
     "metadata": {},
     "output_type": "display_data"
    },
    {
     "data": {
      "application/vnd.jupyter.widget-view+json": {
       "model_id": "63dd1e5f0b114cf8ba75eb29b27661ba",
       "version_major": 2,
       "version_minor": 0
      },
      "text/plain": [
       "BM25S Count Tokens:   0%|          | 0/25 [00:00<?, ?it/s]"
      ]
     },
     "metadata": {},
     "output_type": "display_data"
    },
    {
     "data": {
      "application/vnd.jupyter.widget-view+json": {
       "model_id": "0ea3453d05184221844dc32e3e4c8aa4",
       "version_major": 2,
       "version_minor": 0
      },
      "text/plain": [
       "BM25S Compute Scores:   0%|          | 0/25 [00:00<?, ?it/s]"
      ]
     },
     "metadata": {},
     "output_type": "display_data"
    },
    {
     "data": {
      "application/vnd.jupyter.widget-view+json": {
       "model_id": "5be85f48739e432a8b2ffa2b218d61d2",
       "version_major": 2,
       "version_minor": 0
      },
      "text/plain": [
       "Split strings:   0%|          | 0/1 [00:00<?, ?it/s]"
      ]
     },
     "metadata": {},
     "output_type": "display_data"
    },
    {
     "data": {
      "application/vnd.jupyter.widget-view+json": {
       "model_id": "32d18e2b914e4340bcc5fc8900ab539d",
       "version_major": 2,
       "version_minor": 0
      },
      "text/plain": [
       "BM25S Retrieve:   0%|          | 0/1 [00:00<?, ?it/s]"
      ]
     },
     "metadata": {},
     "output_type": "display_data"
    },
    {
     "data": {
      "application/vnd.jupyter.widget-view+json": {
       "model_id": "7f57e95539784956be3d65386cc2fd57",
       "version_major": 2,
       "version_minor": 0
      },
      "text/plain": [
       "Split strings:   0%|          | 0/79 [00:00<?, ?it/s]"
      ]
     },
     "metadata": {},
     "output_type": "display_data"
    },
    {
     "data": {
      "application/vnd.jupyter.widget-view+json": {
       "model_id": "ddc98e351605498bb1b1247f664ae1da",
       "version_major": 2,
       "version_minor": 0
      },
      "text/plain": [
       "BM25S Count Tokens:   0%|          | 0/79 [00:00<?, ?it/s]"
      ]
     },
     "metadata": {},
     "output_type": "display_data"
    },
    {
     "data": {
      "application/vnd.jupyter.widget-view+json": {
       "model_id": "35bb749b81ab441ab90f4714029848d8",
       "version_major": 2,
       "version_minor": 0
      },
      "text/plain": [
       "BM25S Compute Scores:   0%|          | 0/79 [00:00<?, ?it/s]"
      ]
     },
     "metadata": {},
     "output_type": "display_data"
    },
    {
     "data": {
      "application/vnd.jupyter.widget-view+json": {
       "model_id": "42f1fbec390242d78e9d65c03c4009de",
       "version_major": 2,
       "version_minor": 0
      },
      "text/plain": [
       "Split strings:   0%|          | 0/1 [00:00<?, ?it/s]"
      ]
     },
     "metadata": {},
     "output_type": "display_data"
    },
    {
     "data": {
      "application/vnd.jupyter.widget-view+json": {
       "model_id": "2f0f66bb66ba4e7497f99b258503b86a",
       "version_major": 2,
       "version_minor": 0
      },
      "text/plain": [
       "BM25S Retrieve:   0%|          | 0/1 [00:00<?, ?it/s]"
      ]
     },
     "metadata": {},
     "output_type": "display_data"
    },
    {
     "data": {
      "application/vnd.jupyter.widget-view+json": {
       "model_id": "cd20c30857f449f39faf3230bed30c60",
       "version_major": 2,
       "version_minor": 0
      },
      "text/plain": [
       "Split strings:   0%|          | 0/25 [00:00<?, ?it/s]"
      ]
     },
     "metadata": {},
     "output_type": "display_data"
    },
    {
     "data": {
      "application/vnd.jupyter.widget-view+json": {
       "model_id": "cd8bb568b56545ff8c7e702580bb059c",
       "version_major": 2,
       "version_minor": 0
      },
      "text/plain": [
       "BM25S Count Tokens:   0%|          | 0/25 [00:00<?, ?it/s]"
      ]
     },
     "metadata": {},
     "output_type": "display_data"
    },
    {
     "data": {
      "application/vnd.jupyter.widget-view+json": {
       "model_id": "18e873d92ac64e5fac47ec4d1487e300",
       "version_major": 2,
       "version_minor": 0
      },
      "text/plain": [
       "BM25S Compute Scores:   0%|          | 0/25 [00:00<?, ?it/s]"
      ]
     },
     "metadata": {},
     "output_type": "display_data"
    },
    {
     "data": {
      "application/vnd.jupyter.widget-view+json": {
       "model_id": "81d23d6b3cea4f749cb53a5649e009ad",
       "version_major": 2,
       "version_minor": 0
      },
      "text/plain": [
       "Split strings:   0%|          | 0/1 [00:00<?, ?it/s]"
      ]
     },
     "metadata": {},
     "output_type": "display_data"
    },
    {
     "data": {
      "application/vnd.jupyter.widget-view+json": {
       "model_id": "b1bc1591fba8482486efebf0ed4a884b",
       "version_major": 2,
       "version_minor": 0
      },
      "text/plain": [
       "BM25S Retrieve:   0%|          | 0/1 [00:00<?, ?it/s]"
      ]
     },
     "metadata": {},
     "output_type": "display_data"
    },
    {
     "data": {
      "application/vnd.jupyter.widget-view+json": {
       "model_id": "44a05811e54941bf97a6c022e5c6ebfe",
       "version_major": 2,
       "version_minor": 0
      },
      "text/plain": [
       "Split strings:   0%|          | 0/70 [00:00<?, ?it/s]"
      ]
     },
     "metadata": {},
     "output_type": "display_data"
    },
    {
     "data": {
      "application/vnd.jupyter.widget-view+json": {
       "model_id": "366eef6bdc5f4c64b4df80f02bd55557",
       "version_major": 2,
       "version_minor": 0
      },
      "text/plain": [
       "BM25S Count Tokens:   0%|          | 0/70 [00:00<?, ?it/s]"
      ]
     },
     "metadata": {},
     "output_type": "display_data"
    },
    {
     "data": {
      "application/vnd.jupyter.widget-view+json": {
       "model_id": "7d239137c79d423e93a8c2ae345041cb",
       "version_major": 2,
       "version_minor": 0
      },
      "text/plain": [
       "BM25S Compute Scores:   0%|          | 0/70 [00:00<?, ?it/s]"
      ]
     },
     "metadata": {},
     "output_type": "display_data"
    },
    {
     "data": {
      "application/vnd.jupyter.widget-view+json": {
       "model_id": "e781461c70f94eba8efe450e6a219e77",
       "version_major": 2,
       "version_minor": 0
      },
      "text/plain": [
       "Split strings:   0%|          | 0/1 [00:00<?, ?it/s]"
      ]
     },
     "metadata": {},
     "output_type": "display_data"
    },
    {
     "data": {
      "application/vnd.jupyter.widget-view+json": {
       "model_id": "f6d87f7ea4e84337aaa03171e4548af8",
       "version_major": 2,
       "version_minor": 0
      },
      "text/plain": [
       "BM25S Retrieve:   0%|          | 0/1 [00:00<?, ?it/s]"
      ]
     },
     "metadata": {},
     "output_type": "display_data"
    },
    {
     "data": {
      "application/vnd.jupyter.widget-view+json": {
       "model_id": "6eba8bdb41284d1b9085e582d8f24df4",
       "version_major": 2,
       "version_minor": 0
      },
      "text/plain": [
       "Split strings:   0%|          | 0/23 [00:00<?, ?it/s]"
      ]
     },
     "metadata": {},
     "output_type": "display_data"
    },
    {
     "data": {
      "application/vnd.jupyter.widget-view+json": {
       "model_id": "eaf51e078a9d4d0f86fded63704edb88",
       "version_major": 2,
       "version_minor": 0
      },
      "text/plain": [
       "BM25S Count Tokens:   0%|          | 0/23 [00:00<?, ?it/s]"
      ]
     },
     "metadata": {},
     "output_type": "display_data"
    },
    {
     "data": {
      "application/vnd.jupyter.widget-view+json": {
       "model_id": "3007b2dbc6cb4bf7aa970fe4459c51ca",
       "version_major": 2,
       "version_minor": 0
      },
      "text/plain": [
       "BM25S Compute Scores:   0%|          | 0/23 [00:00<?, ?it/s]"
      ]
     },
     "metadata": {},
     "output_type": "display_data"
    },
    {
     "data": {
      "application/vnd.jupyter.widget-view+json": {
       "model_id": "9741aa789d61458dbf58b19add442b42",
       "version_major": 2,
       "version_minor": 0
      },
      "text/plain": [
       "Split strings:   0%|          | 0/1 [00:00<?, ?it/s]"
      ]
     },
     "metadata": {},
     "output_type": "display_data"
    },
    {
     "data": {
      "application/vnd.jupyter.widget-view+json": {
       "model_id": "fd122d03a1014a2086f9574d2310e5aa",
       "version_major": 2,
       "version_minor": 0
      },
      "text/plain": [
       "BM25S Retrieve:   0%|          | 0/1 [00:00<?, ?it/s]"
      ]
     },
     "metadata": {},
     "output_type": "display_data"
    },
    {
     "data": {
      "application/vnd.jupyter.widget-view+json": {
       "model_id": "ebf08b10cd224478a31c068052c73b27",
       "version_major": 2,
       "version_minor": 0
      },
      "text/plain": [
       "Split strings:   0%|          | 0/43 [00:00<?, ?it/s]"
      ]
     },
     "metadata": {},
     "output_type": "display_data"
    },
    {
     "data": {
      "application/vnd.jupyter.widget-view+json": {
       "model_id": "6ebfe1369db1490c95444ef8be27a831",
       "version_major": 2,
       "version_minor": 0
      },
      "text/plain": [
       "BM25S Count Tokens:   0%|          | 0/43 [00:00<?, ?it/s]"
      ]
     },
     "metadata": {},
     "output_type": "display_data"
    },
    {
     "data": {
      "application/vnd.jupyter.widget-view+json": {
       "model_id": "b715356b151f473e8f8f351f07a5969e",
       "version_major": 2,
       "version_minor": 0
      },
      "text/plain": [
       "BM25S Compute Scores:   0%|          | 0/43 [00:00<?, ?it/s]"
      ]
     },
     "metadata": {},
     "output_type": "display_data"
    },
    {
     "data": {
      "application/vnd.jupyter.widget-view+json": {
       "model_id": "108d1fb31e324b66a235f01d35ad178d",
       "version_major": 2,
       "version_minor": 0
      },
      "text/plain": [
       "Split strings:   0%|          | 0/1 [00:00<?, ?it/s]"
      ]
     },
     "metadata": {},
     "output_type": "display_data"
    },
    {
     "data": {
      "application/vnd.jupyter.widget-view+json": {
       "model_id": "f1774bc6326c4770983b1eb19e5aa9e7",
       "version_major": 2,
       "version_minor": 0
      },
      "text/plain": [
       "BM25S Retrieve:   0%|          | 0/1 [00:00<?, ?it/s]"
      ]
     },
     "metadata": {},
     "output_type": "display_data"
    },
    {
     "data": {
      "application/vnd.jupyter.widget-view+json": {
       "model_id": "42651d0d77b8424ca65159a37e274461",
       "version_major": 2,
       "version_minor": 0
      },
      "text/plain": [
       "Split strings:   0%|          | 0/30 [00:00<?, ?it/s]"
      ]
     },
     "metadata": {},
     "output_type": "display_data"
    },
    {
     "data": {
      "application/vnd.jupyter.widget-view+json": {
       "model_id": "0d941c5a1a3b43a2a0f5b22b8a46954c",
       "version_major": 2,
       "version_minor": 0
      },
      "text/plain": [
       "BM25S Count Tokens:   0%|          | 0/30 [00:00<?, ?it/s]"
      ]
     },
     "metadata": {},
     "output_type": "display_data"
    },
    {
     "data": {
      "application/vnd.jupyter.widget-view+json": {
       "model_id": "bd6f989e5da748de97e5d605f6f6f4ee",
       "version_major": 2,
       "version_minor": 0
      },
      "text/plain": [
       "BM25S Compute Scores:   0%|          | 0/30 [00:00<?, ?it/s]"
      ]
     },
     "metadata": {},
     "output_type": "display_data"
    },
    {
     "data": {
      "application/vnd.jupyter.widget-view+json": {
       "model_id": "18662aca8e4a4e45aaf1a55b8d105833",
       "version_major": 2,
       "version_minor": 0
      },
      "text/plain": [
       "Split strings:   0%|          | 0/1 [00:00<?, ?it/s]"
      ]
     },
     "metadata": {},
     "output_type": "display_data"
    },
    {
     "data": {
      "application/vnd.jupyter.widget-view+json": {
       "model_id": "b81cc0e84d6140df82eef7952670e2bd",
       "version_major": 2,
       "version_minor": 0
      },
      "text/plain": [
       "BM25S Retrieve:   0%|          | 0/1 [00:00<?, ?it/s]"
      ]
     },
     "metadata": {},
     "output_type": "display_data"
    },
    {
     "data": {
      "application/vnd.jupyter.widget-view+json": {
       "model_id": "cd08f1f537c14158944c896c1de5496b",
       "version_major": 2,
       "version_minor": 0
      },
      "text/plain": [
       "Split strings:   0%|          | 0/79 [00:00<?, ?it/s]"
      ]
     },
     "metadata": {},
     "output_type": "display_data"
    },
    {
     "data": {
      "application/vnd.jupyter.widget-view+json": {
       "model_id": "4bae92fa4cb4457aa7e0292dfba5aa61",
       "version_major": 2,
       "version_minor": 0
      },
      "text/plain": [
       "BM25S Count Tokens:   0%|          | 0/79 [00:00<?, ?it/s]"
      ]
     },
     "metadata": {},
     "output_type": "display_data"
    },
    {
     "data": {
      "application/vnd.jupyter.widget-view+json": {
       "model_id": "7dea3c84b02444afb2bc905da5416011",
       "version_major": 2,
       "version_minor": 0
      },
      "text/plain": [
       "BM25S Compute Scores:   0%|          | 0/79 [00:00<?, ?it/s]"
      ]
     },
     "metadata": {},
     "output_type": "display_data"
    },
    {
     "data": {
      "application/vnd.jupyter.widget-view+json": {
       "model_id": "7ec363eeba3c42b5a9a5b8b36471a9b0",
       "version_major": 2,
       "version_minor": 0
      },
      "text/plain": [
       "Split strings:   0%|          | 0/1 [00:00<?, ?it/s]"
      ]
     },
     "metadata": {},
     "output_type": "display_data"
    },
    {
     "data": {
      "application/vnd.jupyter.widget-view+json": {
       "model_id": "19873ca3bcaf4c24bc6cf28aa46243df",
       "version_major": 2,
       "version_minor": 0
      },
      "text/plain": [
       "BM25S Retrieve:   0%|          | 0/1 [00:00<?, ?it/s]"
      ]
     },
     "metadata": {},
     "output_type": "display_data"
    },
    {
     "data": {
      "application/vnd.jupyter.widget-view+json": {
       "model_id": "ab63890a306640fa9dbc3033f277c7db",
       "version_major": 2,
       "version_minor": 0
      },
      "text/plain": [
       "Split strings:   0%|          | 0/25 [00:00<?, ?it/s]"
      ]
     },
     "metadata": {},
     "output_type": "display_data"
    },
    {
     "data": {
      "application/vnd.jupyter.widget-view+json": {
       "model_id": "28732906064b413eac8044dbe1eb564e",
       "version_major": 2,
       "version_minor": 0
      },
      "text/plain": [
       "BM25S Count Tokens:   0%|          | 0/25 [00:00<?, ?it/s]"
      ]
     },
     "metadata": {},
     "output_type": "display_data"
    },
    {
     "data": {
      "application/vnd.jupyter.widget-view+json": {
       "model_id": "e6d65c2010864d74a042b315b54c8df1",
       "version_major": 2,
       "version_minor": 0
      },
      "text/plain": [
       "BM25S Compute Scores:   0%|          | 0/25 [00:00<?, ?it/s]"
      ]
     },
     "metadata": {},
     "output_type": "display_data"
    },
    {
     "data": {
      "application/vnd.jupyter.widget-view+json": {
       "model_id": "b39fc1b5deee417db49c9dfcc26b08dd",
       "version_major": 2,
       "version_minor": 0
      },
      "text/plain": [
       "Split strings:   0%|          | 0/1 [00:00<?, ?it/s]"
      ]
     },
     "metadata": {},
     "output_type": "display_data"
    },
    {
     "data": {
      "application/vnd.jupyter.widget-view+json": {
       "model_id": "31b6c2e40fe240b3adf8a2ce7c38e12e",
       "version_major": 2,
       "version_minor": 0
      },
      "text/plain": [
       "BM25S Retrieve:   0%|          | 0/1 [00:00<?, ?it/s]"
      ]
     },
     "metadata": {},
     "output_type": "display_data"
    },
    {
     "data": {
      "application/vnd.jupyter.widget-view+json": {
       "model_id": "099f6e22f0df48ad9c5ee2e9d0150837",
       "version_major": 2,
       "version_minor": 0
      },
      "text/plain": [
       "Split strings:   0%|          | 0/43 [00:00<?, ?it/s]"
      ]
     },
     "metadata": {},
     "output_type": "display_data"
    },
    {
     "data": {
      "application/vnd.jupyter.widget-view+json": {
       "model_id": "27aceb96dcad41e0a84bf4ce0ac1b63b",
       "version_major": 2,
       "version_minor": 0
      },
      "text/plain": [
       "BM25S Count Tokens:   0%|          | 0/43 [00:00<?, ?it/s]"
      ]
     },
     "metadata": {},
     "output_type": "display_data"
    },
    {
     "data": {
      "application/vnd.jupyter.widget-view+json": {
       "model_id": "2eac9f19dc7e4f10b5a060db91a68935",
       "version_major": 2,
       "version_minor": 0
      },
      "text/plain": [
       "BM25S Compute Scores:   0%|          | 0/43 [00:00<?, ?it/s]"
      ]
     },
     "metadata": {},
     "output_type": "display_data"
    },
    {
     "data": {
      "application/vnd.jupyter.widget-view+json": {
       "model_id": "f4230e476ca5410fb75bc82155d65dea",
       "version_major": 2,
       "version_minor": 0
      },
      "text/plain": [
       "Split strings:   0%|          | 0/1 [00:00<?, ?it/s]"
      ]
     },
     "metadata": {},
     "output_type": "display_data"
    },
    {
     "data": {
      "application/vnd.jupyter.widget-view+json": {
       "model_id": "a3ac63021b0943c4812bf50746fa6e5f",
       "version_major": 2,
       "version_minor": 0
      },
      "text/plain": [
       "BM25S Retrieve:   0%|          | 0/1 [00:00<?, ?it/s]"
      ]
     },
     "metadata": {},
     "output_type": "display_data"
    },
    {
     "data": {
      "application/vnd.jupyter.widget-view+json": {
       "model_id": "000ea189b5384305a1b01ef0d2a55185",
       "version_major": 2,
       "version_minor": 0
      },
      "text/plain": [
       "Split strings:   0%|          | 0/30 [00:00<?, ?it/s]"
      ]
     },
     "metadata": {},
     "output_type": "display_data"
    },
    {
     "data": {
      "application/vnd.jupyter.widget-view+json": {
       "model_id": "9078edc4cee7498da45c5c62ec71afad",
       "version_major": 2,
       "version_minor": 0
      },
      "text/plain": [
       "BM25S Count Tokens:   0%|          | 0/30 [00:00<?, ?it/s]"
      ]
     },
     "metadata": {},
     "output_type": "display_data"
    },
    {
     "data": {
      "application/vnd.jupyter.widget-view+json": {
       "model_id": "4572a6a737b440ee8e55c23d56852707",
       "version_major": 2,
       "version_minor": 0
      },
      "text/plain": [
       "BM25S Compute Scores:   0%|          | 0/30 [00:00<?, ?it/s]"
      ]
     },
     "metadata": {},
     "output_type": "display_data"
    },
    {
     "data": {
      "application/vnd.jupyter.widget-view+json": {
       "model_id": "d454a63bb312419e9f01665b7963a15a",
       "version_major": 2,
       "version_minor": 0
      },
      "text/plain": [
       "Split strings:   0%|          | 0/1 [00:00<?, ?it/s]"
      ]
     },
     "metadata": {},
     "output_type": "display_data"
    },
    {
     "data": {
      "application/vnd.jupyter.widget-view+json": {
       "model_id": "6cdde9b30860465a91f531174b81794b",
       "version_major": 2,
       "version_minor": 0
      },
      "text/plain": [
       "BM25S Retrieve:   0%|          | 0/1 [00:00<?, ?it/s]"
      ]
     },
     "metadata": {},
     "output_type": "display_data"
    },
    {
     "data": {
      "application/vnd.jupyter.widget-view+json": {
       "model_id": "bdded1a1f1cd4b4cab1cac0d91652bb3",
       "version_major": 2,
       "version_minor": 0
      },
      "text/plain": [
       "Split strings:   0%|          | 0/79 [00:00<?, ?it/s]"
      ]
     },
     "metadata": {},
     "output_type": "display_data"
    },
    {
     "data": {
      "application/vnd.jupyter.widget-view+json": {
       "model_id": "843376cb150449eea4dadef141fa6826",
       "version_major": 2,
       "version_minor": 0
      },
      "text/plain": [
       "BM25S Count Tokens:   0%|          | 0/79 [00:00<?, ?it/s]"
      ]
     },
     "metadata": {},
     "output_type": "display_data"
    },
    {
     "data": {
      "application/vnd.jupyter.widget-view+json": {
       "model_id": "1f17622789b546acbf6a5610103b35c1",
       "version_major": 2,
       "version_minor": 0
      },
      "text/plain": [
       "BM25S Compute Scores:   0%|          | 0/79 [00:00<?, ?it/s]"
      ]
     },
     "metadata": {},
     "output_type": "display_data"
    },
    {
     "data": {
      "application/vnd.jupyter.widget-view+json": {
       "model_id": "2b3aa7d118e440da90d1d061e285038f",
       "version_major": 2,
       "version_minor": 0
      },
      "text/plain": [
       "Split strings:   0%|          | 0/1 [00:00<?, ?it/s]"
      ]
     },
     "metadata": {},
     "output_type": "display_data"
    },
    {
     "data": {
      "application/vnd.jupyter.widget-view+json": {
       "model_id": "6d1ab84ec88245b9a017764c77dd597d",
       "version_major": 2,
       "version_minor": 0
      },
      "text/plain": [
       "BM25S Retrieve:   0%|          | 0/1 [00:00<?, ?it/s]"
      ]
     },
     "metadata": {},
     "output_type": "display_data"
    },
    {
     "data": {
      "application/vnd.jupyter.widget-view+json": {
       "model_id": "bc1a3383c72a41a28a7d6dd6faaf4bc0",
       "version_major": 2,
       "version_minor": 0
      },
      "text/plain": [
       "Split strings:   0%|          | 0/108 [00:00<?, ?it/s]"
      ]
     },
     "metadata": {},
     "output_type": "display_data"
    },
    {
     "data": {
      "application/vnd.jupyter.widget-view+json": {
       "model_id": "60b3961e49e141ce9983f718b87e42df",
       "version_major": 2,
       "version_minor": 0
      },
      "text/plain": [
       "BM25S Count Tokens:   0%|          | 0/108 [00:00<?, ?it/s]"
      ]
     },
     "metadata": {},
     "output_type": "display_data"
    },
    {
     "data": {
      "application/vnd.jupyter.widget-view+json": {
       "model_id": "e2130ad8d41c4f2a8d2c7831d31cb67b",
       "version_major": 2,
       "version_minor": 0
      },
      "text/plain": [
       "BM25S Compute Scores:   0%|          | 0/108 [00:00<?, ?it/s]"
      ]
     },
     "metadata": {},
     "output_type": "display_data"
    },
    {
     "data": {
      "application/vnd.jupyter.widget-view+json": {
       "model_id": "052231ce3d3a4f4ea672ff684292064a",
       "version_major": 2,
       "version_minor": 0
      },
      "text/plain": [
       "Split strings:   0%|          | 0/1 [00:00<?, ?it/s]"
      ]
     },
     "metadata": {},
     "output_type": "display_data"
    },
    {
     "data": {
      "application/vnd.jupyter.widget-view+json": {
       "model_id": "e7dac61a33b646dcae6e97c4f2a30822",
       "version_major": 2,
       "version_minor": 0
      },
      "text/plain": [
       "BM25S Retrieve:   0%|          | 0/1 [00:00<?, ?it/s]"
      ]
     },
     "metadata": {},
     "output_type": "display_data"
    },
    {
     "data": {
      "application/vnd.jupyter.widget-view+json": {
       "model_id": "015b22e75eb941f2bee715181f51fdcf",
       "version_major": 2,
       "version_minor": 0
      },
      "text/plain": [
       "Split strings:   0%|          | 0/47 [00:00<?, ?it/s]"
      ]
     },
     "metadata": {},
     "output_type": "display_data"
    },
    {
     "data": {
      "application/vnd.jupyter.widget-view+json": {
       "model_id": "349aa407b17148bbb8905ef6ce337d6d",
       "version_major": 2,
       "version_minor": 0
      },
      "text/plain": [
       "BM25S Count Tokens:   0%|          | 0/47 [00:00<?, ?it/s]"
      ]
     },
     "metadata": {},
     "output_type": "display_data"
    },
    {
     "data": {
      "application/vnd.jupyter.widget-view+json": {
       "model_id": "946ab25b42184479bce52315bdf456f3",
       "version_major": 2,
       "version_minor": 0
      },
      "text/plain": [
       "BM25S Compute Scores:   0%|          | 0/47 [00:00<?, ?it/s]"
      ]
     },
     "metadata": {},
     "output_type": "display_data"
    },
    {
     "data": {
      "application/vnd.jupyter.widget-view+json": {
       "model_id": "08c8e244ecdf41a9a193c05a92f1d382",
       "version_major": 2,
       "version_minor": 0
      },
      "text/plain": [
       "Split strings:   0%|          | 0/1 [00:00<?, ?it/s]"
      ]
     },
     "metadata": {},
     "output_type": "display_data"
    },
    {
     "data": {
      "application/vnd.jupyter.widget-view+json": {
       "model_id": "c858cddf8461450da5a6be8c9fbeaa3f",
       "version_major": 2,
       "version_minor": 0
      },
      "text/plain": [
       "BM25S Retrieve:   0%|          | 0/1 [00:00<?, ?it/s]"
      ]
     },
     "metadata": {},
     "output_type": "display_data"
    },
    {
     "data": {
      "application/vnd.jupyter.widget-view+json": {
       "model_id": "0f8c33bc635641b5929aff1e01a08493",
       "version_major": 2,
       "version_minor": 0
      },
      "text/plain": [
       "Split strings:   0%|          | 0/42 [00:00<?, ?it/s]"
      ]
     },
     "metadata": {},
     "output_type": "display_data"
    },
    {
     "data": {
      "application/vnd.jupyter.widget-view+json": {
       "model_id": "962ff29002ca488589ee5fe454d54e15",
       "version_major": 2,
       "version_minor": 0
      },
      "text/plain": [
       "BM25S Count Tokens:   0%|          | 0/42 [00:00<?, ?it/s]"
      ]
     },
     "metadata": {},
     "output_type": "display_data"
    },
    {
     "data": {
      "application/vnd.jupyter.widget-view+json": {
       "model_id": "f5ee08c96ec44fad855c2c966d39cd16",
       "version_major": 2,
       "version_minor": 0
      },
      "text/plain": [
       "BM25S Compute Scores:   0%|          | 0/42 [00:00<?, ?it/s]"
      ]
     },
     "metadata": {},
     "output_type": "display_data"
    },
    {
     "data": {
      "application/vnd.jupyter.widget-view+json": {
       "model_id": "3309a33801a44cecb339212a420d7b1c",
       "version_major": 2,
       "version_minor": 0
      },
      "text/plain": [
       "Split strings:   0%|          | 0/1 [00:00<?, ?it/s]"
      ]
     },
     "metadata": {},
     "output_type": "display_data"
    },
    {
     "data": {
      "application/vnd.jupyter.widget-view+json": {
       "model_id": "3441b78935d845cca26d204e11a4e7d1",
       "version_major": 2,
       "version_minor": 0
      },
      "text/plain": [
       "BM25S Retrieve:   0%|          | 0/1 [00:00<?, ?it/s]"
      ]
     },
     "metadata": {},
     "output_type": "display_data"
    },
    {
     "data": {
      "application/vnd.jupyter.widget-view+json": {
       "model_id": "da7dc0c02cfc4f7d93c14d8b0d2261bb",
       "version_major": 2,
       "version_minor": 0
      },
      "text/plain": [
       "Split strings:   0%|          | 0/31 [00:00<?, ?it/s]"
      ]
     },
     "metadata": {},
     "output_type": "display_data"
    },
    {
     "data": {
      "application/vnd.jupyter.widget-view+json": {
       "model_id": "768f813e142a4a77868685dcd047c044",
       "version_major": 2,
       "version_minor": 0
      },
      "text/plain": [
       "BM25S Count Tokens:   0%|          | 0/31 [00:00<?, ?it/s]"
      ]
     },
     "metadata": {},
     "output_type": "display_data"
    },
    {
     "data": {
      "application/vnd.jupyter.widget-view+json": {
       "model_id": "f72197e332de4bf9a5f09f66172823c3",
       "version_major": 2,
       "version_minor": 0
      },
      "text/plain": [
       "BM25S Compute Scores:   0%|          | 0/31 [00:00<?, ?it/s]"
      ]
     },
     "metadata": {},
     "output_type": "display_data"
    },
    {
     "data": {
      "application/vnd.jupyter.widget-view+json": {
       "model_id": "52c33538f4f748eeaa2b19a0df361ec0",
       "version_major": 2,
       "version_minor": 0
      },
      "text/plain": [
       "Split strings:   0%|          | 0/1 [00:00<?, ?it/s]"
      ]
     },
     "metadata": {},
     "output_type": "display_data"
    },
    {
     "data": {
      "application/vnd.jupyter.widget-view+json": {
       "model_id": "abdf28efa4c34536ad5dd8b30e016cb0",
       "version_major": 2,
       "version_minor": 0
      },
      "text/plain": [
       "BM25S Retrieve:   0%|          | 0/1 [00:00<?, ?it/s]"
      ]
     },
     "metadata": {},
     "output_type": "display_data"
    },
    {
     "data": {
      "application/vnd.jupyter.widget-view+json": {
       "model_id": "4c7cb7f5488a4cd3b25d853bebe84887",
       "version_major": 2,
       "version_minor": 0
      },
      "text/plain": [
       "Split strings:   0%|          | 0/40 [00:00<?, ?it/s]"
      ]
     },
     "metadata": {},
     "output_type": "display_data"
    },
    {
     "data": {
      "application/vnd.jupyter.widget-view+json": {
       "model_id": "7212706aee81433ea946a45307813e6c",
       "version_major": 2,
       "version_minor": 0
      },
      "text/plain": [
       "BM25S Count Tokens:   0%|          | 0/40 [00:00<?, ?it/s]"
      ]
     },
     "metadata": {},
     "output_type": "display_data"
    },
    {
     "data": {
      "application/vnd.jupyter.widget-view+json": {
       "model_id": "8ebad333fdb1425a8a0519c2de1a8e88",
       "version_major": 2,
       "version_minor": 0
      },
      "text/plain": [
       "BM25S Compute Scores:   0%|          | 0/40 [00:00<?, ?it/s]"
      ]
     },
     "metadata": {},
     "output_type": "display_data"
    },
    {
     "data": {
      "application/vnd.jupyter.widget-view+json": {
       "model_id": "e892066fddde469bb5c7beab94d0f639",
       "version_major": 2,
       "version_minor": 0
      },
      "text/plain": [
       "Split strings:   0%|          | 0/1 [00:00<?, ?it/s]"
      ]
     },
     "metadata": {},
     "output_type": "display_data"
    },
    {
     "data": {
      "application/vnd.jupyter.widget-view+json": {
       "model_id": "4d24cbfd43b14081a45e14fdb23961f5",
       "version_major": 2,
       "version_minor": 0
      },
      "text/plain": [
       "BM25S Retrieve:   0%|          | 0/1 [00:00<?, ?it/s]"
      ]
     },
     "metadata": {},
     "output_type": "display_data"
    },
    {
     "data": {
      "application/vnd.jupyter.widget-view+json": {
       "model_id": "607656b90b5d4d9e853391056e04455c",
       "version_major": 2,
       "version_minor": 0
      },
      "text/plain": [
       "Split strings:   0%|          | 0/36 [00:00<?, ?it/s]"
      ]
     },
     "metadata": {},
     "output_type": "display_data"
    },
    {
     "data": {
      "application/vnd.jupyter.widget-view+json": {
       "model_id": "ea5e4be9e9014f5e841f1e5fef903ed0",
       "version_major": 2,
       "version_minor": 0
      },
      "text/plain": [
       "BM25S Count Tokens:   0%|          | 0/36 [00:00<?, ?it/s]"
      ]
     },
     "metadata": {},
     "output_type": "display_data"
    },
    {
     "data": {
      "application/vnd.jupyter.widget-view+json": {
       "model_id": "59bb19da844042868cd09f8e96c1b42d",
       "version_major": 2,
       "version_minor": 0
      },
      "text/plain": [
       "BM25S Compute Scores:   0%|          | 0/36 [00:00<?, ?it/s]"
      ]
     },
     "metadata": {},
     "output_type": "display_data"
    },
    {
     "data": {
      "application/vnd.jupyter.widget-view+json": {
       "model_id": "ce257259098344faa1152b89ce87bc51",
       "version_major": 2,
       "version_minor": 0
      },
      "text/plain": [
       "Split strings:   0%|          | 0/1 [00:00<?, ?it/s]"
      ]
     },
     "metadata": {},
     "output_type": "display_data"
    },
    {
     "data": {
      "application/vnd.jupyter.widget-view+json": {
       "model_id": "ff95c16ece4b4a77be0d0086cf5e61d0",
       "version_major": 2,
       "version_minor": 0
      },
      "text/plain": [
       "BM25S Retrieve:   0%|          | 0/1 [00:00<?, ?it/s]"
      ]
     },
     "metadata": {},
     "output_type": "display_data"
    },
    {
     "data": {
      "application/vnd.jupyter.widget-view+json": {
       "model_id": "5da1c7da4584488e842290979c1978e8",
       "version_major": 2,
       "version_minor": 0
      },
      "text/plain": [
       "Split strings:   0%|          | 0/32 [00:00<?, ?it/s]"
      ]
     },
     "metadata": {},
     "output_type": "display_data"
    },
    {
     "data": {
      "application/vnd.jupyter.widget-view+json": {
       "model_id": "857c0fbc76354881851b240951df7b41",
       "version_major": 2,
       "version_minor": 0
      },
      "text/plain": [
       "BM25S Count Tokens:   0%|          | 0/32 [00:00<?, ?it/s]"
      ]
     },
     "metadata": {},
     "output_type": "display_data"
    },
    {
     "data": {
      "application/vnd.jupyter.widget-view+json": {
       "model_id": "926f950332054b09915953258bd58f42",
       "version_major": 2,
       "version_minor": 0
      },
      "text/plain": [
       "BM25S Compute Scores:   0%|          | 0/32 [00:00<?, ?it/s]"
      ]
     },
     "metadata": {},
     "output_type": "display_data"
    },
    {
     "data": {
      "application/vnd.jupyter.widget-view+json": {
       "model_id": "f6e3bb67243e4e29babfe2915c412db9",
       "version_major": 2,
       "version_minor": 0
      },
      "text/plain": [
       "Split strings:   0%|          | 0/1 [00:00<?, ?it/s]"
      ]
     },
     "metadata": {},
     "output_type": "display_data"
    },
    {
     "data": {
      "application/vnd.jupyter.widget-view+json": {
       "model_id": "beefe9a251d54fdb91cd55e597204603",
       "version_major": 2,
       "version_minor": 0
      },
      "text/plain": [
       "BM25S Retrieve:   0%|          | 0/1 [00:00<?, ?it/s]"
      ]
     },
     "metadata": {},
     "output_type": "display_data"
    },
    {
     "data": {
      "application/vnd.jupyter.widget-view+json": {
       "model_id": "6d82abd4176940df93ad343c3e1aa0ed",
       "version_major": 2,
       "version_minor": 0
      },
      "text/plain": [
       "Split strings:   0%|          | 0/52 [00:00<?, ?it/s]"
      ]
     },
     "metadata": {},
     "output_type": "display_data"
    },
    {
     "data": {
      "application/vnd.jupyter.widget-view+json": {
       "model_id": "9472854996e2473c8746eada56f6038d",
       "version_major": 2,
       "version_minor": 0
      },
      "text/plain": [
       "BM25S Count Tokens:   0%|          | 0/52 [00:00<?, ?it/s]"
      ]
     },
     "metadata": {},
     "output_type": "display_data"
    },
    {
     "data": {
      "application/vnd.jupyter.widget-view+json": {
       "model_id": "3a7151dbc59449b19228c71de054f2f7",
       "version_major": 2,
       "version_minor": 0
      },
      "text/plain": [
       "BM25S Compute Scores:   0%|          | 0/52 [00:00<?, ?it/s]"
      ]
     },
     "metadata": {},
     "output_type": "display_data"
    },
    {
     "data": {
      "application/vnd.jupyter.widget-view+json": {
       "model_id": "eff48ec1488d4d8894c9b8655172f077",
       "version_major": 2,
       "version_minor": 0
      },
      "text/plain": [
       "Split strings:   0%|          | 0/1 [00:00<?, ?it/s]"
      ]
     },
     "metadata": {},
     "output_type": "display_data"
    },
    {
     "data": {
      "application/vnd.jupyter.widget-view+json": {
       "model_id": "f0f4b05fc79d4a5b9308fedea85cc0be",
       "version_major": 2,
       "version_minor": 0
      },
      "text/plain": [
       "BM25S Retrieve:   0%|          | 0/1 [00:00<?, ?it/s]"
      ]
     },
     "metadata": {},
     "output_type": "display_data"
    },
    {
     "data": {
      "application/vnd.jupyter.widget-view+json": {
       "model_id": "8be11bee63034776a134328d54fdd16f",
       "version_major": 2,
       "version_minor": 0
      },
      "text/plain": [
       "Split strings:   0%|          | 0/37 [00:00<?, ?it/s]"
      ]
     },
     "metadata": {},
     "output_type": "display_data"
    },
    {
     "data": {
      "application/vnd.jupyter.widget-view+json": {
       "model_id": "580a1324f71b4dca9a1af9ba8d47c761",
       "version_major": 2,
       "version_minor": 0
      },
      "text/plain": [
       "BM25S Count Tokens:   0%|          | 0/37 [00:00<?, ?it/s]"
      ]
     },
     "metadata": {},
     "output_type": "display_data"
    },
    {
     "data": {
      "application/vnd.jupyter.widget-view+json": {
       "model_id": "f72f5318142a4e19bacce6245ecb01f3",
       "version_major": 2,
       "version_minor": 0
      },
      "text/plain": [
       "BM25S Compute Scores:   0%|          | 0/37 [00:00<?, ?it/s]"
      ]
     },
     "metadata": {},
     "output_type": "display_data"
    },
    {
     "data": {
      "application/vnd.jupyter.widget-view+json": {
       "model_id": "522ea46c0236403986cfc97d1f05e3c7",
       "version_major": 2,
       "version_minor": 0
      },
      "text/plain": [
       "Split strings:   0%|          | 0/1 [00:00<?, ?it/s]"
      ]
     },
     "metadata": {},
     "output_type": "display_data"
    },
    {
     "data": {
      "application/vnd.jupyter.widget-view+json": {
       "model_id": "0b48194b6cd646d3b3651761c8b308ff",
       "version_major": 2,
       "version_minor": 0
      },
      "text/plain": [
       "BM25S Retrieve:   0%|          | 0/1 [00:00<?, ?it/s]"
      ]
     },
     "metadata": {},
     "output_type": "display_data"
    },
    {
     "data": {
      "application/vnd.jupyter.widget-view+json": {
       "model_id": "38a225efcfc54707934f0d132ba5acb0",
       "version_major": 2,
       "version_minor": 0
      },
      "text/plain": [
       "Split strings:   0%|          | 0/45 [00:00<?, ?it/s]"
      ]
     },
     "metadata": {},
     "output_type": "display_data"
    },
    {
     "data": {
      "application/vnd.jupyter.widget-view+json": {
       "model_id": "8b0dc163f97e44abbf7801397dd53107",
       "version_major": 2,
       "version_minor": 0
      },
      "text/plain": [
       "BM25S Count Tokens:   0%|          | 0/45 [00:00<?, ?it/s]"
      ]
     },
     "metadata": {},
     "output_type": "display_data"
    },
    {
     "data": {
      "application/vnd.jupyter.widget-view+json": {
       "model_id": "b8aae0fa6e2d49618fe36e1337d8626d",
       "version_major": 2,
       "version_minor": 0
      },
      "text/plain": [
       "BM25S Compute Scores:   0%|          | 0/45 [00:00<?, ?it/s]"
      ]
     },
     "metadata": {},
     "output_type": "display_data"
    },
    {
     "data": {
      "application/vnd.jupyter.widget-view+json": {
       "model_id": "f70f6cc22ce940fba8a82c81a264c21c",
       "version_major": 2,
       "version_minor": 0
      },
      "text/plain": [
       "Split strings:   0%|          | 0/1 [00:00<?, ?it/s]"
      ]
     },
     "metadata": {},
     "output_type": "display_data"
    },
    {
     "data": {
      "application/vnd.jupyter.widget-view+json": {
       "model_id": "07fd19b833dd4189ae44eceedf529c5d",
       "version_major": 2,
       "version_minor": 0
      },
      "text/plain": [
       "BM25S Retrieve:   0%|          | 0/1 [00:00<?, ?it/s]"
      ]
     },
     "metadata": {},
     "output_type": "display_data"
    },
    {
     "data": {
      "application/vnd.jupyter.widget-view+json": {
       "model_id": "8db49e15cd664371a6e1a4fe2cbd1d37",
       "version_major": 2,
       "version_minor": 0
      },
      "text/plain": [
       "Split strings:   0%|          | 0/22 [00:00<?, ?it/s]"
      ]
     },
     "metadata": {},
     "output_type": "display_data"
    },
    {
     "data": {
      "application/vnd.jupyter.widget-view+json": {
       "model_id": "bb29fbc3b6e94c2b87daf72a454becd0",
       "version_major": 2,
       "version_minor": 0
      },
      "text/plain": [
       "BM25S Count Tokens:   0%|          | 0/22 [00:00<?, ?it/s]"
      ]
     },
     "metadata": {},
     "output_type": "display_data"
    },
    {
     "data": {
      "application/vnd.jupyter.widget-view+json": {
       "model_id": "87d6f73700744f6ebcc2e64091690dee",
       "version_major": 2,
       "version_minor": 0
      },
      "text/plain": [
       "BM25S Compute Scores:   0%|          | 0/22 [00:00<?, ?it/s]"
      ]
     },
     "metadata": {},
     "output_type": "display_data"
    },
    {
     "data": {
      "application/vnd.jupyter.widget-view+json": {
       "model_id": "ad0a2dc5ecca44df8e0c1d7fc9422999",
       "version_major": 2,
       "version_minor": 0
      },
      "text/plain": [
       "Split strings:   0%|          | 0/1 [00:00<?, ?it/s]"
      ]
     },
     "metadata": {},
     "output_type": "display_data"
    },
    {
     "data": {
      "application/vnd.jupyter.widget-view+json": {
       "model_id": "e4b0d4721e56464ab2c5ac0f600f39a8",
       "version_major": 2,
       "version_minor": 0
      },
      "text/plain": [
       "BM25S Retrieve:   0%|          | 0/1 [00:00<?, ?it/s]"
      ]
     },
     "metadata": {},
     "output_type": "display_data"
    },
    {
     "data": {
      "application/vnd.jupyter.widget-view+json": {
       "model_id": "e507d0b2fd484bfdada3ea84b033aa39",
       "version_major": 2,
       "version_minor": 0
      },
      "text/plain": [
       "Split strings:   0%|          | 0/43 [00:00<?, ?it/s]"
      ]
     },
     "metadata": {},
     "output_type": "display_data"
    },
    {
     "data": {
      "application/vnd.jupyter.widget-view+json": {
       "model_id": "fe3c02639aed4c5dbab2816ef7a00701",
       "version_major": 2,
       "version_minor": 0
      },
      "text/plain": [
       "BM25S Count Tokens:   0%|          | 0/43 [00:00<?, ?it/s]"
      ]
     },
     "metadata": {},
     "output_type": "display_data"
    },
    {
     "data": {
      "application/vnd.jupyter.widget-view+json": {
       "model_id": "11ba6d971110458cb5d4bd1e5df70b2b",
       "version_major": 2,
       "version_minor": 0
      },
      "text/plain": [
       "BM25S Compute Scores:   0%|          | 0/43 [00:00<?, ?it/s]"
      ]
     },
     "metadata": {},
     "output_type": "display_data"
    },
    {
     "data": {
      "application/vnd.jupyter.widget-view+json": {
       "model_id": "65448e0347cf491bbf22dde2b55cc996",
       "version_major": 2,
       "version_minor": 0
      },
      "text/plain": [
       "Split strings:   0%|          | 0/1 [00:00<?, ?it/s]"
      ]
     },
     "metadata": {},
     "output_type": "display_data"
    },
    {
     "data": {
      "application/vnd.jupyter.widget-view+json": {
       "model_id": "a057c6416ff6421894d23cca06a8c352",
       "version_major": 2,
       "version_minor": 0
      },
      "text/plain": [
       "BM25S Retrieve:   0%|          | 0/1 [00:00<?, ?it/s]"
      ]
     },
     "metadata": {},
     "output_type": "display_data"
    },
    {
     "data": {
      "application/vnd.jupyter.widget-view+json": {
       "model_id": "d9808d0466d148258ca4611d949a496b",
       "version_major": 2,
       "version_minor": 0
      },
      "text/plain": [
       "Split strings:   0%|          | 0/36 [00:00<?, ?it/s]"
      ]
     },
     "metadata": {},
     "output_type": "display_data"
    },
    {
     "data": {
      "application/vnd.jupyter.widget-view+json": {
       "model_id": "3bb419bd79744f56b8153cfcb2e7a078",
       "version_major": 2,
       "version_minor": 0
      },
      "text/plain": [
       "BM25S Count Tokens:   0%|          | 0/36 [00:00<?, ?it/s]"
      ]
     },
     "metadata": {},
     "output_type": "display_data"
    },
    {
     "data": {
      "application/vnd.jupyter.widget-view+json": {
       "model_id": "7e60cd4368ac4a09999304741a1580bf",
       "version_major": 2,
       "version_minor": 0
      },
      "text/plain": [
       "BM25S Compute Scores:   0%|          | 0/36 [00:00<?, ?it/s]"
      ]
     },
     "metadata": {},
     "output_type": "display_data"
    },
    {
     "data": {
      "application/vnd.jupyter.widget-view+json": {
       "model_id": "bbf24ee4c6ed4d6c87531f81d004eb8e",
       "version_major": 2,
       "version_minor": 0
      },
      "text/plain": [
       "Split strings:   0%|          | 0/1 [00:00<?, ?it/s]"
      ]
     },
     "metadata": {},
     "output_type": "display_data"
    },
    {
     "data": {
      "application/vnd.jupyter.widget-view+json": {
       "model_id": "78a50908409f4685b5519303f97104ba",
       "version_major": 2,
       "version_minor": 0
      },
      "text/plain": [
       "BM25S Retrieve:   0%|          | 0/1 [00:00<?, ?it/s]"
      ]
     },
     "metadata": {},
     "output_type": "display_data"
    },
    {
     "data": {
      "application/vnd.jupyter.widget-view+json": {
       "model_id": "603ab5c419964074b8d6e1669bd839a1",
       "version_major": 2,
       "version_minor": 0
      },
      "text/plain": [
       "Split strings:   0%|          | 0/78 [00:00<?, ?it/s]"
      ]
     },
     "metadata": {},
     "output_type": "display_data"
    },
    {
     "data": {
      "application/vnd.jupyter.widget-view+json": {
       "model_id": "a4c7e97104524d56a1b89c0fbf76c539",
       "version_major": 2,
       "version_minor": 0
      },
      "text/plain": [
       "BM25S Count Tokens:   0%|          | 0/78 [00:00<?, ?it/s]"
      ]
     },
     "metadata": {},
     "output_type": "display_data"
    },
    {
     "data": {
      "application/vnd.jupyter.widget-view+json": {
       "model_id": "e1c49eb703d74617afd5f22b8f01c04a",
       "version_major": 2,
       "version_minor": 0
      },
      "text/plain": [
       "BM25S Compute Scores:   0%|          | 0/78 [00:00<?, ?it/s]"
      ]
     },
     "metadata": {},
     "output_type": "display_data"
    },
    {
     "data": {
      "application/vnd.jupyter.widget-view+json": {
       "model_id": "ebf00aad192f42958a374cb82cfa6d8b",
       "version_major": 2,
       "version_minor": 0
      },
      "text/plain": [
       "Split strings:   0%|          | 0/1 [00:00<?, ?it/s]"
      ]
     },
     "metadata": {},
     "output_type": "display_data"
    },
    {
     "data": {
      "application/vnd.jupyter.widget-view+json": {
       "model_id": "cfb98e97e652431fab47929912638e76",
       "version_major": 2,
       "version_minor": 0
      },
      "text/plain": [
       "BM25S Retrieve:   0%|          | 0/1 [00:00<?, ?it/s]"
      ]
     },
     "metadata": {},
     "output_type": "display_data"
    },
    {
     "data": {
      "application/vnd.jupyter.widget-view+json": {
       "model_id": "7bf713dcaffe4cd1808ec3cfe79bdfd5",
       "version_major": 2,
       "version_minor": 0
      },
      "text/plain": [
       "Split strings:   0%|          | 0/58 [00:00<?, ?it/s]"
      ]
     },
     "metadata": {},
     "output_type": "display_data"
    },
    {
     "data": {
      "application/vnd.jupyter.widget-view+json": {
       "model_id": "8ba120bcdfb34456bcb0d42875c405de",
       "version_major": 2,
       "version_minor": 0
      },
      "text/plain": [
       "BM25S Count Tokens:   0%|          | 0/58 [00:00<?, ?it/s]"
      ]
     },
     "metadata": {},
     "output_type": "display_data"
    },
    {
     "data": {
      "application/vnd.jupyter.widget-view+json": {
       "model_id": "2ed390472b82422786ab7f6407c9182a",
       "version_major": 2,
       "version_minor": 0
      },
      "text/plain": [
       "BM25S Compute Scores:   0%|          | 0/58 [00:00<?, ?it/s]"
      ]
     },
     "metadata": {},
     "output_type": "display_data"
    },
    {
     "data": {
      "application/vnd.jupyter.widget-view+json": {
       "model_id": "0fd0a1cf526241e68f340cedb7ee86cb",
       "version_major": 2,
       "version_minor": 0
      },
      "text/plain": [
       "Split strings:   0%|          | 0/1 [00:00<?, ?it/s]"
      ]
     },
     "metadata": {},
     "output_type": "display_data"
    },
    {
     "data": {
      "application/vnd.jupyter.widget-view+json": {
       "model_id": "6563efa532834df8854ccd6adeba69a1",
       "version_major": 2,
       "version_minor": 0
      },
      "text/plain": [
       "BM25S Retrieve:   0%|          | 0/1 [00:00<?, ?it/s]"
      ]
     },
     "metadata": {},
     "output_type": "display_data"
    },
    {
     "data": {
      "application/vnd.jupyter.widget-view+json": {
       "model_id": "98177b4c22694d72aa4adee67a6aa1b2",
       "version_major": 2,
       "version_minor": 0
      },
      "text/plain": [
       "Split strings:   0%|          | 0/40 [00:00<?, ?it/s]"
      ]
     },
     "metadata": {},
     "output_type": "display_data"
    },
    {
     "data": {
      "application/vnd.jupyter.widget-view+json": {
       "model_id": "ec952abfb75b4579be967618b3f91d08",
       "version_major": 2,
       "version_minor": 0
      },
      "text/plain": [
       "BM25S Count Tokens:   0%|          | 0/40 [00:00<?, ?it/s]"
      ]
     },
     "metadata": {},
     "output_type": "display_data"
    },
    {
     "data": {
      "application/vnd.jupyter.widget-view+json": {
       "model_id": "1298a9eeb881427c94ef5e5a03b712bc",
       "version_major": 2,
       "version_minor": 0
      },
      "text/plain": [
       "BM25S Compute Scores:   0%|          | 0/40 [00:00<?, ?it/s]"
      ]
     },
     "metadata": {},
     "output_type": "display_data"
    },
    {
     "data": {
      "application/vnd.jupyter.widget-view+json": {
       "model_id": "af84169fb18e4ec79edcd00fc8cb9dbc",
       "version_major": 2,
       "version_minor": 0
      },
      "text/plain": [
       "Split strings:   0%|          | 0/1 [00:00<?, ?it/s]"
      ]
     },
     "metadata": {},
     "output_type": "display_data"
    },
    {
     "data": {
      "application/vnd.jupyter.widget-view+json": {
       "model_id": "215de547f88241f096968d88b2791263",
       "version_major": 2,
       "version_minor": 0
      },
      "text/plain": [
       "BM25S Retrieve:   0%|          | 0/1 [00:00<?, ?it/s]"
      ]
     },
     "metadata": {},
     "output_type": "display_data"
    },
    {
     "data": {
      "application/vnd.jupyter.widget-view+json": {
       "model_id": "9d654d7e85c748889f412d9a00ed01ad",
       "version_major": 2,
       "version_minor": 0
      },
      "text/plain": [
       "Split strings:   0%|          | 0/70 [00:00<?, ?it/s]"
      ]
     },
     "metadata": {},
     "output_type": "display_data"
    },
    {
     "data": {
      "application/vnd.jupyter.widget-view+json": {
       "model_id": "333285eadcda4bef8370da5be2b5f282",
       "version_major": 2,
       "version_minor": 0
      },
      "text/plain": [
       "BM25S Count Tokens:   0%|          | 0/70 [00:00<?, ?it/s]"
      ]
     },
     "metadata": {},
     "output_type": "display_data"
    },
    {
     "data": {
      "application/vnd.jupyter.widget-view+json": {
       "model_id": "45f2bdbc1d20431398fbe3ed9cd7f9cd",
       "version_major": 2,
       "version_minor": 0
      },
      "text/plain": [
       "BM25S Compute Scores:   0%|          | 0/70 [00:00<?, ?it/s]"
      ]
     },
     "metadata": {},
     "output_type": "display_data"
    },
    {
     "data": {
      "application/vnd.jupyter.widget-view+json": {
       "model_id": "d9349d94deb14ae68b830de816544550",
       "version_major": 2,
       "version_minor": 0
      },
      "text/plain": [
       "Split strings:   0%|          | 0/1 [00:00<?, ?it/s]"
      ]
     },
     "metadata": {},
     "output_type": "display_data"
    },
    {
     "data": {
      "application/vnd.jupyter.widget-view+json": {
       "model_id": "53b352dca41b4ff79b824c1b57e7f743",
       "version_major": 2,
       "version_minor": 0
      },
      "text/plain": [
       "BM25S Retrieve:   0%|          | 0/1 [00:00<?, ?it/s]"
      ]
     },
     "metadata": {},
     "output_type": "display_data"
    },
    {
     "data": {
      "application/vnd.jupyter.widget-view+json": {
       "model_id": "fffa4022d93e4b52bff3f9aa862cf6fc",
       "version_major": 2,
       "version_minor": 0
      },
      "text/plain": [
       "Split strings:   0%|          | 0/6 [00:00<?, ?it/s]"
      ]
     },
     "metadata": {},
     "output_type": "display_data"
    },
    {
     "data": {
      "application/vnd.jupyter.widget-view+json": {
       "model_id": "e90e06649df747ee8ea24ba5eda4f17d",
       "version_major": 2,
       "version_minor": 0
      },
      "text/plain": [
       "BM25S Count Tokens:   0%|          | 0/6 [00:00<?, ?it/s]"
      ]
     },
     "metadata": {},
     "output_type": "display_data"
    },
    {
     "data": {
      "application/vnd.jupyter.widget-view+json": {
       "model_id": "29ed63e8c03c45ff9925cb77026257f1",
       "version_major": 2,
       "version_minor": 0
      },
      "text/plain": [
       "BM25S Compute Scores:   0%|          | 0/6 [00:00<?, ?it/s]"
      ]
     },
     "metadata": {},
     "output_type": "display_data"
    },
    {
     "data": {
      "application/vnd.jupyter.widget-view+json": {
       "model_id": "5df569c75d484327b82b35dc6d23b8ef",
       "version_major": 2,
       "version_minor": 0
      },
      "text/plain": [
       "Split strings:   0%|          | 0/1 [00:00<?, ?it/s]"
      ]
     },
     "metadata": {},
     "output_type": "display_data"
    },
    {
     "data": {
      "application/vnd.jupyter.widget-view+json": {
       "model_id": "5bb38ed75067414a86159b9ea7d4d082",
       "version_major": 2,
       "version_minor": 0
      },
      "text/plain": [
       "BM25S Retrieve:   0%|          | 0/1 [00:00<?, ?it/s]"
      ]
     },
     "metadata": {},
     "output_type": "display_data"
    },
    {
     "data": {
      "application/vnd.jupyter.widget-view+json": {
       "model_id": "b5bd8d95bfb0414dab37e828d30d7ec7",
       "version_major": 2,
       "version_minor": 0
      },
      "text/plain": [
       "Split strings:   0%|          | 0/51 [00:00<?, ?it/s]"
      ]
     },
     "metadata": {},
     "output_type": "display_data"
    },
    {
     "data": {
      "application/vnd.jupyter.widget-view+json": {
       "model_id": "a8f62b299c4541dd98460992d0771144",
       "version_major": 2,
       "version_minor": 0
      },
      "text/plain": [
       "BM25S Count Tokens:   0%|          | 0/51 [00:00<?, ?it/s]"
      ]
     },
     "metadata": {},
     "output_type": "display_data"
    },
    {
     "data": {
      "application/vnd.jupyter.widget-view+json": {
       "model_id": "8ea854dbaab0421caa61397b633c62c0",
       "version_major": 2,
       "version_minor": 0
      },
      "text/plain": [
       "BM25S Compute Scores:   0%|          | 0/51 [00:00<?, ?it/s]"
      ]
     },
     "metadata": {},
     "output_type": "display_data"
    },
    {
     "data": {
      "application/vnd.jupyter.widget-view+json": {
       "model_id": "2385f06053224247932ed01f5f711380",
       "version_major": 2,
       "version_minor": 0
      },
      "text/plain": [
       "Split strings:   0%|          | 0/1 [00:00<?, ?it/s]"
      ]
     },
     "metadata": {},
     "output_type": "display_data"
    },
    {
     "data": {
      "application/vnd.jupyter.widget-view+json": {
       "model_id": "0c655ed419b5414581ad413eec61722e",
       "version_major": 2,
       "version_minor": 0
      },
      "text/plain": [
       "BM25S Retrieve:   0%|          | 0/1 [00:00<?, ?it/s]"
      ]
     },
     "metadata": {},
     "output_type": "display_data"
    },
    {
     "data": {
      "application/vnd.jupyter.widget-view+json": {
       "model_id": "0ac6267525144ddd944c0e6e785a7ecc",
       "version_major": 2,
       "version_minor": 0
      },
      "text/plain": [
       "Split strings:   0%|          | 0/72 [00:00<?, ?it/s]"
      ]
     },
     "metadata": {},
     "output_type": "display_data"
    },
    {
     "data": {
      "application/vnd.jupyter.widget-view+json": {
       "model_id": "009bd7cac9e941f0b57a9e34aa150cfc",
       "version_major": 2,
       "version_minor": 0
      },
      "text/plain": [
       "BM25S Count Tokens:   0%|          | 0/72 [00:00<?, ?it/s]"
      ]
     },
     "metadata": {},
     "output_type": "display_data"
    },
    {
     "data": {
      "application/vnd.jupyter.widget-view+json": {
       "model_id": "6c9bb87ca26a497aa80b3c60b20aa326",
       "version_major": 2,
       "version_minor": 0
      },
      "text/plain": [
       "BM25S Compute Scores:   0%|          | 0/72 [00:00<?, ?it/s]"
      ]
     },
     "metadata": {},
     "output_type": "display_data"
    },
    {
     "data": {
      "application/vnd.jupyter.widget-view+json": {
       "model_id": "19cfad552b1144438db492e4308325f9",
       "version_major": 2,
       "version_minor": 0
      },
      "text/plain": [
       "Split strings:   0%|          | 0/1 [00:00<?, ?it/s]"
      ]
     },
     "metadata": {},
     "output_type": "display_data"
    },
    {
     "data": {
      "application/vnd.jupyter.widget-view+json": {
       "model_id": "8d2303eaacd0419abdf2e8df451ac1d6",
       "version_major": 2,
       "version_minor": 0
      },
      "text/plain": [
       "BM25S Retrieve:   0%|          | 0/1 [00:00<?, ?it/s]"
      ]
     },
     "metadata": {},
     "output_type": "display_data"
    },
    {
     "data": {
      "application/vnd.jupyter.widget-view+json": {
       "model_id": "eefb83907cc04ae6ba773a36e0c900f1",
       "version_major": 2,
       "version_minor": 0
      },
      "text/plain": [
       "Split strings:   0%|          | 0/38 [00:00<?, ?it/s]"
      ]
     },
     "metadata": {},
     "output_type": "display_data"
    },
    {
     "data": {
      "application/vnd.jupyter.widget-view+json": {
       "model_id": "70b7ad6972af414e96dcea6bfa3c9d1d",
       "version_major": 2,
       "version_minor": 0
      },
      "text/plain": [
       "BM25S Count Tokens:   0%|          | 0/38 [00:00<?, ?it/s]"
      ]
     },
     "metadata": {},
     "output_type": "display_data"
    },
    {
     "data": {
      "application/vnd.jupyter.widget-view+json": {
       "model_id": "5f9fab04e1ef402c843274c733e5a68d",
       "version_major": 2,
       "version_minor": 0
      },
      "text/plain": [
       "BM25S Compute Scores:   0%|          | 0/38 [00:00<?, ?it/s]"
      ]
     },
     "metadata": {},
     "output_type": "display_data"
    },
    {
     "data": {
      "application/vnd.jupyter.widget-view+json": {
       "model_id": "91cb90b33d9c407e89ffc032ad1cf780",
       "version_major": 2,
       "version_minor": 0
      },
      "text/plain": [
       "Split strings:   0%|          | 0/1 [00:00<?, ?it/s]"
      ]
     },
     "metadata": {},
     "output_type": "display_data"
    },
    {
     "data": {
      "application/vnd.jupyter.widget-view+json": {
       "model_id": "3bbd40257f6e4a92aff8824bf0647c77",
       "version_major": 2,
       "version_minor": 0
      },
      "text/plain": [
       "BM25S Retrieve:   0%|          | 0/1 [00:00<?, ?it/s]"
      ]
     },
     "metadata": {},
     "output_type": "display_data"
    },
    {
     "data": {
      "application/vnd.jupyter.widget-view+json": {
       "model_id": "0b1696465ae14002b5e12163d30895d8",
       "version_major": 2,
       "version_minor": 0
      },
      "text/plain": [
       "Split strings:   0%|          | 0/39 [00:00<?, ?it/s]"
      ]
     },
     "metadata": {},
     "output_type": "display_data"
    },
    {
     "data": {
      "application/vnd.jupyter.widget-view+json": {
       "model_id": "5c4bfed69512483a9b4d35347c40bf6f",
       "version_major": 2,
       "version_minor": 0
      },
      "text/plain": [
       "BM25S Count Tokens:   0%|          | 0/39 [00:00<?, ?it/s]"
      ]
     },
     "metadata": {},
     "output_type": "display_data"
    },
    {
     "data": {
      "application/vnd.jupyter.widget-view+json": {
       "model_id": "10b73c22e998430eb3f1961c20940275",
       "version_major": 2,
       "version_minor": 0
      },
      "text/plain": [
       "BM25S Compute Scores:   0%|          | 0/39 [00:00<?, ?it/s]"
      ]
     },
     "metadata": {},
     "output_type": "display_data"
    },
    {
     "data": {
      "application/vnd.jupyter.widget-view+json": {
       "model_id": "1112178fcbba460f95e24111210b26fb",
       "version_major": 2,
       "version_minor": 0
      },
      "text/plain": [
       "Split strings:   0%|          | 0/1 [00:00<?, ?it/s]"
      ]
     },
     "metadata": {},
     "output_type": "display_data"
    },
    {
     "data": {
      "application/vnd.jupyter.widget-view+json": {
       "model_id": "493cd6e0f9254a4f929d7c6a575ecc3d",
       "version_major": 2,
       "version_minor": 0
      },
      "text/plain": [
       "BM25S Retrieve:   0%|          | 0/1 [00:00<?, ?it/s]"
      ]
     },
     "metadata": {},
     "output_type": "display_data"
    },
    {
     "data": {
      "application/vnd.jupyter.widget-view+json": {
       "model_id": "845c2f0fc7314ba9a004ec91797b1830",
       "version_major": 2,
       "version_minor": 0
      },
      "text/plain": [
       "Split strings:   0%|          | 0/4 [00:00<?, ?it/s]"
      ]
     },
     "metadata": {},
     "output_type": "display_data"
    },
    {
     "data": {
      "application/vnd.jupyter.widget-view+json": {
       "model_id": "57c15b5590a54209970816417f094c5d",
       "version_major": 2,
       "version_minor": 0
      },
      "text/plain": [
       "BM25S Count Tokens:   0%|          | 0/4 [00:00<?, ?it/s]"
      ]
     },
     "metadata": {},
     "output_type": "display_data"
    },
    {
     "data": {
      "application/vnd.jupyter.widget-view+json": {
       "model_id": "fd48fd8ba57a422fbe7fec0510f20827",
       "version_major": 2,
       "version_minor": 0
      },
      "text/plain": [
       "BM25S Compute Scores:   0%|          | 0/4 [00:00<?, ?it/s]"
      ]
     },
     "metadata": {},
     "output_type": "display_data"
    },
    {
     "data": {
      "application/vnd.jupyter.widget-view+json": {
       "model_id": "e492fa970b7241068cdcc2d8850bfc5c",
       "version_major": 2,
       "version_minor": 0
      },
      "text/plain": [
       "Split strings:   0%|          | 0/1 [00:00<?, ?it/s]"
      ]
     },
     "metadata": {},
     "output_type": "display_data"
    },
    {
     "data": {
      "application/vnd.jupyter.widget-view+json": {
       "model_id": "e9fc4f116bec4585a582352a9ef5a3bd",
       "version_major": 2,
       "version_minor": 0
      },
      "text/plain": [
       "BM25S Retrieve:   0%|          | 0/1 [00:00<?, ?it/s]"
      ]
     },
     "metadata": {},
     "output_type": "display_data"
    },
    {
     "ename": "ValueError",
     "evalue": "kth(=-1) out of bounds (4)",
     "output_type": "error",
     "traceback": [
      "\u001b[0;31m---------------------------------------------------------------------------\u001b[0m",
      "\u001b[0;31mValueError\u001b[0m                                Traceback (most recent call last)",
      "Cell \u001b[0;32mIn[4], line 11\u001b[0m\n\u001b[1;32m      9\u001b[0m \u001b[38;5;28;01mfor\u001b[39;00m entity \u001b[38;5;129;01min\u001b[39;00m entities:\n\u001b[1;32m     10\u001b[0m     wikipedia_page \u001b[38;5;241m=\u001b[39m \u001b[38;5;28mopen\u001b[39m(\u001b[38;5;124mf\u001b[39m\u001b[38;5;124m\"\u001b[39m\u001b[38;5;124mOKG/wikipedia/\u001b[39m\u001b[38;5;132;01m{\u001b[39;00mentity\u001b[38;5;132;01m}\u001b[39;00m\u001b[38;5;124m.txt\u001b[39m\u001b[38;5;124m\"\u001b[39m, \u001b[38;5;124m\"\u001b[39m\u001b[38;5;124mr\u001b[39m\u001b[38;5;124m\"\u001b[39m)\u001b[38;5;241m.\u001b[39mread()\n\u001b[0;32m---> 11\u001b[0m     retrieved_context\u001b[38;5;241m.\u001b[39mappend(\u001b[43mretrieve\u001b[49m\u001b[43m(\u001b[49m\u001b[43mmodel_name\u001b[49m\u001b[38;5;241;43m=\u001b[39;49m\u001b[38;5;124;43m\"\u001b[39;49m\u001b[38;5;124;43mbm25\u001b[39;49m\u001b[38;5;124;43m\"\u001b[39;49m\u001b[43m,\u001b[49m\u001b[43m \u001b[49m\u001b[43mentity\u001b[49m\u001b[38;5;241;43m=\u001b[39;49m\u001b[43mentity\u001b[49m\u001b[43m,\u001b[49m\u001b[43m \u001b[49m\u001b[43mquery\u001b[49m\u001b[38;5;241;43m=\u001b[39;49m\u001b[43mquery\u001b[49m\u001b[43m,\u001b[49m\u001b[43m \u001b[49m\u001b[43mtop_k\u001b[49m\u001b[38;5;241;43m=\u001b[39;49m\u001b[38;5;241;43m5\u001b[39;49m\u001b[43m,\u001b[49m\u001b[43m \u001b[49m\u001b[43mverbose\u001b[49m\u001b[38;5;241;43m=\u001b[39;49m\u001b[38;5;28;43;01mFalse\u001b[39;49;00m\u001b[43m)\u001b[49m)\n\u001b[1;32m     13\u001b[0m test_cases\u001b[38;5;241m.\u001b[39mappend(\n\u001b[1;32m     14\u001b[0m     LLMTestCase(\n\u001b[1;32m     15\u001b[0m         \u001b[38;5;28minput\u001b[39m\u001b[38;5;241m=\u001b[39mquery,\n\u001b[0;32m   (...)\u001b[0m\n\u001b[1;32m     18\u001b[0m     )\n\u001b[1;32m     19\u001b[0m )\n",
      "File \u001b[0;32m~/OpenKGQA/methods/retriever.py:174\u001b[0m, in \u001b[0;36mretrieve\u001b[0;34m(model_name, entity, query, top_k, verbose)\u001b[0m\n\u001b[1;32m    171\u001b[0m \u001b[38;5;28;01melse\u001b[39;00m:\n\u001b[1;32m    172\u001b[0m     \u001b[38;5;28;01mraise\u001b[39;00m \u001b[38;5;167;01mValueError\u001b[39;00m(\u001b[38;5;124mf\u001b[39m\u001b[38;5;124m\"\u001b[39m\u001b[38;5;124mRetriever model `\u001b[39m\u001b[38;5;132;01m{\u001b[39;00mmodel_name\u001b[38;5;132;01m}\u001b[39;00m\u001b[38;5;124m'\u001b[39m\u001b[38;5;124m is not supported\u001b[39m\u001b[38;5;124m\"\u001b[39m)\n\u001b[0;32m--> 174\u001b[0m \u001b[38;5;28;01mreturn\u001b[39;00m \u001b[43mretriever\u001b[49m\u001b[38;5;241;43m.\u001b[39;49m\u001b[43mretrieve\u001b[49m\u001b[43m(\u001b[49m\u001b[43mentity\u001b[49m\u001b[38;5;241;43m=\u001b[39;49m\u001b[43mentity\u001b[49m\u001b[43m,\u001b[49m\u001b[43m \u001b[49m\u001b[43mquery\u001b[49m\u001b[38;5;241;43m=\u001b[39;49m\u001b[43mquery\u001b[49m\u001b[43m,\u001b[49m\u001b[43m \u001b[49m\u001b[43mtop_k\u001b[49m\u001b[38;5;241;43m=\u001b[39;49m\u001b[43mtop_k\u001b[49m\u001b[43m)\u001b[49m\n",
      "File \u001b[0;32m~/OpenKGQA/methods/retriever.py:94\u001b[0m, in \u001b[0;36mBM25Retriever.retrieve\u001b[0;34m(self, entity, query, top_k, verbose)\u001b[0m\n\u001b[1;32m     92\u001b[0m corpus \u001b[38;5;241m=\u001b[39m \u001b[38;5;28mself\u001b[39m\u001b[38;5;241m.\u001b[39m_load_documents(entity)\n\u001b[1;32m     93\u001b[0m \u001b[38;5;28mself\u001b[39m\u001b[38;5;241m.\u001b[39m_bm25_fit(corpus\u001b[38;5;241m=\u001b[39m\u001b[38;5;28mself\u001b[39m\u001b[38;5;241m.\u001b[39m_load_documents(entity))\n\u001b[0;32m---> 94\u001b[0m results, scores \u001b[38;5;241m=\u001b[39m \u001b[38;5;28;43mself\u001b[39;49m\u001b[38;5;241;43m.\u001b[39;49m\u001b[43m_bm25_retrieve\u001b[49m\u001b[43m(\u001b[49m\u001b[43mquery\u001b[49m\u001b[43m,\u001b[49m\u001b[43m \u001b[49m\u001b[43mcorpus\u001b[49m\u001b[43m,\u001b[49m\u001b[43m \u001b[49m\u001b[43mtop_k\u001b[49m\u001b[43m)\u001b[49m\n\u001b[1;32m     96\u001b[0m \u001b[38;5;28;01mif\u001b[39;00m \u001b[38;5;28mself\u001b[39m\u001b[38;5;241m.\u001b[39mverbose:\n\u001b[1;32m     97\u001b[0m     \u001b[38;5;28;01mfor\u001b[39;00m i \u001b[38;5;129;01min\u001b[39;00m \u001b[38;5;28mrange\u001b[39m(results\u001b[38;5;241m.\u001b[39mshape[\u001b[38;5;241m1\u001b[39m]):\n",
      "File \u001b[0;32m~/OpenKGQA/methods/retriever.py:80\u001b[0m, in \u001b[0;36mBM25Retriever._bm25_retrieve\u001b[0;34m(self, query, corpus, top_k)\u001b[0m\n\u001b[1;32m     78\u001b[0m \u001b[38;5;28;01mdef\u001b[39;00m \u001b[38;5;21m_bm25_retrieve\u001b[39m(\u001b[38;5;28mself\u001b[39m, query: \u001b[38;5;28mstr\u001b[39m, corpus: \u001b[38;5;28mlist\u001b[39m[\u001b[38;5;28mstr\u001b[39m], top_k: \u001b[38;5;28mint\u001b[39m) \u001b[38;5;241m-\u001b[39m\u001b[38;5;241m>\u001b[39m \u001b[38;5;28mlist\u001b[39m[\u001b[38;5;28mstr\u001b[39m]:\n\u001b[1;32m     79\u001b[0m     tokenized_query \u001b[38;5;241m=\u001b[39m bm25s\u001b[38;5;241m.\u001b[39mtokenize(query)\n\u001b[0;32m---> 80\u001b[0m     results, scores \u001b[38;5;241m=\u001b[39m \u001b[38;5;28;43mself\u001b[39;49m\u001b[38;5;241;43m.\u001b[39;49m\u001b[43mbm25\u001b[49m\u001b[38;5;241;43m.\u001b[39;49m\u001b[43mretrieve\u001b[49m\u001b[43m(\u001b[49m\u001b[43mtokenized_query\u001b[49m\u001b[43m,\u001b[49m\u001b[43m \u001b[49m\u001b[43mcorpus\u001b[49m\u001b[38;5;241;43m=\u001b[39;49m\u001b[43mcorpus\u001b[49m\u001b[43m,\u001b[49m\u001b[43m \u001b[49m\u001b[43mk\u001b[49m\u001b[38;5;241;43m=\u001b[39;49m\u001b[43mtop_k\u001b[49m\u001b[43m)\u001b[49m\n\u001b[1;32m     81\u001b[0m     \u001b[38;5;28;01mreturn\u001b[39;00m results, scores\n",
      "File \u001b[0;32m~/miniconda3/envs/rog/lib/python3.9/site-packages/bm25s/__init__.py:558\u001b[0m, in \u001b[0;36mBM25.retrieve\u001b[0;34m(self, query_tokens, corpus, k, sorted, return_as, show_progress, leave_progress, n_threads, chunksize, backend_selection)\u001b[0m\n\u001b[1;32m    551\u001b[0m         process_map \u001b[38;5;241m=\u001b[39m executor\u001b[38;5;241m.\u001b[39mmap(\n\u001b[1;32m    552\u001b[0m             topk_fn,\n\u001b[1;32m    553\u001b[0m             query_tokens,\n\u001b[1;32m    554\u001b[0m             chunksize\u001b[38;5;241m=\u001b[39mchunksize,\n\u001b[1;32m    555\u001b[0m         )\n\u001b[1;32m    556\u001b[0m         out \u001b[38;5;241m=\u001b[39m \u001b[38;5;28mlist\u001b[39m(tqdm(process_map, \u001b[38;5;241m*\u001b[39m\u001b[38;5;241m*\u001b[39mtqdm_kwargs))\n\u001b[0;32m--> 558\u001b[0m scores, indices \u001b[38;5;241m=\u001b[39m \u001b[38;5;28;43mzip\u001b[39;49m\u001b[43m(\u001b[49m\u001b[38;5;241;43m*\u001b[39;49m\u001b[43mout\u001b[49m\u001b[43m)\u001b[49m\n\u001b[1;32m    559\u001b[0m scores, indices \u001b[38;5;241m=\u001b[39m np\u001b[38;5;241m.\u001b[39marray(scores), np\u001b[38;5;241m.\u001b[39marray(indices)\n\u001b[1;32m    561\u001b[0m corpus \u001b[38;5;241m=\u001b[39m corpus \u001b[38;5;28;01mif\u001b[39;00m corpus \u001b[38;5;129;01mis\u001b[39;00m \u001b[38;5;129;01mnot\u001b[39;00m \u001b[38;5;28;01mNone\u001b[39;00m \u001b[38;5;28;01melse\u001b[39;00m \u001b[38;5;28mself\u001b[39m\u001b[38;5;241m.\u001b[39mcorpus\n",
      "File \u001b[0;32m~/miniconda3/envs/rog/lib/python3.9/site-packages/tqdm/notebook.py:250\u001b[0m, in \u001b[0;36mtqdm_notebook.__iter__\u001b[0;34m(self)\u001b[0m\n\u001b[1;32m    248\u001b[0m \u001b[38;5;28;01mtry\u001b[39;00m:\n\u001b[1;32m    249\u001b[0m     it \u001b[38;5;241m=\u001b[39m \u001b[38;5;28msuper\u001b[39m(tqdm_notebook, \u001b[38;5;28mself\u001b[39m)\u001b[38;5;241m.\u001b[39m\u001b[38;5;21m__iter__\u001b[39m()\n\u001b[0;32m--> 250\u001b[0m     \u001b[38;5;28;01mfor\u001b[39;00m obj \u001b[38;5;129;01min\u001b[39;00m it:\n\u001b[1;32m    251\u001b[0m         \u001b[38;5;66;03m# return super(tqdm...) will not catch exception\u001b[39;00m\n\u001b[1;32m    252\u001b[0m         \u001b[38;5;28;01myield\u001b[39;00m obj\n\u001b[1;32m    253\u001b[0m \u001b[38;5;66;03m# NB: except ... [ as ...] breaks IPython async KeyboardInterrupt\u001b[39;00m\n",
      "File \u001b[0;32m~/miniconda3/envs/rog/lib/python3.9/site-packages/tqdm/std.py:1181\u001b[0m, in \u001b[0;36mtqdm.__iter__\u001b[0;34m(self)\u001b[0m\n\u001b[1;32m   1178\u001b[0m time \u001b[38;5;241m=\u001b[39m \u001b[38;5;28mself\u001b[39m\u001b[38;5;241m.\u001b[39m_time\n\u001b[1;32m   1180\u001b[0m \u001b[38;5;28;01mtry\u001b[39;00m:\n\u001b[0;32m-> 1181\u001b[0m     \u001b[38;5;28;01mfor\u001b[39;00m obj \u001b[38;5;129;01min\u001b[39;00m iterable:\n\u001b[1;32m   1182\u001b[0m         \u001b[38;5;28;01myield\u001b[39;00m obj\n\u001b[1;32m   1183\u001b[0m         \u001b[38;5;66;03m# Update and possibly print the progressbar.\u001b[39;00m\n\u001b[1;32m   1184\u001b[0m         \u001b[38;5;66;03m# Note: does not call self.update(1) for speed optimisation.\u001b[39;00m\n",
      "File \u001b[0;32m~/miniconda3/envs/rog/lib/python3.9/site-packages/bm25s/__init__.py:432\u001b[0m, in \u001b[0;36mBM25._get_top_k_results\u001b[0;34m(self, query_tokens_single, k, backend, sorted)\u001b[0m\n\u001b[1;32m    426\u001b[0m \u001b[38;5;250m\u001b[39m\u001b[38;5;124;03m\"\"\"\u001b[39;00m\n\u001b[1;32m    427\u001b[0m \u001b[38;5;124;03mThis function is used to retrieve the top-k results for a single query.\u001b[39;00m\n\u001b[1;32m    428\u001b[0m \u001b[38;5;124;03mSince it's a hidden function, the user should not call it directly and\u001b[39;00m\n\u001b[1;32m    429\u001b[0m \u001b[38;5;124;03mmay change in the future. Please use the `retrieve` function instead.\u001b[39;00m\n\u001b[1;32m    430\u001b[0m \u001b[38;5;124;03m\"\"\"\u001b[39;00m\n\u001b[1;32m    431\u001b[0m scores_q \u001b[38;5;241m=\u001b[39m \u001b[38;5;28mself\u001b[39m\u001b[38;5;241m.\u001b[39mget_scores(query_tokens_single)\n\u001b[0;32m--> 432\u001b[0m topk_scores, topk_indices \u001b[38;5;241m=\u001b[39m \u001b[43mselection\u001b[49m\u001b[38;5;241;43m.\u001b[39;49m\u001b[43mtopk\u001b[49m\u001b[43m(\u001b[49m\n\u001b[1;32m    433\u001b[0m \u001b[43m    \u001b[49m\u001b[43mscores_q\u001b[49m\u001b[43m,\u001b[49m\u001b[43m \u001b[49m\u001b[43mk\u001b[49m\u001b[38;5;241;43m=\u001b[39;49m\u001b[43mk\u001b[49m\u001b[43m,\u001b[49m\u001b[43m \u001b[49m\u001b[38;5;28;43msorted\u001b[39;49m\u001b[38;5;241;43m=\u001b[39;49m\u001b[38;5;28;43msorted\u001b[39;49m\u001b[43m,\u001b[49m\u001b[43m \u001b[49m\u001b[43mbackend\u001b[49m\u001b[38;5;241;43m=\u001b[39;49m\u001b[43mbackend\u001b[49m\n\u001b[1;32m    434\u001b[0m \u001b[43m\u001b[49m\u001b[43m)\u001b[49m\n\u001b[1;32m    436\u001b[0m \u001b[38;5;28;01mreturn\u001b[39;00m topk_scores, topk_indices\n",
      "File \u001b[0;32m~/miniconda3/envs/rog/lib/python3.9/site-packages/bm25s/selection.py:64\u001b[0m, in \u001b[0;36mtopk\u001b[0;34m(query_scores, k, backend, sorted)\u001b[0m\n\u001b[1;32m     62\u001b[0m     \u001b[38;5;28;01mreturn\u001b[39;00m _topk_jax(query_scores, k)\n\u001b[1;32m     63\u001b[0m \u001b[38;5;28;01melse\u001b[39;00m:\n\u001b[0;32m---> 64\u001b[0m     \u001b[38;5;28;01mreturn\u001b[39;00m \u001b[43m_topk_numpy\u001b[49m\u001b[43m(\u001b[49m\u001b[43mquery_scores\u001b[49m\u001b[43m,\u001b[49m\u001b[43m \u001b[49m\u001b[43mk\u001b[49m\u001b[43m,\u001b[49m\u001b[43m \u001b[49m\u001b[38;5;28;43msorted\u001b[39;49m\u001b[43m)\u001b[49m\n",
      "File \u001b[0;32m~/miniconda3/envs/rog/lib/python3.9/site-packages/bm25s/selection.py:17\u001b[0m, in \u001b[0;36m_topk_numpy\u001b[0;34m(query_scores, k, sorted)\u001b[0m\n\u001b[1;32m     14\u001b[0m \u001b[38;5;28;01mdef\u001b[39;00m \u001b[38;5;21m_topk_numpy\u001b[39m(query_scores, k, \u001b[38;5;28msorted\u001b[39m):\n\u001b[1;32m     15\u001b[0m     \u001b[38;5;66;03m# https://stackoverflow.com/questions/65038206/how-to-get-indices-of-top-k-values-from-a-numpy-array\u001b[39;00m\n\u001b[1;32m     16\u001b[0m     \u001b[38;5;66;03m# np.argpartition is faster than np.argsort, but do not return the values in order\u001b[39;00m\n\u001b[0;32m---> 17\u001b[0m     partitioned_ind \u001b[38;5;241m=\u001b[39m \u001b[43mnp\u001b[49m\u001b[38;5;241;43m.\u001b[39;49m\u001b[43margpartition\u001b[49m\u001b[43m(\u001b[49m\u001b[43mquery_scores\u001b[49m\u001b[43m,\u001b[49m\u001b[43m \u001b[49m\u001b[38;5;241;43m-\u001b[39;49m\u001b[43mk\u001b[49m\u001b[43m)\u001b[49m\n\u001b[1;32m     18\u001b[0m     \u001b[38;5;66;03m# Since lit's a single query, we can take the last k elements\u001b[39;00m\n\u001b[1;32m     19\u001b[0m     partitioned_ind \u001b[38;5;241m=\u001b[39m partitioned_ind\u001b[38;5;241m.\u001b[39mtake(indices\u001b[38;5;241m=\u001b[39m\u001b[38;5;28mrange\u001b[39m(\u001b[38;5;241m-\u001b[39mk, \u001b[38;5;241m0\u001b[39m))\n",
      "File \u001b[0;32m~/miniconda3/envs/rog/lib/python3.9/site-packages/numpy/core/fromnumeric.py:858\u001b[0m, in \u001b[0;36margpartition\u001b[0;34m(a, kth, axis, kind, order)\u001b[0m\n\u001b[1;32m    779\u001b[0m \u001b[38;5;129m@array_function_dispatch\u001b[39m(_argpartition_dispatcher)\n\u001b[1;32m    780\u001b[0m \u001b[38;5;28;01mdef\u001b[39;00m \u001b[38;5;21margpartition\u001b[39m(a, kth, axis\u001b[38;5;241m=\u001b[39m\u001b[38;5;241m-\u001b[39m\u001b[38;5;241m1\u001b[39m, kind\u001b[38;5;241m=\u001b[39m\u001b[38;5;124m'\u001b[39m\u001b[38;5;124mintroselect\u001b[39m\u001b[38;5;124m'\u001b[39m, order\u001b[38;5;241m=\u001b[39m\u001b[38;5;28;01mNone\u001b[39;00m):\n\u001b[1;32m    781\u001b[0m \u001b[38;5;250m    \u001b[39m\u001b[38;5;124;03m\"\"\"\u001b[39;00m\n\u001b[1;32m    782\u001b[0m \u001b[38;5;124;03m    Perform an indirect partition along the given axis using the\u001b[39;00m\n\u001b[1;32m    783\u001b[0m \u001b[38;5;124;03m    algorithm specified by the `kind` keyword. It returns an array of\u001b[39;00m\n\u001b[0;32m   (...)\u001b[0m\n\u001b[1;32m    856\u001b[0m \n\u001b[1;32m    857\u001b[0m \u001b[38;5;124;03m    \"\"\"\u001b[39;00m\n\u001b[0;32m--> 858\u001b[0m     \u001b[38;5;28;01mreturn\u001b[39;00m \u001b[43m_wrapfunc\u001b[49m\u001b[43m(\u001b[49m\u001b[43ma\u001b[49m\u001b[43m,\u001b[49m\u001b[43m \u001b[49m\u001b[38;5;124;43m'\u001b[39;49m\u001b[38;5;124;43margpartition\u001b[39;49m\u001b[38;5;124;43m'\u001b[39;49m\u001b[43m,\u001b[49m\u001b[43m \u001b[49m\u001b[43mkth\u001b[49m\u001b[43m,\u001b[49m\u001b[43m \u001b[49m\u001b[43maxis\u001b[49m\u001b[38;5;241;43m=\u001b[39;49m\u001b[43maxis\u001b[49m\u001b[43m,\u001b[49m\u001b[43m \u001b[49m\u001b[43mkind\u001b[49m\u001b[38;5;241;43m=\u001b[39;49m\u001b[43mkind\u001b[49m\u001b[43m,\u001b[49m\u001b[43m \u001b[49m\u001b[43morder\u001b[49m\u001b[38;5;241;43m=\u001b[39;49m\u001b[43morder\u001b[49m\u001b[43m)\u001b[49m\n",
      "File \u001b[0;32m~/miniconda3/envs/rog/lib/python3.9/site-packages/numpy/core/fromnumeric.py:59\u001b[0m, in \u001b[0;36m_wrapfunc\u001b[0;34m(obj, method, *args, **kwds)\u001b[0m\n\u001b[1;32m     56\u001b[0m     \u001b[38;5;28;01mreturn\u001b[39;00m _wrapit(obj, method, \u001b[38;5;241m*\u001b[39margs, \u001b[38;5;241m*\u001b[39m\u001b[38;5;241m*\u001b[39mkwds)\n\u001b[1;32m     58\u001b[0m \u001b[38;5;28;01mtry\u001b[39;00m:\n\u001b[0;32m---> 59\u001b[0m     \u001b[38;5;28;01mreturn\u001b[39;00m \u001b[43mbound\u001b[49m\u001b[43m(\u001b[49m\u001b[38;5;241;43m*\u001b[39;49m\u001b[43margs\u001b[49m\u001b[43m,\u001b[49m\u001b[43m \u001b[49m\u001b[38;5;241;43m*\u001b[39;49m\u001b[38;5;241;43m*\u001b[39;49m\u001b[43mkwds\u001b[49m\u001b[43m)\u001b[49m\n\u001b[1;32m     60\u001b[0m \u001b[38;5;28;01mexcept\u001b[39;00m \u001b[38;5;167;01mTypeError\u001b[39;00m:\n\u001b[1;32m     61\u001b[0m     \u001b[38;5;66;03m# A TypeError occurs if the object does have such a method in its\u001b[39;00m\n\u001b[1;32m     62\u001b[0m     \u001b[38;5;66;03m# class, but its signature is not identical to that of NumPy's. This\u001b[39;00m\n\u001b[0;32m   (...)\u001b[0m\n\u001b[1;32m     66\u001b[0m     \u001b[38;5;66;03m# Call _wrapit from within the except clause to ensure a potential\u001b[39;00m\n\u001b[1;32m     67\u001b[0m     \u001b[38;5;66;03m# exception has a traceback chain.\u001b[39;00m\n\u001b[1;32m     68\u001b[0m     \u001b[38;5;28;01mreturn\u001b[39;00m _wrapit(obj, method, \u001b[38;5;241m*\u001b[39margs, \u001b[38;5;241m*\u001b[39m\u001b[38;5;241m*\u001b[39mkwds)\n",
      "\u001b[0;31mValueError\u001b[0m: kth(=-1) out of bounds (4)"
     ]
    }
   ],
   "source": [
    "test_cases = []\n",
    "for index, sample in data.iterrows():\n",
    "    query = sample[\"question\"]\n",
    "    entities = []\n",
    "    for entity in sample[\"dbpedia_entities\"].values():\n",
    "        entities.append(entity.split(\"/\")[-1])\n",
    "\n",
    "    retrieved_context: list[str] = []\n",
    "    for entity in entities:\n",
    "        wikipedia_page = open(f\"OKG/wikipedia/{entity}.txt\", \"r\").read()\n",
    "        retrieved_context.append(\n",
    "            retrieve(\n",
    "                model_name=\"bm25\", entity=entity, query=query, top_k=5, verbose=False\n",
    "            )\n",
    "        )\n",
    "\n",
    "    test_cases.append(\n",
    "        LLMTestCase(\n",
    "            input=query,\n",
    "            actual_output=res_list[index],\n",
    "            retrieval_context=retrieved_context,\n",
    "        )\n",
    "    )"
   ]
  },
  {
   "cell_type": "code",
   "execution_count": 40,
   "metadata": {},
   "outputs": [
    {
     "name": "stderr",
     "output_type": "stream",
     "text": [
      "  0%|          | 0/50 [00:00<?, ?it/s]"
     ]
    },
    {
     "name": "stdout",
     "output_type": "stream",
     "text": [
      "Event loop is already running. Applying nest_asyncio patch to allow async execution...\n"
     ]
    },
    {
     "name": "stderr",
     "output_type": "stream",
     "text": [
      "  2%|▏         | 1/50 [00:36<29:57, 36.68s/it]"
     ]
    },
    {
     "name": "stdout",
     "output_type": "stream",
     "text": [
      "**************************************************\n",
      "Hallucination Verbose Logs\n",
      "**************************************************\n",
      "\n",
      "Truths:\n",
      "[\n",
      "    \"Socrates was a Greek philosopher from Athens.\",\n",
      "    \"Socrates is credited as the founder of Western philosophy.\",\n",
      "    \"Socrates is among the first moral philosophers of the ethical tradition of thought.\",\n",
      "    \"Socrates authored no texts.\",\n",
      "    \"Socrates is known mainly through the posthumous accounts of classical writers.\",\n",
      "    \"His students Plato and Xenophon wrote accounts of Socrates.\",\n",
      "    \"These accounts are written as dialogues.\",\n",
      "    \"Socrates was a polarizing figure in Athenian society.\",\n",
      "    \"In 399 BC, Socrates was accused of impiety and corrupting the youth.\",\n",
      "    \"Socrates was sentenced to death after a trial that lasted a day.\",\n",
      "    \"Socrates spent his last day in prison.\",\n",
      "    \"Socrates refused offers to help him escape from prison.\",\n",
      "    \"Plato's dialogues are among the most comprehensive accounts of Socrates to survive from antiquity.\",\n",
      "    \"Plato's dialogues demonstrate the Socratic approach to areas of philosophy including epistemology and ethics.\",\n",
      "    \"The Socratic method of questioning, or elenchus, takes shape in dialogue using short questions and answers.\",\n",
      "    \"Socrates is known for proclaiming his total ignorance.\",\n",
      "    \"Socrates used to say that the only thing he was aware of was his ignorance.\",\n",
      "    \"Socrates exerted a strong influence on philosophers in later antiquity and in the modern era.\",\n",
      "    \"Socrates was studied by medieval and Islamic scholars.\",\n",
      "    \"Socrates played an important role in the thought of the Italian Renaissance.\",\n",
      "    \"Socrates was depicted in art, literature, and popular culture.\",\n",
      "    \"Socrates died in Athens in 399 BC.\",\n",
      "    \"Socrates died after drinking poison hemlock.\",\n",
      "    \"Confucius was a Chinese philosopher of the Spring and Autumn period.\",\n",
      "    \"Confucius's philosophical teachings are called Confucianism.\",\n",
      "    \"Confucius emphasized personal and governmental morality, harmonious social relationships, righteousness, kindness, sincerity, and a ruler's responsibilities to lead by virtue.\",\n",
      "    \"Confucius advocated for filial piety.\",\n",
      "    \"Confucius recommended a robust family unit as the cornerstone for an ideal government.\",\n",
      "    \"Confucius championed the Silver Rule, advising, 'Do not do unto others what you do not want done to yourself.'\",\n",
      "    \"Confucius's ideas gained in prominence during the Warring States period.\",\n",
      "    \"Confucius's ideas experienced setbacks immediately following the Qin conquest.\",\n",
      "    \"Under Emperor Wu of Han, Confucius's ideas received official sanction.\",\n",
      "    \"Confucius's affiliated works became mandatory readings for career paths leading to officialdom under Emperor Wu of Han.\",\n",
      "    \"During the Tang and Song dynasties, Confucianism developed into a system known in the West as Neo-Confucianism.\",\n",
      "    \"Confucianism has integrated into the Chinese social fabric and way of life from ancient dynasties to the modern era.\",\n",
      "    \"Confucius is traditionally credited with having authored or edited many of the ancient texts including all of the Five Classics.\",\n",
      "    \"Aphorisms concerning Confucius's teachings were compiled in the Analects, but not until many years after his death.\",\n",
      "    \"The name 'Confucius' is a Latinized form of the Mandarin Chinese Kǒng Fūzǐ.\",\n",
      "    \"Confucius's family name was Kong.\",\n",
      "    \"Confucius's given name was Qiu.\",\n",
      "    \"Confucius's courtesy name was Zhongni.\",\n",
      "    \"Confucius was born in Zou, in modern Shandong.\",\n",
      "    \"Confucius's father was Kong He.\",\n",
      "    \"Confucius's father's ancestry traced back through the dukes of Song to the Shang dynasty.\",\n",
      "    \"Confucius's father died when Confucius was three years old.\",\n",
      "    \"Confucius was raised by his mother Yan Zhengzai.\",\n",
      "    \"Confucius married Lady Qiguan.\",\n",
      "    \"Confucius had a son named Kong Li.\",\n",
      "    \"Confucius studied and learned the Six Arts.\",\n",
      "    \"Confucius worked in various government jobs during his early 20s.\",\n",
      "    \"Confucius mourned for three years when his mother died.\",\n",
      "    \"Confucius was appointed to the minor position of governor of a town in 501 BCE.\",\n",
      "    \"Confucius rose to the position of Minister of Crime.\",\n",
      "    \"Confucius desired to return the authority of the state to the duke by dismantling the fortifications of the city.\",\n",
      "    \"Confucius left the state of Lu without resigning in 497 BCE.\",\n",
      "    \"Confucius travelled around the principality states of north-east and central China.\",\n",
      "    \"Confucius returned home to Lu when he was 68.\",\n",
      "    \"Confucius spent his last years teaching 3000 pupils.\",\n",
      "    \"Confucius had 72 or 77 accomplished disciples that mastered the Six Arts.\",\n",
      "    \"Confucius was buried on the bank of the Sishui River, to the north of Qufu City in Shandong Province.\",\n",
      "    \"Confucius's cemetery is included in the World Heritage List for its cultural and architectural value.\",\n",
      "    \"Confucius presents himself as a 'transmitter who invented nothing' in the Analects.\",\n",
      "    \"Confucius emphasized the importance of study.\",\n",
      "    \"Confucius's teachings are compiled in the Analects.\",\n",
      "    \"Confucius's moral teachings emphasized self-cultivation, emulation of moral exemplars, and the attainment of skilled judgment.\",\n",
      "    \"Confucius advocated the Silver Rule: 'Do not do unto others what you do not want done to yourself.'\",\n",
      "    \"Confucius's political thought is based upon his ethical thought.\",\n",
      "    \"Confucius argued that the best government is one that rules through 'rites' (lǐ) and people's natural morality.\",\n",
      "    \"Confucius believed that rulers should lead by example.\",\n",
      "    \"Confucius promoted the use of music with rituals.\",\n",
      "    \"Confucius's teachings were turned into an elaborate set of rules and practices by his disciples.\",\n",
      "    \"Confucius's disciples organized his teachings into the Analects.\",\n",
      "    \"Confucius's teachings were spread to students who then became officials in many of the royal courts in China.\",\n",
      "    \"Confucius's ideas gained more widespread prominence under the Han and Tang dynasties.\",\n",
      "    \"Confucian ideas were made the official imperial philosophy under Wudi.\",\n",
      "    \"Confucian works were made required reading for civil service examinations in 140 BCE.\",\n",
      "    \"Confucian ideas and officials were relied upon in the Ming dynasty.\",\n",
      "    \"The works of Confucius were first translated into European languages by Jesuit missionaries in the 16th century.\",\n",
      "    \"Confucius's works are studied by scholars in many other Asian countries.\",\n",
      "    \"Confucius is worshipped as a holy king and master of magic, divination, and astrology among Tibetans.\",\n",
      "    \"Asteroid 7853 was named 'Confucius' after the Chinese thinker.\",\n",
      "    \"Confucius devoted his entire life to teaching.\",\n",
      "    \"Confucius pioneered private education in China.\",\n",
      "    \"Confucius taught more than 3,000 students in his life.\",\n",
      "    \"Confucius did not charge any tuition, only requesting a symbolic gift of a bundle of dried meat.\",\n",
      "    \"Confucius's favorite disciple was Yan Hui.\",\n",
      "    \"Confucius often engaged in discussion and debate with his students.\",\n",
      "    \"Confucius advocated loyalty to principle rather than to individual acumen.\",\n",
      "    \"Confucius's influence has been observed on multiple Western thinkers.\",\n",
      "    \"There is a standard portrait of Confucius commissioned in 2006 based on the Tang dynasty portrait by Wu Daozi.\",\n",
      "    \"There have been two film adaptations of Confucius's life: the 1940 film Confucius and the 2010 film Confucius.\",\n",
      "    \"Qufu, Confucius's home town, became a place of devotion and remembrance soon after his death.\",\n",
      "    \"Confucius's descendants were identified and honored by successive imperial governments with titles of nobility and official posts.\",\n",
      "    \"Confucius's descendants in Quzhou alone number 30,000.\",\n",
      "    \"A descendant of Confucius, H. H. Kung, was the Premier of the Republic of China.\",\n",
      "    \"Confucius's family, the Kongs, have the longest recorded extant pedigree in the world today.\",\n",
      "    \"Confucius has two million known and registered descendants.\",\n",
      "    \"Confucius's descendants include actors such as Gong Yoo and Gong Hyo-jin.\",\n",
      "    \"The fifth edition of the Confucius genealogy was printed in 2009.\"\n",
      "]\n",
      "\n",
      "Claims:\n",
      "[\n",
      "    \"Socrates and Confucius are two of the most influential philosophers in Western and Eastern traditions, respectively, and their ethical viewpoints offer both similarities and contrasts that reflect their cultural contexts.\",\n",
      "    \"Both Socrates and Confucius placed a high value on virtue as central to ethical behavior.\",\n",
      "    \"Socrates famously asserted that knowledge is virtue, suggesting that understanding what is good naturally leads to good actions.\",\n",
      "    \"Confucius emphasized the importance of moral character and the cultivation of virtues such as benevolence (ren), righteousness (yi), and propriety (li).\",\n",
      "    \"Both philosophers believed in the importance of the individual in ethical development.\",\n",
      "    \"Socrates encouraged self-examination and the pursuit of personal wisdom through dialogue and questioning, famously claiming that 'the unexamined life is not worth living.'\",\n",
      "    \"Confucius highlighted the individual's responsibility to cultivate their character and contribute positively to society.\",\n",
      "    \"Both thinkers recognized the significance of relationships in ethical life.\",\n",
      "    \"For Socrates, ethical behavior was often discussed in the context of friendship and the Socratic method of dialogue.\",\n",
      "    \"Confucius formulated the concept of 'ren,' which is deeply rooted in the notion of compassion and respect within familial and social relationships.\",\n",
      "    \"Socrates operated within the context of Athenian democracy and was concerned with individual morality and the pursuit of truth, often challenging societal norms.\",\n",
      "    \"Confucius emerged in a feudal Chinese society that valued hierarchy and social order, focusing on ethical behavior within the framework of familial and societal roles.\",\n",
      "    \"Socratic ethics is characterized by dialectical reasoning and a constant questioning of beliefs, seeking to uncover universal truths through critical thinking.\",\n",
      "    \"Confucius emphasized the importance of tradition, rituals, and the teachings of the ancients, advocating for a more prescriptive approach to ethics grounded in established norms and practices.\",\n",
      "    \"For Socrates, the ultimate aim of ethics was the pursuit of truth and the development of the soul, viewing moral knowledge as intrinsically linked to a good life.\",\n",
      "    \"Confucius viewed ethical behavior as essential for social harmony and order, prioritizing the collective well-being of society over individual pursuits.\"\n",
      "]\n",
      "\n",
      "Verdicts:\n",
      "[\n",
      "    {\n",
      "        \"verdict\": \"idk\",\n",
      "        \"reason\": null\n",
      "    },\n",
      "    {\n",
      "        \"verdict\": \"idk\",\n",
      "        \"reason\": null\n",
      "    },\n",
      "    {\n",
      "        \"verdict\": \"idk\",\n",
      "        \"reason\": null\n",
      "    },\n",
      "    {\n",
      "        \"verdict\": \"idk\",\n",
      "        \"reason\": null\n",
      "    },\n",
      "    {\n",
      "        \"verdict\": \"idk\",\n",
      "        \"reason\": null\n",
      "    },\n",
      "    {\n",
      "        \"verdict\": \"idk\",\n",
      "        \"reason\": null\n",
      "    },\n",
      "    {\n",
      "        \"verdict\": \"idk\",\n",
      "        \"reason\": null\n",
      "    },\n",
      "    {\n",
      "        \"verdict\": \"idk\",\n",
      "        \"reason\": null\n",
      "    },\n",
      "    {\n",
      "        \"verdict\": \"idk\",\n",
      "        \"reason\": null\n",
      "    },\n",
      "    {\n",
      "        \"verdict\": \"idk\",\n",
      "        \"reason\": null\n",
      "    },\n",
      "    {\n",
      "        \"verdict\": \"idk\",\n",
      "        \"reason\": null\n",
      "    },\n",
      "    {\n",
      "        \"verdict\": \"idk\",\n",
      "        \"reason\": null\n",
      "    },\n",
      "    {\n",
      "        \"verdict\": \"idk\",\n",
      "        \"reason\": null\n",
      "    },\n",
      "    {\n",
      "        \"verdict\": \"idk\",\n",
      "        \"reason\": null\n",
      "    },\n",
      "    {\n",
      "        \"verdict\": \"idk\",\n",
      "        \"reason\": null\n",
      "    }\n",
      "]\n",
      "\n",
      "Score: 1.0\n",
      "Reason: The score is 1.00 because there are no contradictions. Great job!\n",
      "\n",
      "======================================================================\n",
      "1.0\n",
      "The score is 1.00 because there are no contradictions. Great job!\n",
      "Event loop is already running. Applying nest_asyncio patch to allow async execution...\n"
     ]
    },
    {
     "name": "stderr",
     "output_type": "stream",
     "text": [
      "  4%|▍         | 2/50 [01:03<24:53, 31.11s/it]"
     ]
    },
    {
     "name": "stdout",
     "output_type": "stream",
     "text": [
      "**************************************************\n",
      "Hallucination Verbose Logs\n",
      "**************************************************\n",
      "\n",
      "Truths:\n",
      "[\n",
      "    \"The Roman Empire was the state ruled by the Romans following Octavian's assumption of sole rule under the Principate in 27 BC.\",\n",
      "    \"The Roman Empire included territories in Europe, North Africa, and Western Asia.\",\n",
      "    \"The rulers of the Roman Empire were known as emperors.\",\n",
      "    \"The fall of the Western Roman Empire in 476 AD conventionally marks the end of classical antiquity and the beginning of the Middle Ages.\",\n",
      "    \"By 100 BC, Rome had expanded its rule to most of the Mediterranean and beyond.\",\n",
      "    \"The Roman Empire was severely destabilized by civil wars and political conflicts, which culminated in the victory of Octavian over Mark Antony and Cleopatra at the Battle of Actium in 31 BC.\",\n",
      "    \"In 27 BC, the Roman Senate granted Octavian overarching military power (imperium) and the new title of Augustus.\",\n",
      "    \"The first two centuries of the Roman Empire saw a period of unprecedented stability and prosperity known as the Pax Romana.\",\n",
      "    \"Rome reached its greatest territorial extent under Trajan, who ruled from 98 to 117 AD.\",\n",
      "    \"A period of increasing trouble and decline began under Commodus, who ruled from 180 to 192.\",\n",
      "    \"In the 3rd century, the Roman Empire underwent a 50-year crisis due to civil war, plagues, and barbarian invasions.\",\n",
      "    \"The Gallic and Palmyrene empires broke away from the Roman state.\",\n",
      "    \"The Roman Empire was later reunified under Aurelian, who ruled from 270 to 275.\",\n",
      "    \"The civil wars ended with the victory of Diocletian, who ruled from 284 to 305.\",\n",
      "    \"Diocletian set up two different imperial courts in the Greek East and Latin West.\",\n",
      "    \"Constantine the Great, who ruled from 306 to 337, was the first Christian emperor.\",\n",
      "    \"Constantine the Great moved the imperial seat from Rome to Byzantium in 330 and renamed it Constantinople.\",\n",
      "    \"The Migration Period, involving large invasions by Germanic peoples and by the Huns of Attila, led to the decline of the Western Roman Empire.\",\n",
      "    \"With the fall of Ravenna to the Germanic Herulians and the deposition of Romulus Augustus in 476, the Western Roman Empire finally collapsed.\",\n",
      "    \"The Eastern Roman Empire survived for another millennium with Constantinople as its sole capital, until the city's fall in 1453.\",\n",
      "    \"The institutions and culture of the Roman Empire had a lasting influence on the development of language, religion, art, architecture, literature, philosophy, law, and forms of government across its territories.\",\n",
      "    \"Latin evolved into the Romance languages while Medieval Greek became the language of the East.\",\n",
      "    \"The Empire's adoption of Christianity resulted in the formation of medieval Christendom.\",\n",
      "    \"Roman and Greek art had a profound impact on the Italian Renaissance.\",\n",
      "    \"Rome's architectural tradition served as the basis for Romanesque, Renaissance, and Neoclassical architecture, influencing Islamic architecture.\",\n",
      "    \"The rediscovery of classical science and technology in medieval Europe contributed to the Scientific Renaissance and Scientific Revolution.\",\n",
      "    \"Many modern legal systems, such as the Napoleonic Code, descend from Roman law.\",\n",
      "    \"Rome's republican institutions have influenced the Italian city-state republics of the medieval period, the early United States, and modern democratic republics.\",\n",
      "    \"The Ottoman Empire, historically and colloquially known as the Turkish Empire, was an imperial realm centered in Anatolia.\",\n",
      "    \"The Ottoman Empire controlled much of Southeast Europe, West Asia, and North Africa from the 14th to early 20th centuries.\",\n",
      "    \"The Ottoman Empire also controlled parts of southeastern Central Europe between the early 16th and early 18th centuries.\",\n",
      "    \"The Ottoman Empire emerged from a beylik founded in northwestern Anatolia in 1299 by Osman I.\",\n",
      "    \"The Ottomans ended the Byzantine Empire with the conquest of Constantinople in 1453 by Mehmed II.\",\n",
      "    \"Under Suleiman the Magnificent, who ruled from 1520 to 1566, the Ottoman Empire reached the peak of its power, prosperity, and political development.\",\n",
      "    \"By the start of the 17th century, the Ottomans presided over 32 provinces and numerous vassal states.\",\n",
      "    \"The Ottoman Empire had its capital at Constantinople (modern-day Istanbul).\",\n",
      "    \"The Ottoman Empire was at the center of interactions between the Middle East and Europe for six centuries.\",\n",
      "    \"Modern academic consensus posits that the Ottoman Empire maintained a flexible and strong economy, society, and military into much of the 18th century.\",\n",
      "    \"During a long period of peace from 1740 to 1768, the Ottoman military system fell behind those of its chief European rivals.\",\n",
      "    \"The Ottoman Empire suffered severe military defeats in the late 18th and early 19th centuries.\",\n",
      "    \"The Tanzimat was a comprehensive process of reform and modernization in the Ottoman Empire during the 19th century.\",\n",
      "    \"The Young Turk Revolution of 1908 established the Second Constitutional Era and introduced competitive multi-party elections under a constitutional monarchy.\",\n",
      "    \"The CUP led a coup d'état in 1913 that established a one-party regime.\",\n",
      "    \"The CUP allied with the German Empire and joined World War I on the side of the Central Powers.\",\n",
      "    \"During World War I, the Ottoman government engaged in genocide against Armenians, Assyrians, and Greeks.\",\n",
      "    \"In the aftermath of World War I, the victorious Allied Powers occupied and partitioned the Ottoman Empire.\",\n",
      "    \"The successful Turkish War of Independence led by Mustafa Kemal Atatürk resulted in the emergence of the Republic of Turkey and the abolition of the Ottoman monarchy in 1922.\",\n",
      "    \"The word Ottoman is a historical anglicization of the name of Osman I.\"\n",
      "]\n",
      "\n",
      "Claims:\n",
      "[\n",
      "    \"The Roman Empire and the Ottoman Empire, both significant powers in their respective eras, exhibit both similarities and differences in their administrative structures and practices.\",\n",
      "    \"Both empires maintained a strong central authority.\",\n",
      "    \"The Roman Empire was ruled by emperors who held supreme power.\",\n",
      "    \"The Ottoman Empire was led by sultans who wielded significant control over the state and its affairs.\",\n",
      "    \"Both empires developed complex bureaucracies to manage their vast territories.\",\n",
      "    \"The Romans had a well-established administrative system with various officials handling different aspects of governance, such as taxation, law, and public works.\",\n",
      "    \"The Ottomans employed a sophisticated administrative framework, including the divan (imperial council) and various provincial governors (beys).\",\n",
      "    \"Both empires implemented legal codes to govern their subjects.\",\n",
      "    \"The Romans had a comprehensive legal system that influenced many modern legal systems.\",\n",
      "    \"The Ottomans established a mix of Islamic law (Sharia) and customary laws (Kanun) to regulate society.\",\n",
      "    \"Both empires incorporated diverse cultures and peoples within their borders.\",\n",
      "    \"Both empires employed local elites and allowed a degree of autonomy to different cultural and religious groups, fostering a sense of loyalty among their subjects.\",\n",
      "    \"The Roman Empire had a more rigid administrative hierarchy, rooted in a system of patricians and plebeians, with power concentrated in a few elite families.\",\n",
      "    \"The Ottoman Empire had a more fluid structure, allowing for individuals from various backgrounds to rise to power, including non-Turks, through the devshirme system and meritocratic advancements.\",\n",
      "    \"The Roman Empire was primarily pagan at its inception and later adopted Christianity as the state religion, which influenced its administrative practices.\",\n",
      "    \"The Ottoman Empire was Islamic from the start, and its administration was heavily influenced by Islamic principles, including the role of religious leaders (ulema) in governance.\",\n",
      "    \"The Romans often established provinces governed by appointed officials, who reported directly to Rome.\",\n",
      "    \"The Ottomans utilized a millet system, allowing various religious communities to govern themselves under their own laws, which maintained social order and reduced the burden on central administration.\",\n",
      "    \"The Roman Empire faced significant challenges regarding succession, often leading to civil wars and instability.\",\n",
      "    \"The Ottomans had a more defined system of succession, although issues still arose, particularly with fratricide and power struggles among potential heirs.\",\n",
      "    \"While both the Roman and Ottoman Empires shared commonalities in their centralized authority and bureaucratic systems, they differed significantly in their administrative hierarchies, religious influences, approaches to provincial governance, and stability concerning succession.\"\n",
      "]\n",
      "\n",
      "Verdicts:\n",
      "[\n",
      "    {\n",
      "        \"verdict\": \"idk\",\n",
      "        \"reason\": null\n",
      "    },\n",
      "    {\n",
      "        \"verdict\": \"idk\",\n",
      "        \"reason\": null\n",
      "    },\n",
      "    {\n",
      "        \"verdict\": \"yes\",\n",
      "        \"reason\": null\n",
      "    },\n",
      "    {\n",
      "        \"verdict\": \"yes\",\n",
      "        \"reason\": null\n",
      "    },\n",
      "    {\n",
      "        \"verdict\": \"idk\",\n",
      "        \"reason\": null\n",
      "    },\n",
      "    {\n",
      "        \"verdict\": \"yes\",\n",
      "        \"reason\": null\n",
      "    },\n",
      "    {\n",
      "        \"verdict\": \"yes\",\n",
      "        \"reason\": null\n",
      "    },\n",
      "    {\n",
      "        \"verdict\": \"idk\",\n",
      "        \"reason\": null\n",
      "    },\n",
      "    {\n",
      "        \"verdict\": \"yes\",\n",
      "        \"reason\": null\n",
      "    },\n",
      "    {\n",
      "        \"verdict\": \"yes\",\n",
      "        \"reason\": null\n",
      "    },\n",
      "    {\n",
      "        \"verdict\": \"yes\",\n",
      "        \"reason\": null\n",
      "    },\n",
      "    {\n",
      "        \"verdict\": \"idk\",\n",
      "        \"reason\": null\n",
      "    },\n",
      "    {\n",
      "        \"verdict\": \"idk\",\n",
      "        \"reason\": null\n",
      "    },\n",
      "    {\n",
      "        \"verdict\": \"yes\",\n",
      "        \"reason\": null\n",
      "    },\n",
      "    {\n",
      "        \"verdict\": \"yes\",\n",
      "        \"reason\": null\n",
      "    },\n",
      "    {\n",
      "        \"verdict\": \"yes\",\n",
      "        \"reason\": null\n",
      "    },\n",
      "    {\n",
      "        \"verdict\": \"yes\",\n",
      "        \"reason\": null\n",
      "    },\n",
      "    {\n",
      "        \"verdict\": \"idk\",\n",
      "        \"reason\": null\n",
      "    },\n",
      "    {\n",
      "        \"verdict\": \"idk\",\n",
      "        \"reason\": null\n",
      "    },\n",
      "    {\n",
      "        \"verdict\": \"idk\",\n",
      "        \"reason\": null\n",
      "    }\n",
      "]\n",
      "\n",
      "Score: 1.0\n",
      "Reason: Excellent job! The score is 1.00 because there are no contradictions, indicating that the actual output is perfectly faithful to the retrieval context.\n",
      "\n",
      "======================================================================\n",
      "1.0\n",
      "Excellent job! The score is 1.00 because there are no contradictions, indicating that the actual output is perfectly faithful to the retrieval context.\n",
      "Event loop is already running. Applying nest_asyncio patch to allow async execution...\n"
     ]
    },
    {
     "name": "stderr",
     "output_type": "stream",
     "text": [
      "  6%|▌         | 3/50 [01:46<28:19, 36.16s/it]"
     ]
    },
    {
     "name": "stdout",
     "output_type": "stream",
     "text": [
      "**************************************************\n",
      "Hallucination Verbose Logs\n",
      "**************************************************\n",
      "\n",
      "Truths:\n",
      "[\n",
      "    \"John Fitzgerald Kennedy was born on May 29, 1917.\",\n",
      "    \"John Fitzgerald Kennedy died on November 22, 1963.\",\n",
      "    \"John Fitzgerald Kennedy is often referred to as JFK.\",\n",
      "    \"JFK was an American politician.\",\n",
      "    \"JFK served as the 35th president of the United States.\",\n",
      "    \"JFK served as the president from 1961 until his assassination in 1963.\",\n",
      "    \"JFK was the youngest person elected president.\",\n",
      "    \"JFK served during the Cold War.\",\n",
      "    \"Kennedy's foreign policy largely concerned relations with the Soviet Union and Cuba.\",\n",
      "    \"Kennedy was a Democrat.\",\n",
      "    \"Kennedy represented Massachusetts in both houses of the United States Congress prior to his presidency.\",\n",
      "    \"Kennedy was born in Brookline, Massachusetts.\",\n",
      "    \"Kennedy graduated from Harvard University in 1940.\",\n",
      "    \"Kennedy joined the U.S. Naval Reserve in 1941.\",\n",
      "    \"During World War II, Kennedy commanded PT boats in the Pacific theater.\",\n",
      "    \"Kennedy's survival following the sinking of PT-109 made him a war hero.\",\n",
      "    \"Kennedy earned the Navy and Marine Corps Medal for his actions during World War II.\",\n",
      "    \"Kennedy represented a working-class Boston district in the U.S. House of Representatives from 1947 to 1953.\",\n",
      "    \"Kennedy served as the junior senator for Massachusetts from 1953 to 1960.\",\n",
      "    \"Kennedy published his book 'Profiles in Courage' while in the Senate.\",\n",
      "    \"Kennedy's book 'Profiles in Courage' won a Pulitzer Prize.\",\n",
      "    \"Kennedy ran in the 1960 presidential election.\",\n",
      "    \"Kennedy defeated Richard Nixon in the 1960 presidential election.\",\n",
      "    \"Kennedy's presidency saw high tensions with communist states during the Cold War.\",\n",
      "    \"Kennedy increased American military advisers in South Vietnam.\",\n",
      "    \"The Strategic Hamlet Program began during Kennedy's presidency.\",\n",
      "    \"Kennedy authorized the Bay of Pigs Invasion in 1961.\",\n",
      "    \"The Bay of Pigs Invasion was a failed attempt to overthrow the Cuban government.\",\n",
      "    \"In October 1962, U.S. spy planes discovered Soviet missile bases in Cuba, leading to the Cuban Missile Crisis.\",\n",
      "    \"Kennedy sent an army convoy to reassure West Berliners in August 1961.\",\n",
      "    \"Kennedy delivered a famous speech in West Berlin in June 1963.\",\n",
      "    \"Kennedy signed the first nuclear weapons treaty in 1963.\",\n",
      "    \"Kennedy presided over the establishment of the Peace Corps.\",\n",
      "    \"Kennedy supported the civil rights movement.\",\n",
      "    \"Kennedy was assassinated in Dallas on November 22, 1963.\",\n",
      "    \"Lyndon B. Johnson assumed the presidency after Kennedy's assassination.\",\n",
      "    \"Lee Harvey Oswald was arrested for Kennedy's assassination.\",\n",
      "    \"Oswald was shot and killed by Jack Ruby two days after being arrested.\",\n",
      "    \"The FBI and the Warren Commission concluded that Oswald acted alone.\",\n",
      "    \"Congress enacted many of Kennedy's proposals after his death, including the Civil Rights Act of 1964.\",\n",
      "    \"Kennedy ranks highly in polls of U.S. presidents with historians and the general public.\",\n",
      "    \"Kennedy's personal life has been the focus of considerable interest following revelations of his chronic health ailments and extramarital affairs.\",\n",
      "    \"Kennedy is the most recent U.S. president to have died in office.\",\n",
      "    \"JFK's paternal grandfather was P. J. Kennedy.\",\n",
      "    \"Kennedy's maternal grandfather and namesake was John F. Fitzgerald.\",\n",
      "    \"All four of Kennedy's grandparents were children of Irish immigrants.\",\n",
      "    \"Kennedy had an older brother, Joseph Jr.\",\n",
      "    \"Kennedy had seven younger siblings: Rosemary, Kathleen, Eunice, Patricia, Robert, Jean, and Edward.\",\n",
      "    \"Kennedy's father amassed a private fortune and established trust funds for his nine children.\",\n",
      "    \"Kennedy's first exposure to politics was touring the Boston wards with his grandfather Fitzgerald.\",\n",
      "    \"The Kennedy family moved to the Riverdale neighborhood of New York City in September 1927.\",\n",
      "    \"The Kennedys spent summers and early autumns at their home in Hyannis Port, Massachusetts.\",\n",
      "    \"Kennedy attended the Canterbury School in New Milford, Connecticut for 8th grade.\",\n",
      "    \"Kennedy started attending Choate, a preparatory boarding school in Wallingford, Connecticut, in September 1931.\",\n",
      "    \"Kennedy graduated from Choate in June 1935.\",\n",
      "    \"Kennedy enrolled at Harvard College in September 1936.\",\n",
      "    \"Kennedy wrote occasionally for The Harvard Crimson, the campus newspaper.\",\n",
      "    \"Kennedy played football and was on the JV squad during his sophomore year.\",\n",
      "    \"Kennedy sailed overseas with his older brother to work at the American embassy in London in July 1938.\",\n",
      "    \"Kennedy graduated cum laude from Harvard with a Bachelor of Arts in government in 1940.\",\n",
      "    \"Kennedy enrolled at the Stanford Graduate School of Business in the fall of 1940.\",\n",
      "    \"Kennedy joined the United States Naval Reserve on September 24, 1941.\",\n",
      "    \"Kennedy was commissioned an ensign on October 26, 1941.\",\n",
      "    \"Kennedy completed six months of training at the Naval Reserve Officer Training School in Chicago.\",\n",
      "    \"Kennedy was assigned to Motor Torpedo Squadron TWO in April 1943.\",\n",
      "    \"Kennedy took command of PT-109 on April 24, 1943.\",\n",
      "    \"Kennedy was awarded the Navy and Marine Corps Medal for his actions following the collision of PT-109.\",\n",
      "    \"Kennedy commanded the PT-59 and took part in the rescue of marines on November 2.\",\n",
      "    \"Kennedy was honorably discharged from the Navy Reserve on March 1, 1945.\",\n",
      "    \"Kennedy's older brother, Joe Jr., was killed on an air mission on August 12, 1944.\",\n",
      "    \"Kennedy worked as a special correspondent for Hearst Newspapers in April 1945.\",\n",
      "    \"Kennedy won the Democratic primary for Massachusetts' 11th congressional district in 1946.\",\n",
      "    \"Kennedy served in the U.S. House of Representatives for six years.\",\n",
      "    \"Kennedy concentrated his attention on international affairs in the House.\",\n",
      "    \"Kennedy supported the Truman Doctrine.\",\n",
      "    \"Kennedy opposed the Labor Management Relations Act of 1947.\",\n",
      "    \"Kennedy criticized Truman and the State Department for contributing to the 'loss of China'.\",\n",
      "    \"Kennedy was active in the Boston Council of the Boy Scouts from 1946 to 1955.\",\n",
      "    \"Kennedy began preparing to run for the Senate in 1952.\",\n",
      "    \"Kennedy defeated Henry Cabot Lodge Jr. in the 1952 Senate election.\",\n",
      "    \"Kennedy married Jacqueline Bouvier in 1953.\",\n",
      "    \"Kennedy underwent several spinal operations over the next two years.\",\n",
      "    \"Kennedy published Profiles in Courage in 1956.\",\n",
      "    \"Kennedy won the Pulitzer Prize for Biography in 1957.\",\n",
      "    \"Kennedy joined the Senate's Select Committee on Labor Rackets in 1957.\",\n",
      "    \"Kennedy joined the Senate's Foreign Relations Committee in 1958.\",\n",
      "    \"Kennedy voted for the Civil Rights Act of 1957.\",\n",
      "    \"Kennedy began preparing to run for president after his re-election to the Senate in 1958.\",\n",
      "    \"Kennedy announced his candidacy for the Democratic presidential nomination on January 2, 1960.\",\n",
      "    \"Kennedy won several primaries in 1960, including Wisconsin and West Virginia.\",\n",
      "    \"Kennedy was nominated for president at the 1960 Democratic National Convention.\",\n",
      "    \"Kennedy chose Lyndon B. Johnson as his vice-presidential nominee.\",\n",
      "    \"Kennedy gave his 'New Frontier' speech when accepting the presidential nomination.\",\n",
      "    \"Kennedy participated in the first televised presidential debates in American history against Nixon.\",\n",
      "    \"Kennedy defeated Nixon in the 1960 presidential election.\",\n",
      "    \"Kennedy was sworn in as the 35th president on January 20, 1961.\",\n",
      "    \"Kennedy's inaugural address included the famous line 'Ask not what your country can do for you—ask what you can do for your country.'\",\n",
      "    \"Kennedy's administration established the Peace Corps.\",\n",
      "    \"Kennedy's administration established the Alliance for Progress with Latin America.\",\n",
      "    \"Kennedy's administration supported the Apollo program with the goal of landing a man on the Moon before 1970.\",\n",
      "    \"Kennedy supported the civil rights movement.\",\n",
      "    \"Kennedy was assassinated in Dallas on November 22, 1963.\",\n",
      "    \"Lyndon B. Johnson assumed the presidency after Kennedy's assassination.\",\n",
      "    \"Lee Harvey Oswald was arrested for the assassination.\",\n",
      "    \"Oswald was shot and killed by Jack Ruby two days later.\",\n",
      "    \"The FBI and the Warren Commission both concluded that Oswald had acted alone.\",\n",
      "    \"Congress enacted many of Kennedy's proposals after his death, including the Civil Rights Act of 1964.\",\n",
      "    \"Kennedy ranks highly in polls of U.S. presidents with historians and the general public.\",\n",
      "    \"Kennedy's personal life has been the focus of considerable sustained interest following public revelations in the 1970s of his chronic health ailments and extramarital affairs.\",\n",
      "    \"Kennedy is the most recent U.S. president to have died in office.\"\n",
      "]\n",
      "\n",
      "Claims:\n",
      "[\n",
      "    \"John F. Kennedy and Ronald Reagan are two iconic figures in American political history, both serving as Presidents during pivotal times, yet their economic policies reflect distinct ideologies and approaches.\",\n",
      "    \"Kennedy’s economic policies were heavily influenced by Keynesian economics, which advocates for active government intervention to manage economic cycles.\",\n",
      "    \"Kennedy believed that government spending could stimulate economic growth, especially during periods of recession.\",\n",
      "    \"In 1963, Kennedy proposed a significant tax cut aimed at boosting consumer spending and investment.\",\n",
      "    \"Kennedy believed that reducing taxes would lead to increased disposable income for individuals and businesses, thereby stimulating economic growth.\",\n",
      "    \"Kennedy’s administration emphasized social welfare programs aimed at addressing poverty and inequality.\",\n",
      "    \"Kennedy’s New Frontier initiative sought to expand education, healthcare, and aid to the poor.\",\n",
      "    \"Kennedy promoted trade expansion and was instrumental in negotiating the Trade Expansion Act of 1962, which aimed to reduce tariffs and increase international trade, particularly with European countries.\",\n",
      "    \"Reagan’s economic strategy was rooted in supply-side economics, which posits that lower taxes and decreased regulation will spur economic growth by incentivizing production and investment.\",\n",
      "    \"Reagan’s approach is often summarized by the phrase 'a rising tide lifts all boats.'\",\n",
      "    \"Reagan implemented significant tax cuts through the Economic Recovery Tax Act of 1981, aiming to reduce income tax rates for individuals and businesses.\",\n",
      "    \"Reagan believed that tax cuts would lead to increased investment and job creation.\",\n",
      "    \"A hallmark of Reagan’s economic policy was deregulation.\",\n",
      "    \"Reagan’s administration sought to reduce government intervention in the economy, believing that a free market would lead to more efficient outcomes and economic growth.\",\n",
      "    \"Reagan’s policies were characterized by a focus on combating inflation and reducing the federal budget deficit.\",\n",
      "    \"Reagan initially increased military spending, aiming to balance this with economic growth that would, in theory, increase government revenue from taxes.\",\n",
      "    \"Kennedy favored a more interventionist approach to manage the economy, while Reagan championed reducing government involvement, advocating for free-market principles.\",\n",
      "    \"Both presidents recognized the importance of tax policy, but Kennedy aimed for tax cuts to increase demand and consumer spending, whereas Reagan’s cuts were designed to incentivize production and investment.\",\n",
      "    \"Kennedy’s policies were framed in the context of post-war economic expansion, focusing on social equity and growth, while Reagan’s policies were responses to stagflation and economic challenges of the late 1970s and early 1980s.\",\n",
      "    \"Kennedy’s policies were more geared towards social welfare and reducing poverty, while Reagan’s were focused on economic growth through tax cuts and deregulation, often at the expense of social programs.\",\n",
      "    \"Kennedy actively pursued trade liberalization as a means to bolster the economy.\",\n",
      "    \"Reagan's administration faced challenges related to trade and had to navigate a complex global economic landscape, including trade deficits.\"\n",
      "]\n",
      "\n",
      "Verdicts:\n",
      "[\n",
      "    {\n",
      "        \"verdict\": \"idk\",\n",
      "        \"reason\": null\n",
      "    },\n",
      "    {\n",
      "        \"verdict\": \"idk\",\n",
      "        \"reason\": null\n",
      "    },\n",
      "    {\n",
      "        \"verdict\": \"idk\",\n",
      "        \"reason\": null\n",
      "    },\n",
      "    {\n",
      "        \"verdict\": \"idk\",\n",
      "        \"reason\": null\n",
      "    },\n",
      "    {\n",
      "        \"verdict\": \"idk\",\n",
      "        \"reason\": null\n",
      "    },\n",
      "    {\n",
      "        \"verdict\": \"idk\",\n",
      "        \"reason\": null\n",
      "    },\n",
      "    {\n",
      "        \"verdict\": \"idk\",\n",
      "        \"reason\": null\n",
      "    },\n",
      "    {\n",
      "        \"verdict\": \"idk\",\n",
      "        \"reason\": null\n",
      "    },\n",
      "    {\n",
      "        \"verdict\": \"idk\",\n",
      "        \"reason\": null\n",
      "    },\n",
      "    {\n",
      "        \"verdict\": \"idk\",\n",
      "        \"reason\": null\n",
      "    },\n",
      "    {\n",
      "        \"verdict\": \"idk\",\n",
      "        \"reason\": null\n",
      "    },\n",
      "    {\n",
      "        \"verdict\": \"idk\",\n",
      "        \"reason\": null\n",
      "    },\n",
      "    {\n",
      "        \"verdict\": \"idk\",\n",
      "        \"reason\": null\n",
      "    },\n",
      "    {\n",
      "        \"verdict\": \"idk\",\n",
      "        \"reason\": null\n",
      "    },\n",
      "    {\n",
      "        \"verdict\": \"idk\",\n",
      "        \"reason\": null\n",
      "    },\n",
      "    {\n",
      "        \"verdict\": \"idk\",\n",
      "        \"reason\": null\n",
      "    },\n",
      "    {\n",
      "        \"verdict\": \"idk\",\n",
      "        \"reason\": null\n",
      "    },\n",
      "    {\n",
      "        \"verdict\": \"idk\",\n",
      "        \"reason\": null\n",
      "    },\n",
      "    {\n",
      "        \"verdict\": \"idk\",\n",
      "        \"reason\": null\n",
      "    },\n",
      "    {\n",
      "        \"verdict\": \"idk\",\n",
      "        \"reason\": null\n",
      "    },\n",
      "    {\n",
      "        \"verdict\": \"idk\",\n",
      "        \"reason\": null\n",
      "    },\n",
      "    {\n",
      "        \"verdict\": \"idk\",\n",
      "        \"reason\": null\n",
      "    }\n",
      "]\n",
      "\n",
      "Score: 1.0\n",
      "Reason: The score is 1.00 because there are no contradictions.\n",
      "\n",
      "======================================================================\n",
      "1.0\n",
      "The score is 1.00 because there are no contradictions.\n",
      "Event loop is already running. Applying nest_asyncio patch to allow async execution...\n"
     ]
    },
    {
     "name": "stderr",
     "output_type": "stream",
     "text": [
      "  6%|▌         | 3/50 [02:13<34:55, 44.58s/it]\n"
     ]
    },
    {
     "ename": "KeyboardInterrupt",
     "evalue": "",
     "output_type": "error",
     "traceback": [
      "\u001b[0;31m---------------------------------------------------------------------------\u001b[0m",
      "\u001b[0;31mKeyboardInterrupt\u001b[0m                         Traceback (most recent call last)",
      "Cell \u001b[0;32mIn[40], line 10\u001b[0m\n\u001b[1;32m      1\u001b[0m metric \u001b[38;5;241m=\u001b[39m HallucinationMetric(\n\u001b[1;32m      2\u001b[0m     threshold\u001b[38;5;241m=\u001b[39m\u001b[38;5;241m0.5\u001b[39m,\n\u001b[1;32m      3\u001b[0m     model\u001b[38;5;241m=\u001b[39m\u001b[38;5;124m\"\u001b[39m\u001b[38;5;124mgpt-4o\u001b[39m\u001b[38;5;124m\"\u001b[39m,\n\u001b[0;32m   (...)\u001b[0m\n\u001b[1;32m      6\u001b[0m     strict_mode\u001b[38;5;241m=\u001b[39m\u001b[38;5;28;01mFalse\u001b[39;00m,\n\u001b[1;32m      7\u001b[0m )\n\u001b[1;32m      9\u001b[0m \u001b[38;5;28;01mfor\u001b[39;00m test_case \u001b[38;5;129;01min\u001b[39;00m tqdm(test_cases):\n\u001b[0;32m---> 10\u001b[0m     \u001b[43mmetric\u001b[49m\u001b[38;5;241;43m.\u001b[39;49m\u001b[43mmeasure\u001b[49m\u001b[43m(\u001b[49m\u001b[43mtest_case\u001b[49m\u001b[43m)\u001b[49m\n\u001b[1;32m     11\u001b[0m     \u001b[38;5;28mprint\u001b[39m(metric\u001b[38;5;241m.\u001b[39mscore)\n\u001b[1;32m     12\u001b[0m     \u001b[38;5;28mprint\u001b[39m(metric\u001b[38;5;241m.\u001b[39mreason)\n",
      "File \u001b[0;32m~/OpenKGQA/metrics/hallucination/metric.py:50\u001b[0m, in \u001b[0;36mHallucinationMetric.measure\u001b[0;34m(self, test_case)\u001b[0m\n\u001b[1;32m     48\u001b[0m \u001b[38;5;28;01mif\u001b[39;00m \u001b[38;5;28mself\u001b[39m\u001b[38;5;241m.\u001b[39masync_mode:\n\u001b[1;32m     49\u001b[0m     loop \u001b[38;5;241m=\u001b[39m get_or_create_event_loop()\n\u001b[0;32m---> 50\u001b[0m     \u001b[43mloop\u001b[49m\u001b[38;5;241;43m.\u001b[39;49m\u001b[43mrun_until_complete\u001b[49m\u001b[43m(\u001b[49m\u001b[38;5;28;43mself\u001b[39;49m\u001b[38;5;241;43m.\u001b[39;49m\u001b[43ma_measure\u001b[49m\u001b[43m(\u001b[49m\u001b[43mtest_case\u001b[49m\u001b[43m,\u001b[49m\u001b[43m \u001b[49m\u001b[43m_show_indicator\u001b[49m\u001b[38;5;241;43m=\u001b[39;49m\u001b[38;5;28;43;01mFalse\u001b[39;49;00m\u001b[43m)\u001b[49m\u001b[43m)\u001b[49m\n\u001b[1;32m     51\u001b[0m \u001b[38;5;28;01melse\u001b[39;00m:\n\u001b[1;32m     52\u001b[0m     \u001b[38;5;28mself\u001b[39m\u001b[38;5;241m.\u001b[39mtruths \u001b[38;5;241m=\u001b[39m \u001b[38;5;28mself\u001b[39m\u001b[38;5;241m.\u001b[39m_generate_truths(test_case\u001b[38;5;241m.\u001b[39mretrieval_context)\n",
      "File \u001b[0;32m~/miniconda3/envs/rog/lib/python3.9/site-packages/nest_asyncio.py:92\u001b[0m, in \u001b[0;36m_patch_loop.<locals>.run_until_complete\u001b[0;34m(self, future)\u001b[0m\n\u001b[1;32m     90\u001b[0m     f\u001b[38;5;241m.\u001b[39m_log_destroy_pending \u001b[38;5;241m=\u001b[39m \u001b[38;5;28;01mFalse\u001b[39;00m\n\u001b[1;32m     91\u001b[0m \u001b[38;5;28;01mwhile\u001b[39;00m \u001b[38;5;129;01mnot\u001b[39;00m f\u001b[38;5;241m.\u001b[39mdone():\n\u001b[0;32m---> 92\u001b[0m     \u001b[38;5;28;43mself\u001b[39;49m\u001b[38;5;241;43m.\u001b[39;49m\u001b[43m_run_once\u001b[49m\u001b[43m(\u001b[49m\u001b[43m)\u001b[49m\n\u001b[1;32m     93\u001b[0m     \u001b[38;5;28;01mif\u001b[39;00m \u001b[38;5;28mself\u001b[39m\u001b[38;5;241m.\u001b[39m_stopping:\n\u001b[1;32m     94\u001b[0m         \u001b[38;5;28;01mbreak\u001b[39;00m\n",
      "File \u001b[0;32m~/miniconda3/envs/rog/lib/python3.9/site-packages/nest_asyncio.py:115\u001b[0m, in \u001b[0;36m_patch_loop.<locals>._run_once\u001b[0;34m(self)\u001b[0m\n\u001b[1;32m    108\u001b[0m     heappop(scheduled)\n\u001b[1;32m    110\u001b[0m timeout \u001b[38;5;241m=\u001b[39m (\n\u001b[1;32m    111\u001b[0m     \u001b[38;5;241m0\u001b[39m \u001b[38;5;28;01mif\u001b[39;00m ready \u001b[38;5;129;01mor\u001b[39;00m \u001b[38;5;28mself\u001b[39m\u001b[38;5;241m.\u001b[39m_stopping\n\u001b[1;32m    112\u001b[0m     \u001b[38;5;28;01melse\u001b[39;00m \u001b[38;5;28mmin\u001b[39m(\u001b[38;5;28mmax\u001b[39m(\n\u001b[1;32m    113\u001b[0m         scheduled[\u001b[38;5;241m0\u001b[39m]\u001b[38;5;241m.\u001b[39m_when \u001b[38;5;241m-\u001b[39m \u001b[38;5;28mself\u001b[39m\u001b[38;5;241m.\u001b[39mtime(), \u001b[38;5;241m0\u001b[39m), \u001b[38;5;241m86400\u001b[39m) \u001b[38;5;28;01mif\u001b[39;00m scheduled\n\u001b[1;32m    114\u001b[0m     \u001b[38;5;28;01melse\u001b[39;00m \u001b[38;5;28;01mNone\u001b[39;00m)\n\u001b[0;32m--> 115\u001b[0m event_list \u001b[38;5;241m=\u001b[39m \u001b[38;5;28;43mself\u001b[39;49m\u001b[38;5;241;43m.\u001b[39;49m\u001b[43m_selector\u001b[49m\u001b[38;5;241;43m.\u001b[39;49m\u001b[43mselect\u001b[49m\u001b[43m(\u001b[49m\u001b[43mtimeout\u001b[49m\u001b[43m)\u001b[49m\n\u001b[1;32m    116\u001b[0m \u001b[38;5;28mself\u001b[39m\u001b[38;5;241m.\u001b[39m_process_events(event_list)\n\u001b[1;32m    118\u001b[0m end_time \u001b[38;5;241m=\u001b[39m \u001b[38;5;28mself\u001b[39m\u001b[38;5;241m.\u001b[39mtime() \u001b[38;5;241m+\u001b[39m \u001b[38;5;28mself\u001b[39m\u001b[38;5;241m.\u001b[39m_clock_resolution\n",
      "File \u001b[0;32m~/miniconda3/envs/rog/lib/python3.9/selectors.py:469\u001b[0m, in \u001b[0;36mEpollSelector.select\u001b[0;34m(self, timeout)\u001b[0m\n\u001b[1;32m    467\u001b[0m ready \u001b[38;5;241m=\u001b[39m []\n\u001b[1;32m    468\u001b[0m \u001b[38;5;28;01mtry\u001b[39;00m:\n\u001b[0;32m--> 469\u001b[0m     fd_event_list \u001b[38;5;241m=\u001b[39m \u001b[38;5;28;43mself\u001b[39;49m\u001b[38;5;241;43m.\u001b[39;49m\u001b[43m_selector\u001b[49m\u001b[38;5;241;43m.\u001b[39;49m\u001b[43mpoll\u001b[49m\u001b[43m(\u001b[49m\u001b[43mtimeout\u001b[49m\u001b[43m,\u001b[49m\u001b[43m \u001b[49m\u001b[43mmax_ev\u001b[49m\u001b[43m)\u001b[49m\n\u001b[1;32m    470\u001b[0m \u001b[38;5;28;01mexcept\u001b[39;00m \u001b[38;5;167;01mInterruptedError\u001b[39;00m:\n\u001b[1;32m    471\u001b[0m     \u001b[38;5;28;01mreturn\u001b[39;00m ready\n",
      "\u001b[0;31mKeyboardInterrupt\u001b[0m: "
     ]
    },
    {
     "name": "stdout",
     "output_type": "stream",
     "text": [
      "**************************************************\n",
      "Hallucination Verbose Logs\n",
      "**************************************************\n",
      "\n",
      "Truths:\n",
      "[\n",
      "    \"The New Deal was a series of programs, public work projects, financial reforms, and regulations enacted by President Franklin D. Roosevelt in the United States between 1933 and 1938 to rescue the U.S. from the Great Depression.\",\n",
      "    \"The New Deal included new constraints and safeguards on the banking industry and efforts to re-inflate the economy after prices had fallen sharply.\",\n",
      "    \"New Deal programs included both laws passed by Congress as well as presidential executive orders during the first term of the presidency of Franklin D. Roosevelt.\",\n",
      "    \"The programs focused on what historians refer to as the '3 R's': relief for the unemployed and for the poor, recovery of the economy back to normal levels, and reform of the financial system to prevent a repeat depression.\",\n",
      "    \"The New Deal produced a political realignment, making the Democratic Party the majority with its base in progressive ideas, the South, big city machines, the newly empowered labour unions, and various ethnic groups.\",\n",
      "    \"Republicans were split, with progressive Republicans in support but conservatives opposing the entire New Deal as hostile to business and economic growth.\",\n",
      "    \"The realignment crystallized into the New Deal coalition that dominated presidential elections into the 1960s and the opposing conservative coalition largely controlled Congress in domestic affairs from 1937 to 1964.\",\n",
      "    \"The Great Society was a set of domestic programs in the United States launched by President Lyndon B. Johnson in 1964 and 1965.\",\n",
      "    \"The term 'Great Society' was first referenced during a 1964 speech by Johnson at Ohio University, then later formally presented at the University of Michigan, and came to represent his domestic agenda.\",\n",
      "    \"The main goal of the Great Society was the total elimination of poverty and racial injustice.\",\n",
      "    \"New major federal programs that addressed civil rights, education, medical care, urban problems, rural poverty, and transportation were launched during this period.\",\n",
      "    \"Some Great Society initiatives were derived from earlier New Frontier proposals, which stalled during the Kennedy administration.\",\n",
      "    \"Johnson's success depended on his skills of persuasion, coupled with the Democratic landslide victory in the 1964 elections that brought in many new liberals to Congress.\",\n",
      "    \"In the 88th Congress, it was estimated that there were 56 liberals and 44 conservatives in the Senate, and 224 liberals and 211 conservatives in the House.\",\n",
      "    \"In the 89th Congress, it was estimated that there were 59 liberals and 41 conservatives in the Senate, and 267 liberals and 168 conservatives in the House.\",\n",
      "    \"Anti-war Democrats complained that spending on the Vietnam War choked off the Great Society.\",\n",
      "    \"Many Great Society programs, including Medicare, Medicaid, the Older Americans Act, and federal education funding, continue to the present.\",\n",
      "    \"The Great Society's programs expanded under the administrations of Republican Presidents Richard Nixon and Gerald Ford.\",\n",
      "    \"The Economic Opportunity Act of 1964 created an Office of Economic Opportunity (OEO) to oversee a variety of community-based antipoverty programs.\",\n",
      "    \"The Appalachian Regional Development Act of 1965 created jobs in one of the most impoverished regions of the country.\",\n",
      "    \"The Economic Opportunity Act of 1964 provided various methods through which young people from poor homes could receive job training and higher education.\",\n",
      "    \"The War on Poverty began with a $1 billion appropriation in 1964 and spent another $2 billion in the following two years.\",\n",
      "    \"The Elementary and Secondary Education Act of 1965 was designed by Commissioner of Education Francis Keppel.\",\n",
      "    \"The Elementary and Secondary Education Act of 1965 was signed into law on April 11, 1965, less than three months after it was introduced.\",\n",
      "    \"The Higher Education Facilities Act of 1963 was signed into law by Johnson a month after becoming president.\",\n",
      "    \"The Higher Education Act of 1965 increased federal money given to universities, created scholarships and low-interest loans for students, and established a national Teacher Corps.\",\n",
      "    \"The Social Security Act of 1965 authorized Medicare and provided federal funding for many of the medical costs of older Americans.\",\n",
      "    \"Medicaid was created on July 30, 1965, under Title XIX of the Social Security Act of 1965.\",\n",
      "    \"The National Endowment for the Arts and National Endowment for the Humanities were created as separate, independent agencies in September 1965.\",\n",
      "    \"The Public Broadcasting Act of 1967 chartered the Corporation for Public Broadcasting as a private, non-profit corporation.\",\n",
      "    \"The Department of Transportation was authorized by Congress on October 15, 1966, and began operations on April 1, 1967.\",\n",
      "    \"The Cigarette Labeling and Advertising Act of 1965 required packages to carry warning labels.\",\n",
      "    \"The Water Quality Act of 1965 was one of the environmental legislations enacted under the Great Society.\",\n",
      "    \"The Housing and Urban Development Act of 1965 included rent subsidies for low-income families and rehabilitation grants.\",\n",
      "    \"The Demonstration Cities Act of 1966 established a new program for comprehensive neighborhood renewal.\",\n",
      "    \"The Public Works and Economic Development Act of 1965 reorganized the Areas Redevelopment Administration into the Economic Development Administration (EDA).\",\n",
      "    \"The Service Contract Act of 1965 provided for minimum wages and fringe benefits as well as other conditions of work for contractors under certain types of service contracts.\",\n",
      "    \"The Urban Mass Transportation Act of 1964 provided $375 million for large-scale urban public or private rail projects.\",\n",
      "    \"The percentage of African Americans below the poverty line dropped from 55 percent in 1960 to 27 percent in 1968.\",\n",
      "    \"From 1964 to 1967, federal expenditures on education rose from $4 billion to $12 billion.\",\n",
      "    \"By the end of the Johnson Administration, 226 out of 252 major legislative requests (over a four-year period) had been met.\"\n",
      "]\n",
      "\n",
      "Claims:\n",
      "[\n",
      "    \"The economic policies of the New Deal and the Great Society sought to address pressing social and economic issues but did so in different contexts and with varying approaches.\",\n",
      "    \"The New Deal was implemented in response to the Great Depression, a severe economic downturn that resulted in widespread unemployment, bank failures, and a collapse of the financial system.\",\n",
      "    \"The primary goals of the New Deal were economic recovery, job creation, and social welfare.\",\n",
      "    \"The New Deal aimed to provide immediate relief to those suffering from the economic crisis and to stimulate the economy.\",\n",
      "    \"Key programs of the New Deal included the Civilian Conservation Corps (CCC), the Public Works Administration (PWA), and the Social Security Act.\",\n",
      "    \"The New Deal programs focused on direct job creation, infrastructure development, and social safety nets.\",\n",
      "    \"The New Deal embraced a more interventionist role for the federal government in the economy, promoting regulatory reforms and direct aid to citizens.\",\n",
      "    \"While the New Deal did not fully end the Great Depression, it provided essential support and set the foundation for future social safety nets.\",\n",
      "    \"The Great Society emerged during a period of economic prosperity and aimed to address issues of poverty, racial injustice, and education.\",\n",
      "    \"The Great Society reflected the civil rights movement's momentum.\",\n",
      "    \"The primary aims of the Great Society were to eliminate poverty and racial injustice, improve education, and enhance the overall quality of life in America.\",\n",
      "    \"Notable programs of the Great Society included Medicare, Medicaid, the Economic Opportunity Act, and the Elementary and Secondary Education Act.\",\n",
      "    \"The Great Society initiatives expanded healthcare access, provided job training, and improved educational opportunities.\",\n",
      "    \"The Great Society continued the federal government's expanded role but placed a stronger emphasis on social justice and civil rights.\",\n",
      "    \"The Great Society focused on systemic issues rather than just economic recovery.\",\n",
      "    \"The Great Society led to significant social reforms and expanded the welfare state.\",\n",
      "    \"The Great Society also faced criticism for increased government spending and debates over its effectiveness in reducing poverty.\",\n",
      "    \"Both the New Deal and the Great Society aimed to improve the lives of Americans but did so in different contexts.\",\n",
      "    \"The New Deal focused on economic recovery during a depression, while the Great Society sought to address systemic social issues in a time of relative affluence.\",\n",
      "    \"Each program expanded the role of the federal government.\",\n",
      "    \"The New Deal was more focused on economic stabilization, whereas the Great Society emphasized social justice and equity.\",\n",
      "    \"The New Deal was reactive, addressing immediate economic crises, while the Great Society was proactive, aiming to reshape society and eliminate poverty and discrimination.\",\n",
      "    \"The New Deal's policies were largely about job creation and economic support, whereas the Great Society's initiatives provided broader social services and aimed at systemic change.\",\n",
      "    \"Both the New Deal and the Great Society sought to improve the American social and economic landscape.\"\n",
      "]\n",
      "\n",
      "Verdicts:\n",
      "[\n",
      "    {\n",
      "        \"verdict\": \"yes\",\n",
      "        \"reason\": null\n",
      "    },\n",
      "    {\n",
      "        \"verdict\": \"yes\",\n",
      "        \"reason\": null\n",
      "    },\n",
      "    {\n",
      "        \"verdict\": \"yes\",\n",
      "        \"reason\": null\n",
      "    },\n",
      "    {\n",
      "        \"verdict\": \"yes\",\n",
      "        \"reason\": null\n",
      "    },\n",
      "    {\n",
      "        \"verdict\": \"idk\",\n",
      "        \"reason\": null\n",
      "    },\n",
      "    {\n",
      "        \"verdict\": \"yes\",\n",
      "        \"reason\": null\n",
      "    },\n",
      "    {\n",
      "        \"verdict\": \"yes\",\n",
      "        \"reason\": null\n",
      "    },\n",
      "    {\n",
      "        \"verdict\": \"yes\",\n",
      "        \"reason\": null\n",
      "    },\n",
      "    {\n",
      "        \"verdict\": \"yes\",\n",
      "        \"reason\": null\n",
      "    },\n",
      "    {\n",
      "        \"verdict\": \"yes\",\n",
      "        \"reason\": null\n",
      "    },\n",
      "    {\n",
      "        \"verdict\": \"yes\",\n",
      "        \"reason\": null\n",
      "    },\n",
      "    {\n",
      "        \"verdict\": \"yes\",\n",
      "        \"reason\": null\n",
      "    },\n",
      "    {\n",
      "        \"verdict\": \"yes\",\n",
      "        \"reason\": null\n",
      "    },\n",
      "    {\n",
      "        \"verdict\": \"yes\",\n",
      "        \"reason\": null\n",
      "    },\n",
      "    {\n",
      "        \"verdict\": \"yes\",\n",
      "        \"reason\": null\n",
      "    },\n",
      "    {\n",
      "        \"verdict\": \"yes\",\n",
      "        \"reason\": null\n",
      "    },\n",
      "    {\n",
      "        \"verdict\": \"yes\",\n",
      "        \"reason\": null\n",
      "    },\n",
      "    {\n",
      "        \"verdict\": \"yes\",\n",
      "        \"reason\": null\n",
      "    },\n",
      "    {\n",
      "        \"verdict\": \"yes\",\n",
      "        \"reason\": null\n",
      "    },\n",
      "    {\n",
      "        \"verdict\": \"yes\",\n",
      "        \"reason\": null\n",
      "    },\n",
      "    {\n",
      "        \"verdict\": \"yes\",\n",
      "        \"reason\": null\n",
      "    },\n",
      "    {\n",
      "        \"verdict\": \"yes\",\n",
      "        \"reason\": null\n",
      "    },\n",
      "    {\n",
      "        \"verdict\": \"yes\",\n",
      "        \"reason\": null\n",
      "    },\n",
      "    {\n",
      "        \"verdict\": \"yes\",\n",
      "        \"reason\": null\n",
      "    }\n",
      "]\n",
      "\n",
      "Score: 1.0\n",
      "Reason: The score is 1.00 because there are no contradictions. Great job maintaining accuracy and alignment with the retrieval context!\n",
      "\n",
      "======================================================================\n"
     ]
    }
   ],
   "source": [
    "metric = HallucinationMetric(\n",
    "    threshold=0.5,\n",
    "    model=\"gpt-4o\",\n",
    "    api_key=os.getenv(\"OPENAI_API_KEY\"),\n",
    "    include_reason=True,\n",
    "    strict_mode=False,\n",
    ")\n",
    "\n",
    "for test_case in tqdm(test_cases):\n",
    "    metric.measure(test_case)\n",
    "    print(metric.score)\n",
    "    print(metric.reason)"
   ]
  },
  {
   "cell_type": "code",
   "execution_count": 1,
   "metadata": {},
   "outputs": [
    {
     "name": "stdout",
     "output_type": "stream",
     "text": [
      "Event loop is already running. Applying nest_asyncio patch to allow async execution...\n",
      "**************************************************\n",
      "Hallucination Verbose Logs\n",
      "**************************************************\n",
      "\n",
      "Truths:\n",
      "[\n",
      "    \"All customers are eligible for a 30 day full refund at no extra cost.\",\n",
      "    \"The entity has a pair of shoes.\"\n",
      "]\n",
      "\n",
      "Claims:\n",
      "[\n",
      "    \"We offer a 30-day full refund at no extra cost.\",\n",
      "    \"We have a pair of shoes.\"\n",
      "]\n",
      "\n",
      "Verdicts:\n",
      "[\n",
      "    {\n",
      "        \"verdict\": \"yes\",\n",
      "        \"reason\": \"The actual output claims a 30-day full refund at no extra cost, which is correct as the retrieval context states it.\"\n",
      "    },\n",
      "    {\n",
      "        \"verdict\": \"yes\",\n",
      "        \"reason\": \"The actual output claims to have a pair of shoes, which is correct as the retrieval context states it.\"\n",
      "    }\n",
      "]\n",
      "\n",
      "Score: 1.0\n",
      "Reason: The score is 1.00 because there are no contradictions between the actual output and the retrieval context. Great job maintaining perfect faithfulness!\n",
      "\n",
      "======================================================================\n",
      "1.0\n",
      "The score is 1.00 because there are no contradictions between the actual output and the retrieval context. Great job maintaining perfect faithfulness!\n"
     ]
    }
   ],
   "source": [
    "import os\n",
    "from metrics.hallucination.metric import HallucinationMetric\n",
    "from metrics.llm_test_case import LLMTestCase\n",
    "from dotenv import load_dotenv\n",
    "\n",
    "load_dotenv()\n",
    "\n",
    "test_case = LLMTestCase(\n",
    "    input=\"\",\n",
    "    actual_output=\"We offer a 30-day full refund at no extra cost. We have a pair of shoes\",  # extract claims\n",
    "    retrieval_context=\"All customers are eligible for a 30 day full refund at no extra cost. We have a pair of shoes.\",\n",
    ")\n",
    "\n",
    "metric = HallucinationMetric(\n",
    "    threshold=0.5,\n",
    "    model=\"gpt-4o\",\n",
    "    api_key=os.getenv(\"OPENAI_API_KEY\"),\n",
    "    include_reason=True,\n",
    "    strict_mode=False,\n",
    ")\n",
    "\n",
    "metric.measure(test_case)\n",
    "print(metric.score)\n",
    "print(metric.reason)"
   ]
  },
  {
   "cell_type": "code",
   "execution_count": null,
   "metadata": {},
   "outputs": [],
   "source": []
  }
 ],
 "metadata": {
  "kernelspec": {
   "display_name": "rog",
   "language": "python",
   "name": "python3"
  },
  "language_info": {
   "codemirror_mode": {
    "name": "ipython",
    "version": 3
   },
   "file_extension": ".py",
   "mimetype": "text/x-python",
   "name": "python",
   "nbconvert_exporter": "python",
   "pygments_lexer": "ipython3",
   "version": "3.9.18"
  }
 },
 "nbformat": 4,
 "nbformat_minor": 2
}
